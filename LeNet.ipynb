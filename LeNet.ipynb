{
  "nbformat": 4,
  "nbformat_minor": 0,
  "metadata": {
    "colab": {
      "provenance": [],
      "toc_visible": true,
      "collapsed_sections": []
    },
    "kernelspec": {
      "name": "python3",
      "display_name": "Python 3"
    },
    "language_info": {
      "name": "python"
    },
    "accelerator": "GPU",
    "gpuClass": "standard",
    "widgets": {
      "application/vnd.jupyter.widget-state+json": {
        "2ab18b6473ac4368a16063809edd8a29": {
          "model_module": "@jupyter-widgets/controls",
          "model_name": "VBoxModel",
          "model_module_version": "1.5.0",
          "state": {
            "_dom_classes": [],
            "_model_module": "@jupyter-widgets/controls",
            "_model_module_version": "1.5.0",
            "_model_name": "VBoxModel",
            "_view_count": null,
            "_view_module": "@jupyter-widgets/controls",
            "_view_module_version": "1.5.0",
            "_view_name": "VBoxView",
            "box_style": "",
            "children": [
              "IPY_MODEL_b29fb10a766f4798b0b33bddc90c02ef",
              "IPY_MODEL_80a66e921f04489fb884f49e679ede10"
            ],
            "layout": "IPY_MODEL_8135621bb541482fa3fd92486d77c9c3"
          }
        },
        "b29fb10a766f4798b0b33bddc90c02ef": {
          "model_module": "@jupyter-widgets/controls",
          "model_name": "LabelModel",
          "model_module_version": "1.5.0",
          "state": {
            "_dom_classes": [],
            "_model_module": "@jupyter-widgets/controls",
            "_model_module_version": "1.5.0",
            "_model_name": "LabelModel",
            "_view_count": null,
            "_view_module": "@jupyter-widgets/controls",
            "_view_module_version": "1.5.0",
            "_view_name": "LabelView",
            "description": "",
            "description_tooltip": null,
            "layout": "IPY_MODEL_4fb556f826a54244b359efedc2ca8660",
            "placeholder": "​",
            "style": "IPY_MODEL_7514ffe4b7354a42919c77f9d5c63d41",
            "value": "0.036 MB of 0.036 MB uploaded (0.000 MB deduped)\r"
          }
        },
        "80a66e921f04489fb884f49e679ede10": {
          "model_module": "@jupyter-widgets/controls",
          "model_name": "FloatProgressModel",
          "model_module_version": "1.5.0",
          "state": {
            "_dom_classes": [],
            "_model_module": "@jupyter-widgets/controls",
            "_model_module_version": "1.5.0",
            "_model_name": "FloatProgressModel",
            "_view_count": null,
            "_view_module": "@jupyter-widgets/controls",
            "_view_module_version": "1.5.0",
            "_view_name": "ProgressView",
            "bar_style": "",
            "description": "",
            "description_tooltip": null,
            "layout": "IPY_MODEL_c2d0f1f709654e83ad5d53bcaabc6724",
            "max": 1,
            "min": 0,
            "orientation": "horizontal",
            "style": "IPY_MODEL_e103756e52e44dfb8f41d4bbe9c55c3f",
            "value": 1
          }
        },
        "8135621bb541482fa3fd92486d77c9c3": {
          "model_module": "@jupyter-widgets/base",
          "model_name": "LayoutModel",
          "model_module_version": "1.2.0",
          "state": {
            "_model_module": "@jupyter-widgets/base",
            "_model_module_version": "1.2.0",
            "_model_name": "LayoutModel",
            "_view_count": null,
            "_view_module": "@jupyter-widgets/base",
            "_view_module_version": "1.2.0",
            "_view_name": "LayoutView",
            "align_content": null,
            "align_items": null,
            "align_self": null,
            "border": null,
            "bottom": null,
            "display": null,
            "flex": null,
            "flex_flow": null,
            "grid_area": null,
            "grid_auto_columns": null,
            "grid_auto_flow": null,
            "grid_auto_rows": null,
            "grid_column": null,
            "grid_gap": null,
            "grid_row": null,
            "grid_template_areas": null,
            "grid_template_columns": null,
            "grid_template_rows": null,
            "height": null,
            "justify_content": null,
            "justify_items": null,
            "left": null,
            "margin": null,
            "max_height": null,
            "max_width": null,
            "min_height": null,
            "min_width": null,
            "object_fit": null,
            "object_position": null,
            "order": null,
            "overflow": null,
            "overflow_x": null,
            "overflow_y": null,
            "padding": null,
            "right": null,
            "top": null,
            "visibility": null,
            "width": null
          }
        },
        "4fb556f826a54244b359efedc2ca8660": {
          "model_module": "@jupyter-widgets/base",
          "model_name": "LayoutModel",
          "model_module_version": "1.2.0",
          "state": {
            "_model_module": "@jupyter-widgets/base",
            "_model_module_version": "1.2.0",
            "_model_name": "LayoutModel",
            "_view_count": null,
            "_view_module": "@jupyter-widgets/base",
            "_view_module_version": "1.2.0",
            "_view_name": "LayoutView",
            "align_content": null,
            "align_items": null,
            "align_self": null,
            "border": null,
            "bottom": null,
            "display": null,
            "flex": null,
            "flex_flow": null,
            "grid_area": null,
            "grid_auto_columns": null,
            "grid_auto_flow": null,
            "grid_auto_rows": null,
            "grid_column": null,
            "grid_gap": null,
            "grid_row": null,
            "grid_template_areas": null,
            "grid_template_columns": null,
            "grid_template_rows": null,
            "height": null,
            "justify_content": null,
            "justify_items": null,
            "left": null,
            "margin": null,
            "max_height": null,
            "max_width": null,
            "min_height": null,
            "min_width": null,
            "object_fit": null,
            "object_position": null,
            "order": null,
            "overflow": null,
            "overflow_x": null,
            "overflow_y": null,
            "padding": null,
            "right": null,
            "top": null,
            "visibility": null,
            "width": null
          }
        },
        "7514ffe4b7354a42919c77f9d5c63d41": {
          "model_module": "@jupyter-widgets/controls",
          "model_name": "DescriptionStyleModel",
          "model_module_version": "1.5.0",
          "state": {
            "_model_module": "@jupyter-widgets/controls",
            "_model_module_version": "1.5.0",
            "_model_name": "DescriptionStyleModel",
            "_view_count": null,
            "_view_module": "@jupyter-widgets/base",
            "_view_module_version": "1.2.0",
            "_view_name": "StyleView",
            "description_width": ""
          }
        },
        "c2d0f1f709654e83ad5d53bcaabc6724": {
          "model_module": "@jupyter-widgets/base",
          "model_name": "LayoutModel",
          "model_module_version": "1.2.0",
          "state": {
            "_model_module": "@jupyter-widgets/base",
            "_model_module_version": "1.2.0",
            "_model_name": "LayoutModel",
            "_view_count": null,
            "_view_module": "@jupyter-widgets/base",
            "_view_module_version": "1.2.0",
            "_view_name": "LayoutView",
            "align_content": null,
            "align_items": null,
            "align_self": null,
            "border": null,
            "bottom": null,
            "display": null,
            "flex": null,
            "flex_flow": null,
            "grid_area": null,
            "grid_auto_columns": null,
            "grid_auto_flow": null,
            "grid_auto_rows": null,
            "grid_column": null,
            "grid_gap": null,
            "grid_row": null,
            "grid_template_areas": null,
            "grid_template_columns": null,
            "grid_template_rows": null,
            "height": null,
            "justify_content": null,
            "justify_items": null,
            "left": null,
            "margin": null,
            "max_height": null,
            "max_width": null,
            "min_height": null,
            "min_width": null,
            "object_fit": null,
            "object_position": null,
            "order": null,
            "overflow": null,
            "overflow_x": null,
            "overflow_y": null,
            "padding": null,
            "right": null,
            "top": null,
            "visibility": null,
            "width": null
          }
        },
        "e103756e52e44dfb8f41d4bbe9c55c3f": {
          "model_module": "@jupyter-widgets/controls",
          "model_name": "ProgressStyleModel",
          "model_module_version": "1.5.0",
          "state": {
            "_model_module": "@jupyter-widgets/controls",
            "_model_module_version": "1.5.0",
            "_model_name": "ProgressStyleModel",
            "_view_count": null,
            "_view_module": "@jupyter-widgets/base",
            "_view_module_version": "1.2.0",
            "_view_name": "StyleView",
            "bar_color": null,
            "description_width": ""
          }
        }
      }
    }
  },
  "cells": [
    {
      "cell_type": "markdown",
      "metadata": {
        "id": "55GzB8QgaBId"
      },
      "source": [
        "# LeNet-5"
      ]
    },
    {
      "cell_type": "markdown",
      "metadata": {
        "id": "ApYpc47MFOYi"
      },
      "source": [
        "## Step 01: Setup"
      ]
    },
    {
      "cell_type": "markdown",
      "metadata": {
        "id": "ULBka-lQFJW9"
      },
      "source": [
        "Start out by installing the experiment tracking library and setting up your free W&B account:\n",
        "\n",
        "\n",
        "*   **pip install wandb** – Install the W&B library\n",
        "*   **import wandb** – Import the wandb library\n",
        "*   **wandb login** – Login to your W&B account so you can log all your metrics in one place"
      ]
    },
    {
      "cell_type": "code",
      "execution_count": 1,
      "metadata": {
        "id": "vWnFIWPuFXej",
        "colab": {
          "base_uri": "https://localhost:8080/"
        },
        "outputId": "08533bd1-743a-4c6b-b180-2d4f3a015b54"
      },
      "outputs": [
        {
          "output_type": "stream",
          "name": "stdout",
          "text": [
            "\u001b[K     |████████████████████████████████| 1.9 MB 21.5 MB/s \n",
            "\u001b[K     |████████████████████████████████| 182 kB 66.8 MB/s \n",
            "\u001b[K     |████████████████████████████████| 166 kB 66.8 MB/s \n",
            "\u001b[K     |████████████████████████████████| 63 kB 2.0 MB/s \n",
            "\u001b[K     |████████████████████████████████| 166 kB 72.5 MB/s \n",
            "\u001b[K     |████████████████████████████████| 162 kB 73.8 MB/s \n",
            "\u001b[K     |████████████████████████████████| 162 kB 76.2 MB/s \n",
            "\u001b[K     |████████████████████████████████| 158 kB 70.1 MB/s \n",
            "\u001b[K     |████████████████████████████████| 157 kB 55.5 MB/s \n",
            "\u001b[K     |████████████████████████████████| 157 kB 65.5 MB/s \n",
            "\u001b[K     |████████████████████████████████| 157 kB 74.7 MB/s \n",
            "\u001b[K     |████████████████████████████████| 157 kB 73.0 MB/s \n",
            "\u001b[K     |████████████████████████████████| 157 kB 71.8 MB/s \n",
            "\u001b[K     |████████████████████████████████| 157 kB 73.9 MB/s \n",
            "\u001b[K     |████████████████████████████████| 157 kB 68.2 MB/s \n",
            "\u001b[K     |████████████████████████████████| 156 kB 68.4 MB/s \n",
            "\u001b[?25h  Building wheel for pathtools (setup.py) ... \u001b[?25l\u001b[?25hdone\n"
          ]
        }
      ],
      "source": [
        "!pip install wandb -qU"
      ]
    },
    {
      "cell_type": "code",
      "source": [
        "# a Python package for tracking the carbon emissions produced by various\n",
        "# kinds of computer programs, from straightforward algorithms to deep neural networks.\n",
        "!pip install codecarbon"
      ],
      "metadata": {
        "id": "NBqatao0jyp5",
        "colab": {
          "base_uri": "https://localhost:8080/"
        },
        "outputId": "3fc358ea-4f88-42b5-92e9-07ebe434e6e3"
      },
      "execution_count": 2,
      "outputs": [
        {
          "output_type": "stream",
          "name": "stdout",
          "text": [
            "Looking in indexes: https://pypi.org/simple, https://us-python.pkg.dev/colab-wheels/public/simple/\n",
            "Collecting codecarbon\n",
            "  Downloading codecarbon-2.1.4-py3-none-any.whl (174 kB)\n",
            "\u001b[K     |████████████████████████████████| 174 kB 7.7 MB/s \n",
            "\u001b[?25hCollecting pynvml\n",
            "  Downloading pynvml-11.4.1-py3-none-any.whl (46 kB)\n",
            "\u001b[K     |████████████████████████████████| 46 kB 4.6 MB/s \n",
            "\u001b[?25hRequirement already satisfied: pandas in /usr/local/lib/python3.7/dist-packages (from codecarbon) (1.3.5)\n",
            "Collecting arrow\n",
            "  Downloading arrow-1.2.3-py3-none-any.whl (66 kB)\n",
            "\u001b[K     |████████████████████████████████| 66 kB 5.8 MB/s \n",
            "\u001b[?25hRequirement already satisfied: click in /usr/local/lib/python3.7/dist-packages (from codecarbon) (7.1.2)\n",
            "Collecting py-cpuinfo\n",
            "  Downloading py_cpuinfo-9.0.0-py3-none-any.whl (22 kB)\n",
            "Requirement already satisfied: requests in /usr/local/lib/python3.7/dist-packages (from codecarbon) (2.23.0)\n",
            "Collecting fuzzywuzzy\n",
            "  Downloading fuzzywuzzy-0.18.0-py2.py3-none-any.whl (18 kB)\n",
            "Requirement already satisfied: psutil in /usr/local/lib/python3.7/dist-packages (from codecarbon) (5.4.8)\n",
            "Requirement already satisfied: python-dateutil>=2.7.0 in /usr/local/lib/python3.7/dist-packages (from arrow->codecarbon) (2.8.2)\n",
            "Requirement already satisfied: typing-extensions in /usr/local/lib/python3.7/dist-packages (from arrow->codecarbon) (4.1.1)\n",
            "Requirement already satisfied: six>=1.5 in /usr/local/lib/python3.7/dist-packages (from python-dateutil>=2.7.0->arrow->codecarbon) (1.15.0)\n",
            "Requirement already satisfied: pytz>=2017.3 in /usr/local/lib/python3.7/dist-packages (from pandas->codecarbon) (2022.5)\n",
            "Requirement already satisfied: numpy>=1.17.3 in /usr/local/lib/python3.7/dist-packages (from pandas->codecarbon) (1.21.6)\n",
            "Requirement already satisfied: urllib3!=1.25.0,!=1.25.1,<1.26,>=1.21.1 in /usr/local/lib/python3.7/dist-packages (from requests->codecarbon) (1.24.3)\n",
            "Requirement already satisfied: chardet<4,>=3.0.2 in /usr/local/lib/python3.7/dist-packages (from requests->codecarbon) (3.0.4)\n",
            "Requirement already satisfied: idna<3,>=2.5 in /usr/local/lib/python3.7/dist-packages (from requests->codecarbon) (2.10)\n",
            "Requirement already satisfied: certifi>=2017.4.17 in /usr/local/lib/python3.7/dist-packages (from requests->codecarbon) (2022.9.24)\n",
            "Installing collected packages: pynvml, py-cpuinfo, fuzzywuzzy, arrow, codecarbon\n",
            "Successfully installed arrow-1.2.3 codecarbon-2.1.4 fuzzywuzzy-0.18.0 py-cpuinfo-9.0.0 pynvml-11.4.1\n"
          ]
        }
      ]
    },
    {
      "cell_type": "markdown",
      "metadata": {
        "id": "wcrOk6pURp50"
      },
      "source": [
        "### Import Packages"
      ]
    },
    {
      "cell_type": "code",
      "source": [
        "# import the necessary packages\n",
        "import logging\n",
        "import joblib\n",
        "import tensorflow as tf\n",
        "from tensorflow.keras.models import Sequential\n",
        "from tensorflow.keras.layers import BatchNormalization\n",
        "from tensorflow.keras.layers import Dropout\n",
        "from tensorflow.keras.layers import Conv2D\n",
        "from tensorflow.keras.layers import AveragePooling2D\n",
        "from tensorflow.keras.layers import Activation\n",
        "from tensorflow.keras.layers import Flatten\n",
        "from tensorflow.keras.layers import Dense\n",
        "from tensorflow.keras import backend as K\n",
        "from tensorflow.keras.optimizers import SGD, Adam\n",
        "from tensorflow.keras.datasets import mnist\n",
        "from sklearn.preprocessing import LabelBinarizer\n",
        "from tensorflow.keras import backend as K\n",
        "import matplotlib.pyplot as plt\n",
        "import numpy as np\n",
        "from codecarbon import EmissionsTracker\n",
        "from tensorflow.keras.callbacks import Callback\n",
        "from wandb.keras import WandbCallback\n",
        "from sklearn.metrics import classification_report\n",
        "from sklearn.metrics import fbeta_score, precision_score, recall_score, accuracy_score\n",
        "from sklearn.metrics import confusion_matrix\n",
        "from sklearn.metrics import ConfusionMatrixDisplay\n",
        "import wandb\n",
        "import cv2\n",
        "from tensorflow.keras.preprocessing.image import ImageDataGenerator"
      ],
      "metadata": {
        "id": "eRkPuQEg3_RL"
      },
      "execution_count": 3,
      "outputs": []
    },
    {
      "cell_type": "code",
      "source": [
        "wandb.login()"
      ],
      "metadata": {
        "id": "7ee2tdx7Cnfs",
        "colab": {
          "base_uri": "https://localhost:8080/",
          "height": 139
        },
        "outputId": "c5ce42e5-bef7-4581-dab3-f057a3f87c16"
      },
      "execution_count": 4,
      "outputs": [
        {
          "output_type": "stream",
          "name": "stderr",
          "text": [
            "ERROR:wandb.jupyter:Failed to detect the name of this notebook, you can set it manually with the WANDB_NOTEBOOK_NAME environment variable to enable code saving.\n"
          ]
        },
        {
          "output_type": "display_data",
          "data": {
            "text/plain": [
              "<IPython.core.display.Javascript object>"
            ],
            "application/javascript": [
              "\n",
              "        window._wandbApiKey = new Promise((resolve, reject) => {\n",
              "            function loadScript(url) {\n",
              "            return new Promise(function(resolve, reject) {\n",
              "                let newScript = document.createElement(\"script\");\n",
              "                newScript.onerror = reject;\n",
              "                newScript.onload = resolve;\n",
              "                document.body.appendChild(newScript);\n",
              "                newScript.src = url;\n",
              "            });\n",
              "            }\n",
              "            loadScript(\"https://cdn.jsdelivr.net/npm/postmate/build/postmate.min.js\").then(() => {\n",
              "            const iframe = document.createElement('iframe')\n",
              "            iframe.style.cssText = \"width:0;height:0;border:none\"\n",
              "            document.body.appendChild(iframe)\n",
              "            const handshake = new Postmate({\n",
              "                container: iframe,\n",
              "                url: 'https://wandb.ai/authorize'\n",
              "            });\n",
              "            const timeout = setTimeout(() => reject(\"Couldn't auto authenticate\"), 5000)\n",
              "            handshake.then(function(child) {\n",
              "                child.on('authorize', data => {\n",
              "                    clearTimeout(timeout)\n",
              "                    resolve(data)\n",
              "                });\n",
              "            });\n",
              "            })\n",
              "        });\n",
              "    "
            ]
          },
          "metadata": {}
        },
        {
          "output_type": "stream",
          "name": "stderr",
          "text": [
            "\u001b[34m\u001b[1mwandb\u001b[0m: Logging into wandb.ai. (Learn how to deploy a W&B server locally: https://wandb.me/wandb-server)\n",
            "\u001b[34m\u001b[1mwandb\u001b[0m: You can find your API key in your browser here: https://wandb.ai/authorize\n",
            "wandb: Paste an API key from your profile and hit enter, or press ctrl+c to quit: "
          ]
        },
        {
          "name": "stdout",
          "output_type": "stream",
          "text": [
            "··········\n"
          ]
        },
        {
          "output_type": "stream",
          "name": "stderr",
          "text": [
            "\u001b[34m\u001b[1mwandb\u001b[0m: Appending key for api.wandb.ai to your netrc file: /root/.netrc\n"
          ]
        },
        {
          "output_type": "execute_result",
          "data": {
            "text/plain": [
              "True"
            ]
          },
          "metadata": {},
          "execution_count": 4
        }
      ]
    },
    {
      "cell_type": "code",
      "source": [
        "# configure logging\n",
        "# reference for a logging obj\n",
        "logger = logging.getLogger()\n",
        "\n",
        "# set level of logging\n",
        "logger.setLevel(logging.INFO)\n",
        "\n",
        "# create handlers\n",
        "c_handler = logging.StreamHandler()\n",
        "c_format = logging.Formatter(fmt=\"%(asctime)s %(message)s\",datefmt='%d-%m-%Y %H:%M:%S')\n",
        "c_handler.setFormatter(c_format)\n",
        "\n",
        "# add handler to the logger\n",
        "logger.handlers[0] = c_handler"
      ],
      "metadata": {
        "id": "Xq0zG_132yC2"
      },
      "execution_count": 5,
      "outputs": []
    },
    {
      "cell_type": "markdown",
      "source": [
        "## Step 02: Implementing LeNet-5"
      ],
      "metadata": {
        "id": "fApD1K7W4vgq"
      }
    },
    {
      "cell_type": "markdown",
      "source": [
        "Source code based on **Rosebrock, Adrian. Deep Learning For Computer vision with Python, 2019** [link](https://pyimagesearch.com/deep-learning-computer-vision-python-book/)"
      ],
      "metadata": {
        "id": "b0pYGw2LK0Vy"
      }
    },
    {
      "cell_type": "code",
      "source": [
        "class LeNet:\n",
        "  ''' \n",
        "  # create LeNet-5 model\n",
        "  #\n",
        "  # it is composed of the 8 layers (5 layers considering FC as one layer) \n",
        "  # such as:\n",
        "  #      - 2 convolutional layers\n",
        "  #      - 2 subsampling (avg pooling) layers\n",
        "  #      - 1 flatten layer\n",
        "  #      - 2 fully connected layers\n",
        "  #      - 1 output layer with 10 outputs\n",
        "  '''\n",
        "  @staticmethod\n",
        "  def build(width, height, depth, classes):\n",
        "    # initialize the model\n",
        "    model = Sequential()\n",
        "    inputShape = (height, width, depth)\n",
        "    \n",
        "    # if we are using \"channels first\", update the input shape\n",
        "    if K.image_data_format() == \"channels_first\":\n",
        "      inputShape = (depth, height, width)\n",
        "   \n",
        "    # first set of CONV => RELU => POOL layers\n",
        "    model.add(Conv2D(6, (5,5), strides=1, padding='same',\n",
        "                     activation='tanh', input_shape=(28,28,1), )) #C1\n",
        "    model.add(AveragePooling2D()) #S2\n",
        "\n",
        "    # second set of CONV => RELU => POOL layers\n",
        "    model.add(Conv2D(16, (5,5), strides=1, padding='valid',\n",
        "                     activation='tanh')) #C3\n",
        "    model.add(AveragePooling2D()) #S4\n",
        "\n",
        "    # a flatten and two set of FC => RELU layers\n",
        "    model.add(Flatten()) #Flatten\n",
        "    model.add(Dense(120, activation='tanh')) #C5\n",
        "    model.add(Dense(84, activation='tanh')) #F6\n",
        "\n",
        "    # softmax classifier\n",
        "    model.add(Dense(10, activation='softmax')) #Output layer\n",
        "    \n",
        "    # return the constructed network architecture\n",
        "    return model"
      ],
      "metadata": {
        "id": "5Um7gG8YvhPL"
      },
      "execution_count": 6,
      "outputs": []
    },
    {
      "cell_type": "code",
      "source": [
        "# create a model object\n",
        "model = LeNet.build(28,28,1,10)\n",
        "\n",
        "# summarize layers\n",
        "model.summary()"
      ],
      "metadata": {
        "id": "eP-X_bzU8Q3B",
        "colab": {
          "base_uri": "https://localhost:8080/"
        },
        "outputId": "5a80d0b1-4980-4918-a9b1-560227b34436"
      },
      "execution_count": 7,
      "outputs": [
        {
          "output_type": "stream",
          "name": "stdout",
          "text": [
            "Model: \"sequential\"\n",
            "_________________________________________________________________\n",
            " Layer (type)                Output Shape              Param #   \n",
            "=================================================================\n",
            " conv2d (Conv2D)             (None, 28, 28, 6)         156       \n",
            "                                                                 \n",
            " average_pooling2d (AverageP  (None, 14, 14, 6)        0         \n",
            " ooling2D)                                                       \n",
            "                                                                 \n",
            " conv2d_1 (Conv2D)           (None, 10, 10, 16)        2416      \n",
            "                                                                 \n",
            " average_pooling2d_1 (Averag  (None, 5, 5, 16)         0         \n",
            " ePooling2D)                                                     \n",
            "                                                                 \n",
            " flatten (Flatten)           (None, 400)               0         \n",
            "                                                                 \n",
            " dense (Dense)               (None, 120)               48120     \n",
            "                                                                 \n",
            " dense_1 (Dense)             (None, 84)                10164     \n",
            "                                                                 \n",
            " dense_2 (Dense)             (None, 10)                850       \n",
            "                                                                 \n",
            "=================================================================\n",
            "Total params: 61,706\n",
            "Trainable params: 61,706\n",
            "Non-trainable params: 0\n",
            "_________________________________________________________________\n"
          ]
        }
      ]
    },
    {
      "cell_type": "markdown",
      "source": [
        "## Step 03: LeNet-5 on MNIST"
      ],
      "metadata": {
        "id": "UHbHH9ujABI7"
      }
    },
    {
      "cell_type": "markdown",
      "source": [
        "### Fetch, Preprocessing and Data Segregation\n",
        "\n",
        "1.   List item\n",
        "2.   List item\n",
        "\n"
      ],
      "metadata": {
        "id": "9f0aWuT2CbNI"
      }
    },
    {
      "cell_type": "code",
      "source": [
        "# since we are using Jupyter Notebooks we can replace our argument\n",
        "# parsing code with *hard coded* arguments and values\n",
        "args = {\n",
        "  \"project_name\": \"lenet-5\"\n",
        "}"
      ],
      "metadata": {
        "id": "GBKy-d7RAqFL"
      },
      "execution_count": 8,
      "outputs": []
    },
    {
      "cell_type": "code",
      "source": [
        "# open the W&B project created in the Fetch step\n",
        "run = wandb.init(entity=\"micaelbalza\",\n",
        "                 project=args[\"project_name\"], \n",
        "                 job_type=\"Train\")"
      ],
      "metadata": {
        "id": "P7RZlEXeAk-X",
        "colab": {
          "base_uri": "https://localhost:8080/",
          "height": 86
        },
        "outputId": "3c869ef7-b1c1-492d-dfc3-1aa88172e8df"
      },
      "execution_count": 9,
      "outputs": [
        {
          "output_type": "stream",
          "name": "stderr",
          "text": [
            "\u001b[34m\u001b[1mwandb\u001b[0m: Currently logged in as: \u001b[33mmicaelbalza\u001b[0m. Use \u001b[1m`wandb login --relogin`\u001b[0m to force relogin\n"
          ]
        },
        {
          "output_type": "display_data",
          "data": {
            "text/plain": [
              "<IPython.core.display.HTML object>"
            ],
            "text/html": [
              "Tracking run with wandb version 0.13.4"
            ]
          },
          "metadata": {}
        },
        {
          "output_type": "display_data",
          "data": {
            "text/plain": [
              "<IPython.core.display.HTML object>"
            ],
            "text/html": [
              "Run data is saved locally in <code>/content/wandb/run-20221103_133304-120huih4</code>"
            ]
          },
          "metadata": {}
        },
        {
          "output_type": "display_data",
          "data": {
            "text/plain": [
              "<IPython.core.display.HTML object>"
            ],
            "text/html": [
              "Syncing run <strong><a href=\"https://wandb.ai/micaelbalza/lenet-5/runs/120huih4\" target=\"_blank\">expert-universe-1</a></strong> to <a href=\"https://wandb.ai/micaelbalza/lenet-5\" target=\"_blank\">Weights & Biases</a> (<a href=\"https://wandb.me/run\" target=\"_blank\">docs</a>)<br/>"
            ]
          },
          "metadata": {}
        }
      ]
    },
    {
      "cell_type": "code",
      "source": [
        "# grab the MNIST dataset (if this is your first time using this\n",
        "# dataset then the 11MB download may take a second)\n",
        "logger.info(\"[INFO] accessing MNIST...\")\n",
        "((train_x, train_y), (test_x, test_y)) = mnist.load_data()\n",
        "\n",
        "logger.info(\"Train x: {}\".format(train_x.shape))\n",
        "logger.info(\"Train y: {}\".format(train_y.shape))\n",
        "logger.info(\"Test x: {}\".format(test_x.shape))\n",
        "logger.info(\"Test y: {}\".format(test_y.shape))"
      ],
      "metadata": {
        "id": "r-oEe_72ADE4",
        "colab": {
          "base_uri": "https://localhost:8080/"
        },
        "outputId": "19ff574b-0eed-4d87-f11b-8331f8d566ed"
      },
      "execution_count": 10,
      "outputs": [
        {
          "output_type": "stream",
          "name": "stderr",
          "text": [
            "03-11-2022 13:33:19 [INFO] accessing MNIST...\n"
          ]
        },
        {
          "output_type": "stream",
          "name": "stdout",
          "text": [
            "Downloading data from https://storage.googleapis.com/tensorflow/tf-keras-datasets/mnist.npz\n",
            "11490434/11490434 [==============================] - 2s 0us/step\n"
          ]
        },
        {
          "output_type": "stream",
          "name": "stderr",
          "text": [
            "03-11-2022 13:33:23 Train x: (60000, 28, 28)\n",
            "03-11-2022 13:33:23 Train y: (60000,)\n",
            "03-11-2022 13:33:23 Test x: (10000, 28, 28)\n",
            "03-11-2022 13:33:23 Test y: (10000,)\n"
          ]
        }
      ]
    },
    {
      "cell_type": "code",
      "source": [
        "# if we are using \"channels first\" ordering, then reshape the\n",
        "# design matrix such that the matrix is:\n",
        "# num_samples x depth x rows x columns\n",
        "if K.image_data_format() == \"channels_first\":\n",
        "\ttrain_x = train_x.reshape((train_x.shape[0], 1, 28, 28))\n",
        "\ttest_x = test_x.reshape((test_x.shape[0], 1, 28, 28))\n",
        " \n",
        "# otherwise, we are using \"channels last\" ordering, so the design\n",
        "# matrix shape should be: num_samples x rows x columns x depth\n",
        "else:\n",
        "\ttrain_x = train_x.reshape((train_x.shape[0], 28, 28, 1))\n",
        "\ttest_x = test_x.reshape((test_x.shape[0], 28, 28, 1))"
      ],
      "metadata": {
        "id": "y1R74jjyBP_J"
      },
      "execution_count": 11,
      "outputs": []
    },
    {
      "cell_type": "code",
      "source": [
        "logger.info(\"Train x: {}\".format(train_x.shape))\n",
        "logger.info(\"Train y: {}\".format(train_y.shape))\n",
        "logger.info(\"Test x: {}\".format(test_x.shape))\n",
        "logger.info(\"Test y: {}\".format(test_y.shape))"
      ],
      "metadata": {
        "id": "N8_HHtVNB-99",
        "colab": {
          "base_uri": "https://localhost:8080/"
        },
        "outputId": "213bcfe0-3e58-4c33-ec73-7b358d539196"
      },
      "execution_count": 12,
      "outputs": [
        {
          "output_type": "stream",
          "name": "stderr",
          "text": [
            "03-11-2022 13:33:42 Train x: (60000, 28, 28, 1)\n",
            "03-11-2022 13:33:42 Train y: (60000,)\n",
            "03-11-2022 13:33:42 Test x: (10000, 28, 28, 1)\n",
            "03-11-2022 13:33:42 Test y: (10000,)\n"
          ]
        }
      ]
    },
    {
      "cell_type": "code",
      "source": [
        "# scale data to the range of [0, 1]\n",
        "train_x = train_x.astype(\"float32\") / 255.0\n",
        "test_x = test_x.astype(\"float32\") / 255.0\n",
        "\n",
        "# convert the labels from integers to vectors\n",
        "lb = LabelBinarizer()\n",
        "train_y = lb.fit_transform(train_y)\n",
        "test_y = lb.transform(test_y)"
      ],
      "metadata": {
        "id": "881MdBT4CDCe"
      },
      "execution_count": 13,
      "outputs": []
    },
    {
      "cell_type": "markdown",
      "source": [
        "### Training"
      ],
      "metadata": {
        "id": "urEHaMh7CUDC"
      }
    },
    {
      "cell_type": "code",
      "source": [
        "# create codecarbon tracker\n",
        "# codecarbon is too much verbose, change the log level for more info\n",
        "tracker = EmissionsTracker(log_level=\"critical\")\n",
        "tracker.start()\n",
        "\n",
        "# initialize the optimizer and model\n",
        "logger.info(\"[INFO] compiling model...\")\n",
        "opt = Adam(learning_rate=0.01)\n",
        "model = LeNet.build(width=28, height=28, depth=1, classes=10)\n",
        "model.compile(loss=\"categorical_crossentropy\", optimizer=opt,\n",
        "              metrics=[\"accuracy\"])\n",
        "\n",
        "# train the network\n",
        "logger.info(\"[INFO] training network...\")\n",
        "history = model.fit(train_x, train_y,\n",
        "              validation_data=(test_x, test_y),\n",
        "              batch_size=32,\n",
        "              epochs=20, \n",
        "              verbose=0,\n",
        "              callbacks=[wandb.keras.WandbCallback(save_model=False,\n",
        "                                                   compute_flops=True)])\n",
        "\n",
        "# get co2 emissions from tracker\n",
        "# \"CO2 emission (in Kg)\"\n",
        "emissions = tracker.stop()"
      ],
      "metadata": {
        "id": "N8CP0u4uCikx",
        "colab": {
          "base_uri": "https://localhost:8080/"
        },
        "outputId": "eaf9a142-c6bb-4fb2-b6fb-60cedc5936e5"
      },
      "execution_count": 14,
      "outputs": [
        {
          "output_type": "stream",
          "name": "stderr",
          "text": [
            "03-11-2022 13:34:18 [INFO] compiling model...\n",
            "03-11-2022 13:34:18 [INFO] training network...\n",
            "03-11-2022 13:34:18 From /usr/local/lib/python3.7/dist-packages/tensorflow/python/ops/nn_ops.py:5219: tensor_shape_from_node_def_name (from tensorflow.python.framework.graph_util_impl) is deprecated and will be removed in a future version.\n",
            "Instructions for updating:\n",
            "Use `tf.compat.v1.graph_util.tensor_shape_from_node_def_name`\n"
          ]
        }
      ]
    },
    {
      "cell_type": "markdown",
      "source": [
        "### Evaluation Metrics"
      ],
      "metadata": {
        "id": "p-sPBwNTDxfD"
      }
    },
    {
      "cell_type": "code",
      "source": [
        "# plot the training loss and accuracy\n",
        "plt.style.use(\"ggplot\")\n",
        "fig, ax = plt.subplots(1,1,figsize=(10,8))\n",
        "\n",
        "ax.plot(np.arange(0, 20), history.history[\"loss\"], label=\"train_loss\",linestyle='--')\n",
        "ax.plot(np.arange(0, 20), history.history[\"val_loss\"], label=\"val_loss\",linestyle='--')\n",
        "ax.plot(np.arange(0, 20), history.history[\"accuracy\"], label=\"train_acc\")\n",
        "ax.plot(np.arange(0, 20), history.history[\"val_accuracy\"], label=\"val_acc\")\n",
        "ax.set_title(\"Training Loss and Accuracy\")\n",
        "ax.set_xlabel(\"Epoch #\")\n",
        "ax.set_ylabel(\"Loss/Accuracy\")\n",
        "ax.legend()\n",
        "plt.show()"
      ],
      "metadata": {
        "id": "IxJLUUHbF4Zp",
        "colab": {
          "base_uri": "https://localhost:8080/",
          "height": 517
        },
        "outputId": "d1dbe85a-f7e0-46eb-8d1f-9356abd0ef7c"
      },
      "execution_count": 15,
      "outputs": [
        {
          "output_type": "display_data",
          "data": {
            "text/plain": [
              "<Figure size 720x576 with 1 Axes>"
            ],
            "image/png": "[encoded data removed]"
          },
          "metadata": {}
        }
      ]
    },
    {
      "cell_type": "code",
      "source": [
        "print(\"[INFO] {} kWh of electricity used since the begining\".format(tracker.final_emissions_data.energy_consumed))\n",
        "print(\"[INFO] Energy consumed for RAM: {} kWh\".format(tracker.final_emissions_data.ram_energy))\n",
        "print(\"[INFO] Energy consumed for all GPU: {} kWh\".format(tracker.final_emissions_data.gpu_energy))\n",
        "print(\"[INFO] Energy consumed for all CPU: {} kWh\".format(tracker.final_emissions_data.cpu_energy))\n",
        "print(\"[INFO] CO2 emission {}(in Kg)\".format(tracker.final_emissions_data.emissions))"
      ],
      "metadata": {
        "id": "5Ta3SUAcF7-9",
        "colab": {
          "base_uri": "https://localhost:8080/"
        },
        "outputId": "4aa0852f-10db-45ad-e237-6e87115504bf"
      },
      "execution_count": 16,
      "outputs": [
        {
          "output_type": "stream",
          "name": "stdout",
          "text": [
            "[INFO] 0.0025667622026101246 kWh of electricity used since the begining\n",
            "[INFO] Energy consumed for RAM: 0.00016076880418977737 kWh\n",
            "[INFO] Energy consumed for all GPU: 0.0009682026941501433 kWh\n",
            "[INFO] Energy consumed for all CPU: 0.001437790704270204 kWh\n",
            "[INFO] CO2 emission 0.001619583734373237(in Kg)\n"
          ]
        }
      ]
    },
    {
      "cell_type": "code",
      "source": [
        "# evaluate the network\n",
        "print(\"[INFO] evaluating network...\")\n",
        "predictions = model.predict(test_x, batch_size=32)\n",
        "print(classification_report(test_y.argmax(axis=1),\n",
        "                            predictions.argmax(axis=1),\n",
        "                            target_names=[str(i) for i in lb.classes_]))"
      ],
      "metadata": {
        "id": "cny66Cg6GZcc",
        "colab": {
          "base_uri": "https://localhost:8080/"
        },
        "outputId": "3be3c9d2-f6b7-43dc-fc16-d03b41a0b3e8"
      },
      "execution_count": 17,
      "outputs": [
        {
          "output_type": "stream",
          "name": "stdout",
          "text": [
            "[INFO] evaluating network...\n",
            "313/313 [==============================] - 1s 2ms/step\n",
            "              precision    recall  f1-score   support\n",
            "\n",
            "           0       0.98      0.95      0.97       980\n",
            "           1       0.98      0.97      0.98      1135\n",
            "           2       0.92      0.97      0.95      1032\n",
            "           3       0.95      0.94      0.95      1010\n",
            "           4       0.91      0.97      0.94       982\n",
            "           5       0.95      0.95      0.95       892\n",
            "           6       0.97      0.96      0.96       958\n",
            "           7       0.95      0.93      0.94      1028\n",
            "           8       0.94      0.93      0.93       974\n",
            "           9       0.94      0.92      0.93      1009\n",
            "\n",
            "    accuracy                           0.95     10000\n",
            "   macro avg       0.95      0.95      0.95     10000\n",
            "weighted avg       0.95      0.95      0.95     10000\n",
            "\n"
          ]
        }
      ]
    },
    {
      "cell_type": "code",
      "source": [
        "fig_confusion_matrix, ax = plt.subplots(1,1,figsize=(7,4))\n",
        "ConfusionMatrixDisplay(confusion_matrix(predictions.argmax(axis=1),\n",
        "                                        test_y.argmax(axis=1)),\n",
        "                       display_labels=lb.classes_).plot(values_format=\".0f\",ax=ax)\n",
        "\n",
        "ax.set_xlabel(\"True Label\")\n",
        "ax.set_ylabel(\"Predicted Label\")\n",
        "ax.grid(False)\n",
        "plt.show()"
      ],
      "metadata": {
        "id": "USpEF3HXGdh9",
        "colab": {
          "base_uri": "https://localhost:8080/",
          "height": 282
        },
        "outputId": "54333344-dace-49ae-f960-1f20ca3cc2f5"
      },
      "execution_count": 18,
      "outputs": [
        {
          "output_type": "display_data",
          "data": {
            "text/plain": [
              "<Figure size 504x288 with 2 Axes>"
            ],
            "image/png": "[encoded data removed]"
          },
          "metadata": {}
        }
      ]
    },
    {
      "cell_type": "code",
      "source": [
        "# Uploading figures\n",
        "logger.info(\"Uploading figures\")\n",
        "run.log(\n",
        "    {\n",
        "        \"confusion_matrix\": wandb.Image(fig_confusion_matrix),\n",
        "        # \"other_figure\": wandb.Image(other_fig)\n",
        "    }\n",
        ")"
      ],
      "metadata": {
        "id": "ptukM077HdGM",
        "colab": {
          "base_uri": "https://localhost:8080/"
        },
        "outputId": "42eae546-22f7-4442-b6ca-b09b3e3a39d2"
      },
      "execution_count": 19,
      "outputs": [
        {
          "output_type": "stream",
          "name": "stderr",
          "text": [
            "03-11-2022 13:37:23 Uploading figures\n"
          ]
        }
      ]
    },
    {
      "cell_type": "code",
      "source": [
        "# Evaluation Metrics\n",
        "logger.info(\"Validation Evaluation metrics\")\n",
        "fbeta = fbeta_score(test_y.argmax(axis=1), \n",
        "                    predictions.argmax(axis=1), \n",
        "                    beta=1, zero_division=1,average='weighted')\n",
        "precision = precision_score(test_y.argmax(axis=1),\n",
        "                            predictions.argmax(axis=1),\n",
        "                            zero_division=1,average='weighted')\n",
        "recall = recall_score(test_y.argmax(axis=1),\n",
        "                      predictions.argmax(axis=1),\n",
        "                      zero_division=1,average='weighted')\n",
        "acc = accuracy_score(test_y.argmax(axis=1),\n",
        "                     predictions.argmax(axis=1))\n",
        "\n",
        "logger.info(\"Validation Accuracy: {}\".format(acc))\n",
        "logger.info(\"Validation Precision: {}\".format(precision))\n",
        "logger.info(\"Validation Recall: {}\".format(recall))\n",
        "logger.info(\"Validation F1: {}\".format(fbeta))\n",
        "\n",
        "run.summary[\"Acc\"] = acc\n",
        "run.summary[\"Precision\"] = precision\n",
        "run.summary[\"Recall\"] = recall\n",
        "run.summary[\"F1\"] = fbeta\n",
        "# number of parameters\n",
        "run.summary[\"Count_Params\"] = model.count_params()\n",
        "# energy unit is kWh\n",
        "run.summary[\"Energy_Consumed\"] = tracker.final_emissions_data.energy_consumed\n",
        "run.summary[\"Energy_RAM\"] = tracker.final_emissions_data.ram_energy\n",
        "run.summary[\"Energy_GPU\"] = tracker.final_emissions_data.gpu_energy\n",
        "run.summary[\"Energy_CPU\"] = tracker.final_emissions_data.cpu_energy\n",
        "# kg\n",
        "run.summary[\"CO2_Emissions\"] = tracker.final_emissions_data.emissions"
      ],
      "metadata": {
        "id": "N1cGMUtdHi-M",
        "colab": {
          "base_uri": "https://localhost:8080/"
        },
        "outputId": "c67531ef-adc7-4a6f-92ee-de785d999086"
      },
      "execution_count": 20,
      "outputs": [
        {
          "output_type": "stream",
          "name": "stderr",
          "text": [
            "03-11-2022 13:37:34 Validation Evaluation metrics\n",
            "03-11-2022 13:37:34 Validation Accuracy: 0.9493\n",
            "03-11-2022 13:37:34 Validation Precision: 0.9497593391248125\n",
            "03-11-2022 13:37:34 Validation Recall: 0.9493\n",
            "03-11-2022 13:37:34 Validation F1: 0.9493445054088192\n"
          ]
        }
      ]
    },
    {
      "cell_type": "code",
      "source": [
        "run.finish()"
      ],
      "metadata": {
        "id": "KAuk7CyIWQ5P",
        "colab": {
          "base_uri": "https://localhost:8080/",
          "height": 534
        },
        "outputId": "91bc132c-3e97-44a6-d124-20bb76f2ec86"
      },
      "execution_count": 21,
      "outputs": [
        {
          "output_type": "display_data",
          "data": {
            "text/plain": [
              "<IPython.core.display.HTML object>"
            ],
            "text/html": [
              "Waiting for W&B process to finish... <strong style=\"color:green\">(success).</strong>"
            ]
          },
          "metadata": {}
        },
        {
          "output_type": "display_data",
          "data": {
            "text/plain": [
              "<IPython.core.display.HTML object>"
            ],
            "text/html": [
              "<style>\n",
              "    table.wandb td:nth-child(1) { padding: 0 10px; text-align: left ; width: auto;} td:nth-child(2) {text-align: left ; width: 100%}\n",
              "    .wandb-row { display: flex; flex-direction: row; flex-wrap: wrap; justify-content: flex-start; width: 100% }\n",
              "    .wandb-col { display: flex; flex-direction: column; flex-basis: 100%; flex: 1; padding: 10px; }\n",
              "    </style>\n",
              "<div class=\"wandb-row\"><div class=\"wandb-col\"><h3>Run history:</h3><br/><table class=\"wandb\"><tr><td>accuracy</td><td>▁▅▅▆▇▆▆▇▇▇▇█▇▇█▇█▆▇█</td></tr><tr><td>epoch</td><td>▁▁▂▂▂▃▃▄▄▄▅▅▅▆▆▇▇▇██</td></tr><tr><td>loss</td><td>█▄▄▃▃▃▃▂▂▂▂▁▂▂▁▂▁▃▂▂</td></tr><tr><td>val_accuracy</td><td>▁▃▂▅▂▅▅▅▆▅▅▇▅▆▄█▆▆▅▅</td></tr><tr><td>val_loss</td><td>▇▇▇▄█▄▄▃▃▄▄▂▅▂▄▁▃▃▄▄</td></tr></table><br/></div><div class=\"wandb-col\"><h3>Run summary:</h3><br/><table class=\"wandb\"><tr><td>Acc</td><td>0.9493</td></tr><tr><td>CO2_Emissions</td><td>0.00162</td></tr><tr><td>Count_Params</td><td>61706</td></tr><tr><td>Energy_CPU</td><td>0.00144</td></tr><tr><td>Energy_Consumed</td><td>0.00257</td></tr><tr><td>Energy_GPU</td><td>0.00097</td></tr><tr><td>Energy_RAM</td><td>0.00016</td></tr><tr><td>F1</td><td>0.94934</td></tr><tr><td>GFLOPs</td><td>0.00042</td></tr><tr><td>Precision</td><td>0.94976</td></tr><tr><td>Recall</td><td>0.9493</td></tr><tr><td>accuracy</td><td>0.94817</td></tr><tr><td>best_epoch</td><td>15</td></tr><tr><td>best_val_loss</td><td>0.14135</td></tr><tr><td>epoch</td><td>19</td></tr><tr><td>loss</td><td>0.18034</td></tr><tr><td>val_accuracy</td><td>0.9493</td></tr><tr><td>val_loss</td><td>0.18204</td></tr></table><br/></div></div>"
            ]
          },
          "metadata": {}
        },
        {
          "output_type": "display_data",
          "data": {
            "text/plain": [
              "<IPython.core.display.HTML object>"
            ],
            "text/html": [
              "Synced <strong style=\"color:#cdcd00\">expert-universe-1</strong>: <a href=\"https://wandb.ai/micaelbalza/lenet-5/runs/120huih4\" target=\"_blank\">https://wandb.ai/micaelbalza/lenet-5/runs/120huih4</a><br/>Synced 5 W&B file(s), 1 media file(s), 0 artifact file(s) and 0 other file(s)"
            ]
          },
          "metadata": {}
        },
        {
          "output_type": "display_data",
          "data": {
            "text/plain": [
              "<IPython.core.display.HTML object>"
            ],
            "text/html": [
              "Find logs at: <code>./wandb/run-20221103_133304-120huih4/logs</code>"
            ]
          },
          "metadata": {}
        }
      ]
    },
    {
      "cell_type": "markdown",
      "metadata": {
        "id": "ElCu4byeuZjo"
      },
      "source": [
        "\n",
        "\n",
        "```\n",
        "# This is formatted as code\n",
        "```\n",
        "\n",
        "# Data Augmentation"
      ]
    },
    {
      "cell_type": "markdown",
      "source": [
        "### Fetch, Preprocessing and Data Segregation"
      ],
      "metadata": {
        "id": "S91_OWOpC22I"
      }
    },
    {
      "cell_type": "code",
      "source": [
        "# since we are using Jupyter Notebooks we can replace our argument\n",
        "# parsing code with *hard coded* arguments and values\n",
        "args = {\n",
        "  \"project_name\": \"lenet-5-data_augumentation\"\n",
        "}"
      ],
      "metadata": {
        "id": "Ky5KhbTlbJui"
      },
      "execution_count": 22,
      "outputs": []
    },
    {
      "cell_type": "code",
      "source": [
        "# open the W&B project created in the Fetch step\n",
        "run = wandb.init(entity=\"micaelbalza\",\n",
        "                 project=args[\"project_name\"], \n",
        "                 job_type=\"Train\")"
      ],
      "metadata": {
        "id": "oYUEe0d9bJuj",
        "colab": {
          "base_uri": "https://localhost:8080/",
          "height": 69
        },
        "outputId": "7cedb348-cd06-40b0-874b-47fe18a69f6d"
      },
      "execution_count": 23,
      "outputs": [
        {
          "output_type": "display_data",
          "data": {
            "text/plain": [
              "<IPython.core.display.HTML object>"
            ],
            "text/html": [
              "Tracking run with wandb version 0.13.4"
            ]
          },
          "metadata": {}
        },
        {
          "output_type": "display_data",
          "data": {
            "text/plain": [
              "<IPython.core.display.HTML object>"
            ],
            "text/html": [
              "Run data is saved locally in <code>/content/wandb/run-20221103_135457-1pr67q4j</code>"
            ]
          },
          "metadata": {}
        },
        {
          "output_type": "display_data",
          "data": {
            "text/plain": [
              "<IPython.core.display.HTML object>"
            ],
            "text/html": [
              "Syncing run <strong><a href=\"https://wandb.ai/micaelbalza/lenet-5-data_augumentation/runs/1pr67q4j\" target=\"_blank\">upbeat-fire-1</a></strong> to <a href=\"https://wandb.ai/micaelbalza/lenet-5-data_augumentation\" target=\"_blank\">Weights & Biases</a> (<a href=\"https://wandb.me/run\" target=\"_blank\">docs</a>)<br/>"
            ]
          },
          "metadata": {}
        }
      ]
    },
    {
      "cell_type": "code",
      "source": [
        "# grab the MNIST dataset (if this is your first time using this\n",
        "# dataset then the 11MB download may take a second)\n",
        "logger.info(\"[INFO] accessing MNIST...\")\n",
        "((train_x, train_y), (test_x, test_y)) = mnist.load_data()\n",
        "\n",
        "# if we are using \"channels first\" ordering, then reshape the\n",
        "# design matrix such that the matrix is:\n",
        "# num_samples x depth x rows x columns\n",
        "if K.image_data_format() == \"channels_first\":\n",
        "\ttrain_x = train_x.reshape((train_x.shape[0], 1, 28, 28))\n",
        "\ttest_x = test_x.reshape((test_x.shape[0], 1, 28, 28))\n",
        " \n",
        "# otherwise, we are using \"channels last\" ordering, so the design\n",
        "# matrix shape should be: num_samples x rows x columns x depth\n",
        "else:\n",
        "\ttrain_x = train_x.reshape((train_x.shape[0], 28, 28, 1))\n",
        "\ttest_x = test_x.reshape((test_x.shape[0], 28, 28, 1))\n",
        "\n",
        "logger.info(\"Train x: {}\".format(train_x.shape))\n",
        "logger.info(\"Train y: {}\".format(train_y.shape))\n",
        "logger.info(\"Test x: {}\".format(test_x.shape))\n",
        "logger.info(\"Test y: {}\".format(test_y.shape))"
      ],
      "metadata": {
        "id": "xOxATYHUbJuj",
        "colab": {
          "base_uri": "https://localhost:8080/"
        },
        "outputId": "ee627312-5724-493a-f69a-e65605db9e78"
      },
      "execution_count": 24,
      "outputs": [
        {
          "output_type": "stream",
          "name": "stderr",
          "text": [
            "03-11-2022 13:55:02 [INFO] accessing MNIST...\n",
            "03-11-2022 13:55:03 Train x: (60000, 28, 28, 1)\n",
            "03-11-2022 13:55:03 Train y: (60000,)\n",
            "03-11-2022 13:55:03 Test x: (10000, 28, 28, 1)\n",
            "03-11-2022 13:55:03 Test y: (10000,)\n"
          ]
        }
      ]
    },
    {
      "cell_type": "code",
      "metadata": {
        "id": "Cpa4fRxmuweP"
      },
      "source": [
        "# visualize 18 numbers\n",
        "def show_image(train_image, label, index):\n",
        "    plt.subplot(3, 6, index+1)\n",
        "    plt.imshow(tf.squeeze(train_image), cmap=plt.cm.gray)\n",
        "    plt.title(label)\n",
        "    plt.grid(b=False)"
      ],
      "execution_count": 25,
      "outputs": []
    },
    {
      "cell_type": "code",
      "metadata": {
        "id": "m43Dq3WowsCk",
        "colab": {
          "base_uri": "https://localhost:8080/",
          "height": 553
        },
        "outputId": "2700e013-4772-4576-f535-f4103262c473"
      },
      "source": [
        "# visualize the first 18 numbers\n",
        "plt.figure(figsize=(12, 8))\n",
        "for index in range(18):\n",
        "    label = train_y[index]\n",
        "    image_pixels = train_x[index,:,:,:]\n",
        "    show_image(image_pixels, label, index)\n",
        "plt.tight_layout()"
      ],
      "execution_count": 26,
      "outputs": [
        {
          "output_type": "display_data",
          "data": {
            "text/plain": [
              "<Figure size 864x576 with 18 Axes>"
            ],
            "image/png": "[encoded data removed]"
          },
          "metadata": {}
        }
      ]
    },
    {
      "cell_type": "code",
      "metadata": {
        "id": "gWaYGtKGx4RO",
        "colab": {
          "base_uri": "https://localhost:8080/",
          "height": 485
        },
        "outputId": "9389e960-9f16-4786-af0c-016453fe525c"
      },
      "source": [
        "# construct the image generator for data augmentation then\n",
        "# initialize the total number of images generated thus far\n",
        "aug = ImageDataGenerator(rotation_range=30, width_shift_range=0.1,\n",
        "                         height_shift_range=0.1, shear_range=0.2, zoom_range=0.2,\n",
        "                         horizontal_flip=False, fill_mode=\"nearest\")\n",
        "total = 0\n",
        "image = train_x[10:11,:,:,:]\n",
        "\n",
        "# construct the actual Python generator\n",
        "print(\"[INFO] generating images...\")\n",
        "imageGen = aug.flow(image, batch_size=1)\n",
        "\n",
        "# create a figure\n",
        "plt.figure(figsize=(12, 8))\n",
        "\n",
        "# loop over examples from our image data augmentation generator\n",
        "for img in imageGen:\n",
        "\n",
        "  show_image(img, train_y[10], total)\n",
        "\n",
        "  # increment our counter\n",
        "  total += 1\n",
        "\n",
        "  # if we have reached 10 examples, break from the loop\n",
        "  if total == 18:\n",
        "    break"
      ],
      "execution_count": 27,
      "outputs": [
        {
          "output_type": "stream",
          "name": "stdout",
          "text": [
            "[INFO] generating images...\n"
          ]
        },
        {
          "output_type": "display_data",
          "data": {
            "text/plain": [
              "<Figure size 864x576 with 18 Axes>"
            ],
            "image/png": "[encoded data removed]"
          },
          "metadata": {}
        }
      ]
    },
    {
      "cell_type": "code",
      "source": [
        "# scale data to the range of [0, 1]\n",
        "train_x = train_x.astype(\"float32\") / 255.0\n",
        "test_x = test_x.astype(\"float32\") / 255.0\n",
        "\n",
        "# convert the labels from integers to vectors\n",
        "lb = LabelBinarizer()\n",
        "train_y = lb.fit_transform(train_y)\n",
        "test_y = lb.transform(test_y)"
      ],
      "metadata": {
        "id": "2IjzPziGAFfJ"
      },
      "execution_count": 28,
      "outputs": []
    },
    {
      "cell_type": "markdown",
      "source": [
        "### Training"
      ],
      "metadata": {
        "id": "rU6SzSgWDAI5"
      }
    },
    {
      "cell_type": "code",
      "source": [
        "# create codecarbon tracker\n",
        "# codecarbon is too much verbose, change the log level for more info\n",
        "tracker = EmissionsTracker(log_level=\"critical\")\n",
        "tracker.start()\n",
        "\n",
        "# initialize the optimizer and model\n",
        "logger.info(\"[INFO] compiling model...\")\n",
        "opt = Adam(learning_rate=0.01)\n",
        "model = LeNet.build(width=28, height=28, depth=1, classes=10)\n",
        "model.compile(loss=\"categorical_crossentropy\", optimizer=opt,\n",
        "              metrics=[\"accuracy\"])\n",
        "\n",
        "# construct the image generator for data augmentation then\n",
        "# initialize the total number of images generated thus far\n",
        "aug = ImageDataGenerator(rotation_range=30, width_shift_range=0.1,\n",
        "                         height_shift_range=0.1, shear_range=0.2, \n",
        "                         zoom_range=0.2,\n",
        "                         horizontal_flip=False, fill_mode=\"nearest\")\n",
        "\n",
        "# train the network\n",
        "logger.info(\"[INFO] training network...\")\n",
        "history = model.fit(aug.flow(train_x, train_y, batch_size=32),\n",
        "                    validation_data=(test_x, test_y),\n",
        "                    epochs=20, \n",
        "                    verbose=0,\n",
        "                    callbacks=[wandb.keras.WandbCallback(save_model=False,\n",
        "                                                         compute_flops=True)])\n",
        "\n",
        "# get co2 emissions from tracker\n",
        "# \"CO2 emission (in Kg)\"\n",
        "emissions = tracker.stop()"
      ],
      "metadata": {
        "id": "HBQWpLHDcuCq",
        "colab": {
          "base_uri": "https://localhost:8080/"
        },
        "outputId": "3066c489-c209-43c9-c264-fba8222c1925"
      },
      "execution_count": 29,
      "outputs": [
        {
          "output_type": "stream",
          "name": "stderr",
          "text": [
            "03-11-2022 13:56:06 [INFO] compiling model...\n",
            "03-11-2022 13:56:06 [INFO] training network...\n"
          ]
        }
      ]
    },
    {
      "cell_type": "markdown",
      "source": [
        "### Evaluation Metrics"
      ],
      "metadata": {
        "id": "VEaazfD7DHEG"
      }
    },
    {
      "cell_type": "code",
      "source": [
        "# plot the training loss and accuracy\n",
        "plt.style.use(\"ggplot\")\n",
        "fig, ax = plt.subplots(1,1,figsize=(10,8))\n",
        "\n",
        "ax.plot(np.arange(0, 20), history.history[\"loss\"], label=\"train_loss\",linestyle='--')\n",
        "ax.plot(np.arange(0, 20), history.history[\"val_loss\"], label=\"val_loss\",linestyle='--')\n",
        "ax.plot(np.arange(0, 20), history.history[\"accuracy\"], label=\"train_acc\")\n",
        "ax.plot(np.arange(0, 20), history.history[\"val_accuracy\"], label=\"val_acc\")\n",
        "ax.set_title(\"Training Loss and Accuracy\")\n",
        "ax.set_xlabel(\"Epoch #\")\n",
        "ax.set_ylabel(\"Loss/Accuracy\")\n",
        "ax.legend()\n",
        "plt.show()"
      ],
      "metadata": {
        "id": "8N-KRJhODHEH",
        "colab": {
          "base_uri": "https://localhost:8080/",
          "height": 517
        },
        "outputId": "64c7ed4a-34cf-47b3-c83e-4c4b1b3087d5"
      },
      "execution_count": 30,
      "outputs": [
        {
          "output_type": "display_data",
          "data": {
            "text/plain": [
              "<Figure size 720x576 with 1 Axes>"
            ],
            "image/png": "[encoded data removed]"
          },
          "metadata": {}
        }
      ]
    },
    {
      "cell_type": "code",
      "source": [
        "print(\"[INFO] {} kWh of electricity used since the begining\".format(tracker.final_emissions_data.energy_consumed))\n",
        "print(\"[INFO] Energy consumed for RAM: {} kWh\".format(tracker.final_emissions_data.ram_energy))\n",
        "print(\"[INFO] Energy consumed for all GPU: {} kWh\".format(tracker.final_emissions_data.gpu_energy))\n",
        "print(\"[INFO] Energy consumed for all CPU: {} kWh\".format(tracker.final_emissions_data.cpu_energy))\n",
        "print(\"[INFO] CO2 emission {}(in Kg)\".format(tracker.final_emissions_data.emissions))"
      ],
      "metadata": {
        "id": "q5i5RRlDDHEH",
        "colab": {
          "base_uri": "https://localhost:8080/"
        },
        "outputId": "c904bd7b-c2c0-477a-8097-12298f19ff47"
      },
      "execution_count": 31,
      "outputs": [
        {
          "output_type": "stream",
          "name": "stdout",
          "text": [
            "[INFO] 0.009769897965355647 kWh of electricity used since the begining\n",
            "[INFO] Energy consumed for RAM: 0.000621277464902736 kWh\n",
            "[INFO] Energy consumed for all GPU: 0.003591662416644493 kWh\n",
            "[INFO] Energy consumed for all CPU: 0.005556958083808424 kWh\n",
            "[INFO] CO2 emission 0.006164641124559848(in Kg)\n"
          ]
        }
      ]
    },
    {
      "cell_type": "code",
      "source": [
        "# evaluate the network\n",
        "print(\"[INFO] evaluating network...\")\n",
        "predictions = model.predict(test_x, batch_size=32)\n",
        "print(classification_report(test_y.argmax(axis=1),\n",
        "                            predictions.argmax(axis=1),\n",
        "                            target_names=[str(i) for i in lb.classes_]))"
      ],
      "metadata": {
        "id": "j5mCbJqPDHEI",
        "colab": {
          "base_uri": "https://localhost:8080/"
        },
        "outputId": "ce8d1f3f-3089-4129-f9c3-2258f40ea7be"
      },
      "execution_count": 32,
      "outputs": [
        {
          "output_type": "stream",
          "name": "stdout",
          "text": [
            "[INFO] evaluating network...\n",
            "313/313 [==============================] - 1s 2ms/step\n",
            "              precision    recall  f1-score   support\n",
            "\n",
            "           0       0.98      0.97      0.97       980\n",
            "           1       0.97      0.98      0.97      1135\n",
            "           2       0.94      0.94      0.94      1032\n",
            "           3       0.91      0.95      0.93      1010\n",
            "           4       0.95      0.88      0.91       982\n",
            "           5       0.94      0.94      0.94       892\n",
            "           6       0.95      0.98      0.96       958\n",
            "           7       0.95      0.90      0.93      1028\n",
            "           8       0.94      0.87      0.90       974\n",
            "           9       0.84      0.94      0.89      1009\n",
            "\n",
            "    accuracy                           0.94     10000\n",
            "   macro avg       0.94      0.94      0.94     10000\n",
            "weighted avg       0.94      0.94      0.94     10000\n",
            "\n"
          ]
        }
      ]
    },
    {
      "cell_type": "code",
      "source": [
        "fig_confusion_matrix, ax = plt.subplots(1,1,figsize=(7,4))\n",
        "ConfusionMatrixDisplay(confusion_matrix(predictions.argmax(axis=1),\n",
        "                                        test_y.argmax(axis=1)),\n",
        "                       display_labels=lb.classes_).plot(values_format=\".0f\",ax=ax)\n",
        "\n",
        "ax.set_xlabel(\"True Label\")\n",
        "ax.set_ylabel(\"Predicted Label\")\n",
        "ax.grid(False)\n",
        "plt.show()"
      ],
      "metadata": {
        "id": "kHdg7-4GDHEI",
        "colab": {
          "base_uri": "https://localhost:8080/",
          "height": 282
        },
        "outputId": "b1edf6ac-ee09-4795-f877-517f0585a3b3"
      },
      "execution_count": 33,
      "outputs": [
        {
          "output_type": "display_data",
          "data": {
            "text/plain": [
              "<Figure size 504x288 with 2 Axes>"
            ],
            "image/png": "[encoded data removed]"
          },
          "metadata": {}
        }
      ]
    },
    {
      "cell_type": "code",
      "source": [
        "# Uploading figures\n",
        "logger.info(\"Uploading figures\")\n",
        "run.log(\n",
        "    {\n",
        "        \"confusion_matrix\": wandb.Image(fig_confusion_matrix),\n",
        "        # \"other_figure\": wandb.Image(other_fig)\n",
        "    }\n",
        ")"
      ],
      "metadata": {
        "id": "IywiFuGhDHEI",
        "colab": {
          "base_uri": "https://localhost:8080/"
        },
        "outputId": "d3f2c314-7711-4332-8b22-339005fac072"
      },
      "execution_count": 34,
      "outputs": [
        {
          "output_type": "stream",
          "name": "stderr",
          "text": [
            "03-11-2022 14:05:53 Uploading figures\n"
          ]
        }
      ]
    },
    {
      "cell_type": "code",
      "source": [
        "# Evaluation Metrics\n",
        "logger.info(\"Validation Evaluation metrics\")\n",
        "fbeta = fbeta_score(test_y.argmax(axis=1), \n",
        "                    predictions.argmax(axis=1), \n",
        "                    beta=1, zero_division=1,average='weighted')\n",
        "precision = precision_score(test_y.argmax(axis=1),\n",
        "                            predictions.argmax(axis=1),\n",
        "                            zero_division=1,average='weighted')\n",
        "recall = recall_score(test_y.argmax(axis=1),\n",
        "                      predictions.argmax(axis=1),\n",
        "                      zero_division=1,average='weighted')\n",
        "acc = accuracy_score(test_y.argmax(axis=1),\n",
        "                     predictions.argmax(axis=1))\n",
        "\n",
        "logger.info(\"Validation Accuracy: {}\".format(acc))\n",
        "logger.info(\"Validation Precision: {}\".format(precision))\n",
        "logger.info(\"Validation Recall: {}\".format(recall))\n",
        "logger.info(\"Validation F1: {}\".format(fbeta))\n",
        "\n",
        "run.summary[\"Acc\"] = acc\n",
        "run.summary[\"Precision\"] = precision\n",
        "run.summary[\"Recall\"] = recall\n",
        "run.summary[\"F1\"] = fbeta\n",
        "# number of parameters\n",
        "run.summary[\"Count_Params\"] = model.count_params()\n",
        "# energy unit is kWh\n",
        "run.summary[\"Energy_Consumed\"] = tracker.final_emissions_data.energy_consumed\n",
        "run.summary[\"Energy_RAM\"] = tracker.final_emissions_data.ram_energy\n",
        "run.summary[\"Energy_GPU\"] = tracker.final_emissions_data.gpu_energy\n",
        "run.summary[\"Energy_CPU\"] = tracker.final_emissions_data.cpu_energy\n",
        "# kg\n",
        "run.summary[\"CO2_Emissions\"] = tracker.final_emissions_data.emissions"
      ],
      "metadata": {
        "id": "WQtxXl8SDHEI",
        "colab": {
          "base_uri": "https://localhost:8080/"
        },
        "outputId": "ec42c6fd-10b5-4889-f10d-cf2366b1f967"
      },
      "execution_count": 35,
      "outputs": [
        {
          "output_type": "stream",
          "name": "stderr",
          "text": [
            "03-11-2022 14:05:57 Validation Evaluation metrics\n",
            "03-11-2022 14:05:57 Validation Accuracy: 0.9357\n",
            "03-11-2022 14:05:57 Validation Precision: 0.936989225744214\n",
            "03-11-2022 14:05:57 Validation Recall: 0.9357\n",
            "03-11-2022 14:05:57 Validation F1: 0.9357123760244218\n"
          ]
        }
      ]
    },
    {
      "cell_type": "code",
      "source": [
        "run.finish()"
      ],
      "metadata": {
        "id": "umU3fBfZDHEI",
        "colab": {
          "base_uri": "https://localhost:8080/",
          "height": 534
        },
        "outputId": "0e6453e7-ab73-4a3c-ca5c-a3613500ac3f"
      },
      "execution_count": 36,
      "outputs": [
        {
          "output_type": "display_data",
          "data": {
            "text/plain": [
              "<IPython.core.display.HTML object>"
            ],
            "text/html": [
              "Waiting for W&B process to finish... <strong style=\"color:green\">(success).</strong>"
            ]
          },
          "metadata": {}
        },
        {
          "output_type": "display_data",
          "data": {
            "text/plain": [
              "<IPython.core.display.HTML object>"
            ],
            "text/html": [
              "<style>\n",
              "    table.wandb td:nth-child(1) { padding: 0 10px; text-align: left ; width: auto;} td:nth-child(2) {text-align: left ; width: 100%}\n",
              "    .wandb-row { display: flex; flex-direction: row; flex-wrap: wrap; justify-content: flex-start; width: 100% }\n",
              "    .wandb-col { display: flex; flex-direction: column; flex-basis: 100%; flex: 1; padding: 10px; }\n",
              "    </style>\n",
              "<div class=\"wandb-row\"><div class=\"wandb-col\"><h3>Run history:</h3><br/><table class=\"wandb\"><tr><td>accuracy</td><td>▁▅▆▇▇▇▇▇▇▇▇███▇▇███▇</td></tr><tr><td>epoch</td><td>▁▁▂▂▂▃▃▄▄▄▅▅▅▆▆▇▇▇██</td></tr><tr><td>loss</td><td>█▄▃▂▂▂▂▂▂▂▂▁▁▁▁▂▁▁▁▂</td></tr><tr><td>val_accuracy</td><td>▁▅▅▄▅▇▄▆▆█▆█▇█▄▇▆▆▇▆</td></tr><tr><td>val_loss</td><td>█▄▄▄▃▂▄▃▃▂▃▁▁▁▄▂▂▃▂▃</td></tr></table><br/></div><div class=\"wandb-col\"><h3>Run summary:</h3><br/><table class=\"wandb\"><tr><td>Acc</td><td>0.9357</td></tr><tr><td>CO2_Emissions</td><td>0.00616</td></tr><tr><td>Count_Params</td><td>61706</td></tr><tr><td>Energy_CPU</td><td>0.00556</td></tr><tr><td>Energy_Consumed</td><td>0.00977</td></tr><tr><td>Energy_GPU</td><td>0.00359</td></tr><tr><td>Energy_RAM</td><td>0.00062</td></tr><tr><td>F1</td><td>0.93571</td></tr><tr><td>GFLOPs</td><td>0.00042</td></tr><tr><td>Precision</td><td>0.93699</td></tr><tr><td>Recall</td><td>0.9357</td></tr><tr><td>accuracy</td><td>0.86158</td></tr><tr><td>best_epoch</td><td>12</td></tr><tr><td>best_val_loss</td><td>0.18356</td></tr><tr><td>epoch</td><td>19</td></tr><tr><td>loss</td><td>0.44891</td></tr><tr><td>val_accuracy</td><td>0.9357</td></tr><tr><td>val_loss</td><td>0.20693</td></tr></table><br/></div></div>"
            ]
          },
          "metadata": {}
        },
        {
          "output_type": "display_data",
          "data": {
            "text/plain": [
              "<IPython.core.display.HTML object>"
            ],
            "text/html": [
              "Synced <strong style=\"color:#cdcd00\">upbeat-fire-1</strong>: <a href=\"https://wandb.ai/micaelbalza/lenet-5-data_augumentation/runs/1pr67q4j\" target=\"_blank\">https://wandb.ai/micaelbalza/lenet-5-data_augumentation/runs/1pr67q4j</a><br/>Synced 5 W&B file(s), 1 media file(s), 0 artifact file(s) and 0 other file(s)"
            ]
          },
          "metadata": {}
        },
        {
          "output_type": "display_data",
          "data": {
            "text/plain": [
              "<IPython.core.display.HTML object>"
            ],
            "text/html": [
              "Find logs at: <code>./wandb/run-20221103_135457-1pr67q4j/logs</code>"
            ]
          },
          "metadata": {}
        }
      ]
    },
    {
      "cell_type": "markdown",
      "metadata": {
        "id": "k3zfoqpWeXUd"
      },
      "source": [
        "# Extensions"
      ]
    },
    {
      "cell_type": "markdown",
      "metadata": {
        "id": "3kVRLuFxeZkx"
      },
      "source": [
        "This section lists some ideas for extending that you may wish to explore.\n",
        "\n",
        "- **Batch normalization**. Implement BN technique after the CONV Layer review the final result.\n",
        "- **Dropout**. Analyze the use of regularization based on dropout technique and placed with different intensity after the Pooling layer.\n",
        "- **Other activation functions**. Investigate change the activation function to relu and compare the results.\n"
      ]
    },
    {
      "cell_type": "markdown",
      "source": [
        "## Implementing IvanNet"
      ],
      "metadata": {
        "id": "vMuxhhRftSXL"
      }
    },
    {
      "cell_type": "markdown",
      "source": [
        "<img width=\"800\" src=\"https://drive.google.com/uc?export=view&id=1zi4EZQdcDtUqp_bA8qaiE6etd-N0NJPP\"/>"
      ],
      "metadata": {
        "id": "5sKZsw-rtSXM"
      }
    },
    {
      "cell_type": "markdown",
      "source": [
        "Source code based on **Rosebrock, Adrian. Deep Learning For Computer vision with Python, 2019** [link](https://pyimagesearch.com/deep-learning-computer-vision-python-book/)"
      ],
      "metadata": {
        "id": "05smmCnhtSXM"
      }
    },
    {
      "cell_type": "code",
      "source": [
        "class IvaNet:\n",
        "  ''' \n",
        "  # create IvanNet-5 model\n",
        "  #\n",
        "  # it is composed of the 8 layers (5 layers considering FC as one layer) \n",
        "  # such as:\n",
        "  #      - 2 convolutional layers\n",
        "  #      - 2 subsampling (avg pooling) layers\n",
        "  #      - 1 flatten layer\n",
        "  #      - 2 fully connected layers\n",
        "  #      - 1 output layer with 10 outputs\n",
        "  #      - 2 batchnormalization layers\n",
        "  #      - 4 dropout layers\n",
        "  '''\n",
        "  @staticmethod\n",
        "  def build(width, height, depth, classes):\n",
        "    # initialize the model\n",
        "    model = Sequential()\n",
        "    inputShape = (height, width, depth)\n",
        "    \n",
        "    # if we are using \"channels first\", update the input shape\n",
        "    if K.image_data_format() == \"channels_first\":\n",
        "      inputShape = (depth, height, width)\n",
        "   \n",
        "    # first set of CONV => RELU => POOL layers\n",
        "    model.add(Conv2D(6, (5,5), strides=1, padding='same',\n",
        "                     activation='tanh', input_shape=(28,28,1), )) #C1\n",
        "    model.add(BatchNormalization())\n",
        "    model.add(AveragePooling2D()) #S2\n",
        "    model.add(Dropout(0.25))\n",
        "\n",
        "    # second set of CONV => RELU => POOL layers\n",
        "    model.add(Conv2D(16, (5,5), strides=1, padding='valid',\n",
        "                     activation='tanh')) #C3\n",
        "    model.add(BatchNormalization())\n",
        "    model.add(AveragePooling2D()) #S4\n",
        "    model.add(Dropout(0.25))\n",
        "\n",
        "    # a flatten and two set of FC => RELU layers\n",
        "    model.add(Flatten()) #Flatten\n",
        "    model.add(Dense(120, activation='tanh')) #C5\n",
        "    model.add(Dropout(0.5))\n",
        "    model.add(Dense(84, activation='tanh')) #F6\n",
        "    model.add(Dropout(0.5))\n",
        "\n",
        "    # softmax classifier\n",
        "    model.add(Dense(10, activation='softmax')) #Output layer\n",
        "    \n",
        "    # return the constructed network architecture\n",
        "    return model"
      ],
      "metadata": {
        "id": "rXElSi_FtSXN"
      },
      "execution_count": 37,
      "outputs": []
    },
    {
      "cell_type": "code",
      "source": [
        "# create a model object\n",
        "model = IvaNet.build(28,28,1,10)\n",
        "\n",
        "# summarize layers\n",
        "model.summary()"
      ],
      "metadata": {
        "id": "-uE5x6MYtSXN",
        "colab": {
          "base_uri": "https://localhost:8080/"
        },
        "outputId": "061dea5e-957a-4e3a-a6e9-d736c002767e"
      },
      "execution_count": 38,
      "outputs": [
        {
          "output_type": "stream",
          "name": "stdout",
          "text": [
            "Model: \"sequential_3\"\n",
            "_________________________________________________________________\n",
            " Layer (type)                Output Shape              Param #   \n",
            "=================================================================\n",
            " conv2d_6 (Conv2D)           (None, 28, 28, 6)         156       \n",
            "                                                                 \n",
            " batch_normalization (BatchN  (None, 28, 28, 6)        24        \n",
            " ormalization)                                                   \n",
            "                                                                 \n",
            " average_pooling2d_6 (Averag  (None, 14, 14, 6)        0         \n",
            " ePooling2D)                                                     \n",
            "                                                                 \n",
            " dropout (Dropout)           (None, 14, 14, 6)         0         \n",
            "                                                                 \n",
            " conv2d_7 (Conv2D)           (None, 10, 10, 16)        2416      \n",
            "                                                                 \n",
            " batch_normalization_1 (Batc  (None, 10, 10, 16)       64        \n",
            " hNormalization)                                                 \n",
            "                                                                 \n",
            " average_pooling2d_7 (Averag  (None, 5, 5, 16)         0         \n",
            " ePooling2D)                                                     \n",
            "                                                                 \n",
            " dropout_1 (Dropout)         (None, 5, 5, 16)          0         \n",
            "                                                                 \n",
            " flatten_3 (Flatten)         (None, 400)               0         \n",
            "                                                                 \n",
            " dense_9 (Dense)             (None, 120)               48120     \n",
            "                                                                 \n",
            " dropout_2 (Dropout)         (None, 120)               0         \n",
            "                                                                 \n",
            " dense_10 (Dense)            (None, 84)                10164     \n",
            "                                                                 \n",
            " dropout_3 (Dropout)         (None, 84)                0         \n",
            "                                                                 \n",
            " dense_11 (Dense)            (None, 10)                850       \n",
            "                                                                 \n",
            "=================================================================\n",
            "Total params: 61,794\n",
            "Trainable params: 61,750\n",
            "Non-trainable params: 44\n",
            "_________________________________________________________________\n"
          ]
        }
      ]
    },
    {
      "cell_type": "markdown",
      "source": [
        "## Fetch, Preprocessing and Data Segregation"
      ],
      "metadata": {
        "id": "gytVWLAXxrbC"
      }
    },
    {
      "cell_type": "code",
      "source": [
        "# since we are using Jupyter Notebooks we can replace our argument\n",
        "# parsing code with *hard coded* arguments and values\n",
        "args = {\n",
        "  \"project_name\": \"IvaNet-5\"\n",
        "}"
      ],
      "metadata": {
        "id": "mo4odprsxrbI"
      },
      "execution_count": 39,
      "outputs": []
    },
    {
      "cell_type": "code",
      "source": [
        "# open the W&B project created in the Fetch step\n",
        "run = wandb.init(entity=\"micaelbalza\",\n",
        "                 project=args[\"project_name\"], \n",
        "                 job_type=\"Train\")"
      ],
      "metadata": {
        "id": "tyRQJHBnxrbI",
        "colab": {
          "base_uri": "https://localhost:8080/",
          "height": 69
        },
        "outputId": "89b4cb94-6355-4f25-9cd5-1543ba793ca5"
      },
      "execution_count": 40,
      "outputs": [
        {
          "output_type": "display_data",
          "data": {
            "text/plain": [
              "<IPython.core.display.HTML object>"
            ],
            "text/html": [
              "Tracking run with wandb version 0.13.4"
            ]
          },
          "metadata": {}
        },
        {
          "output_type": "display_data",
          "data": {
            "text/plain": [
              "<IPython.core.display.HTML object>"
            ],
            "text/html": [
              "Run data is saved locally in <code>/content/wandb/run-20221103_141453-zsncvfbb</code>"
            ]
          },
          "metadata": {}
        },
        {
          "output_type": "display_data",
          "data": {
            "text/plain": [
              "<IPython.core.display.HTML object>"
            ],
            "text/html": [
              "Syncing run <strong><a href=\"https://wandb.ai/micaelbalza/IvaNet-5/runs/zsncvfbb\" target=\"_blank\">electric-glitter-1</a></strong> to <a href=\"https://wandb.ai/micaelbalza/IvaNet-5\" target=\"_blank\">Weights & Biases</a> (<a href=\"https://wandb.me/run\" target=\"_blank\">docs</a>)<br/>"
            ]
          },
          "metadata": {}
        }
      ]
    },
    {
      "cell_type": "code",
      "source": [
        "# grab the MNIST dataset (if this is your first time using this\n",
        "# dataset then the 11MB download may take a second)\n",
        "logger.info(\"[INFO] accessing MNIST...\")\n",
        "((train_x, train_y), (test_x, test_y)) = mnist.load_data()\n",
        "\n",
        "logger.info(\"Train x: {}\".format(train_x.shape))\n",
        "logger.info(\"Train y: {}\".format(train_y.shape))\n",
        "logger.info(\"Test x: {}\".format(test_x.shape))\n",
        "logger.info(\"Test y: {}\".format(test_y.shape))"
      ],
      "metadata": {
        "id": "CiqyrhDYxrbI",
        "colab": {
          "base_uri": "https://localhost:8080/"
        },
        "outputId": "3a582cf3-647b-4e12-a4b4-5be4c72dc452"
      },
      "execution_count": 41,
      "outputs": [
        {
          "output_type": "stream",
          "name": "stderr",
          "text": [
            "03-11-2022 14:15:16 [INFO] accessing MNIST...\n",
            "03-11-2022 14:15:16 Train x: (60000, 28, 28)\n",
            "03-11-2022 14:15:16 Train y: (60000,)\n",
            "03-11-2022 14:15:16 Test x: (10000, 28, 28)\n",
            "03-11-2022 14:15:16 Test y: (10000,)\n"
          ]
        }
      ]
    },
    {
      "cell_type": "code",
      "source": [
        "# if we are using \"channels first\" ordering, then reshape the\n",
        "# design matrix such that the matrix is:\n",
        "# num_samples x depth x rows x columns\n",
        "if K.image_data_format() == \"channels_first\":\n",
        "\ttrain_x = train_x.reshape((train_x.shape[0], 1, 28, 28))\n",
        "\ttest_x = test_x.reshape((test_x.shape[0], 1, 28, 28))\n",
        " \n",
        "# otherwise, we are using \"channels last\" ordering, so the design\n",
        "# matrix shape should be: num_samples x rows x columns x depth\n",
        "else:\n",
        "\ttrain_x = train_x.reshape((train_x.shape[0], 28, 28, 1))\n",
        "\ttest_x = test_x.reshape((test_x.shape[0], 28, 28, 1))"
      ],
      "metadata": {
        "id": "FvPpKQBuxrbI"
      },
      "execution_count": 42,
      "outputs": []
    },
    {
      "cell_type": "code",
      "source": [
        "logger.info(\"Train x: {}\".format(train_x.shape))\n",
        "logger.info(\"Train y: {}\".format(train_y.shape))\n",
        "logger.info(\"Test x: {}\".format(test_x.shape))\n",
        "logger.info(\"Test y: {}\".format(test_y.shape))"
      ],
      "metadata": {
        "id": "4kjHXCNcxrbI",
        "colab": {
          "base_uri": "https://localhost:8080/"
        },
        "outputId": "fa7265c9-ad4b-4d76-bd22-7d7470f741d2"
      },
      "execution_count": 43,
      "outputs": [
        {
          "output_type": "stream",
          "name": "stderr",
          "text": [
            "03-11-2022 14:15:16 Train x: (60000, 28, 28, 1)\n",
            "03-11-2022 14:15:16 Train y: (60000,)\n",
            "03-11-2022 14:15:16 Test x: (10000, 28, 28, 1)\n",
            "03-11-2022 14:15:16 Test y: (10000,)\n"
          ]
        }
      ]
    },
    {
      "cell_type": "code",
      "source": [
        "# scale data to the range of [0, 1]\n",
        "train_x = train_x.astype(\"float32\") / 255.0\n",
        "test_x = test_x.astype(\"float32\") / 255.0\n",
        "\n",
        "# convert the labels from integers to vectors\n",
        "lb = LabelBinarizer()\n",
        "train_y = lb.fit_transform(train_y)\n",
        "test_y = lb.transform(test_y)"
      ],
      "metadata": {
        "id": "UCG3TKW-xrbI"
      },
      "execution_count": 44,
      "outputs": []
    },
    {
      "cell_type": "markdown",
      "source": [
        "## Training"
      ],
      "metadata": {
        "id": "JjGj4DHvyDoq"
      }
    },
    {
      "cell_type": "code",
      "source": [
        "# create codecarbon tracker\n",
        "# codecarbon is too much verbose, change the log level for more info\n",
        "tracker = EmissionsTracker(log_level=\"critical\")\n",
        "tracker.start()\n",
        "\n",
        "# initialize the optimizer and model\n",
        "logger.info(\"[INFO] compiling model...\")\n",
        "opt = Adam(learning_rate=0.01)\n",
        "model = IvaNet.build(width=28, height=28, depth=1, classes=10)\n",
        "model.compile(loss=\"categorical_crossentropy\", optimizer=opt,\n",
        "              metrics=[\"accuracy\"])\n",
        "\n",
        "# train the network\n",
        "logger.info(\"[INFO] training network...\")\n",
        "history = model.fit(train_x, train_y,\n",
        "              validation_data=(test_x, test_y),\n",
        "              batch_size=32,\n",
        "              epochs=20, \n",
        "              verbose=0,\n",
        "              callbacks=[wandb.keras.WandbCallback(save_model=False,\n",
        "                                                   compute_flops=True)])\n",
        "\n",
        "# get co2 emissions from tracker\n",
        "# \"CO2 emission (in Kg)\"\n",
        "emissions = tracker.stop()"
      ],
      "metadata": {
        "id": "rAfI82NRyDor",
        "colab": {
          "base_uri": "https://localhost:8080/"
        },
        "outputId": "dfd454ee-1421-49aa-85bd-13f780d3d31e"
      },
      "execution_count": 45,
      "outputs": [
        {
          "output_type": "stream",
          "name": "stderr",
          "text": [
            "03-11-2022 14:15:34 [INFO] compiling model...\n",
            "03-11-2022 14:15:34 [INFO] training network...\n"
          ]
        }
      ]
    },
    {
      "cell_type": "markdown",
      "source": [
        "## Evaluation Metrics"
      ],
      "metadata": {
        "id": "R2jc7JR8y6Gr"
      }
    },
    {
      "cell_type": "code",
      "source": [
        "# plot the training loss and accuracy\n",
        "plt.style.use(\"ggplot\")\n",
        "fig, ax = plt.subplots(1,1,figsize=(10,8))\n",
        "\n",
        "ax.plot(np.arange(0, 20), history.history[\"loss\"], label=\"train_loss\",linestyle='--')\n",
        "ax.plot(np.arange(0, 20), history.history[\"val_loss\"], label=\"val_loss\",linestyle='--')\n",
        "ax.plot(np.arange(0, 20), history.history[\"accuracy\"], label=\"train_acc\")\n",
        "ax.plot(np.arange(0, 20), history.history[\"val_accuracy\"], label=\"val_acc\")\n",
        "ax.set_title(\"Training Loss and Accuracy\")\n",
        "ax.set_xlabel(\"Epoch #\")\n",
        "ax.set_ylabel(\"Loss/Accuracy\")\n",
        "ax.legend()\n",
        "plt.show()"
      ],
      "metadata": {
        "id": "0GBCOQwty6Gr",
        "colab": {
          "base_uri": "https://localhost:8080/",
          "height": 517
        },
        "outputId": "6661e37f-cdd4-4541-a8cd-db49e4233d11"
      },
      "execution_count": 46,
      "outputs": [
        {
          "output_type": "display_data",
          "data": {
            "text/plain": [
              "<Figure size 720x576 with 1 Axes>"
            ],
            "image/png": "[encoded data removed]"
          },
          "metadata": {}
        }
      ]
    },
    {
      "cell_type": "code",
      "source": [
        "print(\"[INFO] {} kWh of electricity used since the begining\".format(tracker.final_emissions_data.energy_consumed))\n",
        "print(\"[INFO] Energy consumed for RAM: {} kWh\".format(tracker.final_emissions_data.ram_energy))\n",
        "print(\"[INFO] Energy consumed for all GPU: {} kWh\".format(tracker.final_emissions_data.gpu_energy))\n",
        "print(\"[INFO] Energy consumed for all CPU: {} kWh\".format(tracker.final_emissions_data.cpu_energy))\n",
        "print(\"[INFO] CO2 emission {}(in Kg)\".format(tracker.final_emissions_data.emissions))"
      ],
      "metadata": {
        "id": "sXte_DZWy6Gr",
        "colab": {
          "base_uri": "https://localhost:8080/"
        },
        "outputId": "217122d5-31f3-4e31-9fcc-d0618261e60c"
      },
      "execution_count": 47,
      "outputs": [
        {
          "output_type": "stream",
          "name": "stdout",
          "text": [
            "[INFO] 0.0027741211654780436 kWh of electricity used since the begining\n",
            "[INFO] Energy consumed for RAM: 0.000174252852644005 kWh\n",
            "[INFO] Energy consumed for all GPU: 0.001041612250465486 kWh\n",
            "[INFO] Energy consumed for all CPU: 0.001558256062368552 kWh\n",
            "[INFO] CO2 emission 0.0017504237487290183(in Kg)\n"
          ]
        }
      ]
    },
    {
      "cell_type": "code",
      "source": [
        "# evaluate the network\n",
        "print(\"[INFO] evaluating network...\")\n",
        "predictions = model.predict(test_x, batch_size=32)\n",
        "print(classification_report(test_y.argmax(axis=1),\n",
        "                            predictions.argmax(axis=1),\n",
        "                            target_names=[str(i) for i in lb.classes_]))"
      ],
      "metadata": {
        "id": "0QBsHVMsy6Gs",
        "colab": {
          "base_uri": "https://localhost:8080/"
        },
        "outputId": "6c541692-44cd-4f0f-9a9b-43fc649246b7"
      },
      "execution_count": 48,
      "outputs": [
        {
          "output_type": "stream",
          "name": "stdout",
          "text": [
            "[INFO] evaluating network...\n",
            "313/313 [==============================] - 1s 2ms/step\n",
            "              precision    recall  f1-score   support\n",
            "\n",
            "           0       0.92      0.97      0.94       980\n",
            "           1       0.95      0.98      0.97      1135\n",
            "           2       0.94      0.91      0.92      1032\n",
            "           3       0.94      0.92      0.93      1010\n",
            "           4       0.97      0.84      0.90       982\n",
            "           5       0.95      0.95      0.95       892\n",
            "           6       0.93      0.96      0.94       958\n",
            "           7       0.92      0.89      0.91      1028\n",
            "           8       0.90      0.84      0.87       974\n",
            "           9       0.80      0.92      0.86      1009\n",
            "\n",
            "    accuracy                           0.92     10000\n",
            "   macro avg       0.92      0.92      0.92     10000\n",
            "weighted avg       0.92      0.92      0.92     10000\n",
            "\n"
          ]
        }
      ]
    },
    {
      "cell_type": "code",
      "source": [
        "fig_confusion_matrix, ax = plt.subplots(1,1,figsize=(7,4))\n",
        "ConfusionMatrixDisplay(confusion_matrix(predictions.argmax(axis=1),\n",
        "                                        test_y.argmax(axis=1)),\n",
        "                       display_labels=lb.classes_).plot(values_format=\".0f\",ax=ax)\n",
        "\n",
        "ax.set_xlabel(\"True Label\")\n",
        "ax.set_ylabel(\"Predicted Label\")\n",
        "ax.grid(False)\n",
        "plt.show()"
      ],
      "metadata": {
        "id": "ZtlW8dcMy6Gs",
        "colab": {
          "base_uri": "https://localhost:8080/",
          "height": 282
        },
        "outputId": "88b1888d-dfdb-4272-fea3-c9d2a7af4a47"
      },
      "execution_count": 49,
      "outputs": [
        {
          "output_type": "display_data",
          "data": {
            "text/plain": [
              "<Figure size 504x288 with 2 Axes>"
            ],
            "image/png": "[encoded data removed]"
          },
          "metadata": {}
        }
      ]
    },
    {
      "cell_type": "code",
      "source": [
        "# Uploading figures\n",
        "logger.info(\"Uploading figures\")\n",
        "run.log(\n",
        "    {\n",
        "        \"confusion_matrix\": wandb.Image(fig_confusion_matrix),\n",
        "        # \"other_figure\": wandb.Image(other_fig)\n",
        "    }\n",
        ")"
      ],
      "metadata": {
        "id": "l6FKVFAly6Gs",
        "colab": {
          "base_uri": "https://localhost:8080/"
        },
        "outputId": "60555558-87ef-4426-c7ce-51aa8ec8f044"
      },
      "execution_count": 50,
      "outputs": [
        {
          "output_type": "stream",
          "name": "stderr",
          "text": [
            "03-11-2022 14:21:42 Uploading figures\n"
          ]
        }
      ]
    },
    {
      "cell_type": "code",
      "source": [
        "# Evaluation Metrics\n",
        "logger.info(\"Validation Evaluation metrics\")\n",
        "fbeta = fbeta_score(test_y.argmax(axis=1), \n",
        "                    predictions.argmax(axis=1), \n",
        "                    beta=1, zero_division=1,average='weighted')\n",
        "precision = precision_score(test_y.argmax(axis=1),\n",
        "                            predictions.argmax(axis=1),\n",
        "                            zero_division=1,average='weighted')\n",
        "recall = recall_score(test_y.argmax(axis=1),\n",
        "                      predictions.argmax(axis=1),\n",
        "                      zero_division=1,average='weighted')\n",
        "acc = accuracy_score(test_y.argmax(axis=1),\n",
        "                     predictions.argmax(axis=1))\n",
        "\n",
        "logger.info(\"Validation Accuracy: {}\".format(acc))\n",
        "logger.info(\"Validation Precision: {}\".format(precision))\n",
        "logger.info(\"Validation Recall: {}\".format(recall))\n",
        "logger.info(\"Validation F1: {}\".format(fbeta))\n",
        "\n",
        "run.summary[\"Acc\"] = acc\n",
        "run.summary[\"Precision\"] = precision\n",
        "run.summary[\"Recall\"] = recall\n",
        "run.summary[\"F1\"] = fbeta\n",
        "# number of parameters\n",
        "run.summary[\"Count_Params\"] = model.count_params()\n",
        "# energy unit is kWh\n",
        "run.summary[\"Energy_Consumed\"] = tracker.final_emissions_data.energy_consumed\n",
        "run.summary[\"Energy_RAM\"] = tracker.final_emissions_data.ram_energy\n",
        "run.summary[\"Energy_GPU\"] = tracker.final_emissions_data.gpu_energy\n",
        "run.summary[\"Energy_CPU\"] = tracker.final_emissions_data.cpu_energy\n",
        "# kg\n",
        "run.summary[\"CO2_Emissions\"] = tracker.final_emissions_data.emissions"
      ],
      "metadata": {
        "id": "vcADzUqyy6Gs",
        "colab": {
          "base_uri": "https://localhost:8080/"
        },
        "outputId": "7197f40f-f98f-415a-8441-67c5e6dcccb5"
      },
      "execution_count": 51,
      "outputs": [
        {
          "output_type": "stream",
          "name": "stderr",
          "text": [
            "03-11-2022 14:21:46 Validation Evaluation metrics\n",
            "03-11-2022 14:21:46 Validation Accuracy: 0.9199\n",
            "03-11-2022 14:21:46 Validation Precision: 0.9221594811447672\n",
            "03-11-2022 14:21:46 Validation Recall: 0.9199\n",
            "03-11-2022 14:21:46 Validation F1: 0.919870399097544\n"
          ]
        }
      ]
    },
    {
      "cell_type": "code",
      "source": [
        "run.finish()"
      ],
      "metadata": {
        "id": "0zXbec0uy6Gs",
        "colab": {
          "base_uri": "https://localhost:8080/",
          "height": 598,
          "referenced_widgets": [
            "2ab18b6473ac4368a16063809edd8a29",
            "b29fb10a766f4798b0b33bddc90c02ef",
            "80a66e921f04489fb884f49e679ede10",
            "8135621bb541482fa3fd92486d77c9c3",
            "4fb556f826a54244b359efedc2ca8660",
            "7514ffe4b7354a42919c77f9d5c63d41",
            "c2d0f1f709654e83ad5d53bcaabc6724",
            "e103756e52e44dfb8f41d4bbe9c55c3f"
          ]
        },
        "outputId": "c0f4d1d5-7246-4c1d-ef5d-f582dc504916"
      },
      "execution_count": 52,
      "outputs": [
        {
          "output_type": "display_data",
          "data": {
            "text/plain": [
              "<IPython.core.display.HTML object>"
            ],
            "text/html": [
              "Waiting for W&B process to finish... <strong style=\"color:green\">(success).</strong>"
            ]
          },
          "metadata": {}
        },
        {
          "output_type": "display_data",
          "data": {
            "text/plain": [
              "VBox(children=(Label(value='0.026 MB of 0.033 MB uploaded (0.000 MB deduped)\\r'), FloatProgress(value=0.771811…"
            ],
            "application/vnd.jupyter.widget-view+json": {
              "version_major": 2,
              "version_minor": 0,
              "model_id": "2ab18b6473ac4368a16063809edd8a29"
            }
          },
          "metadata": {}
        },
        {
          "output_type": "display_data",
          "data": {
            "text/plain": [
              "<IPython.core.display.HTML object>"
            ],
            "text/html": [
              "<style>\n",
              "    table.wandb td:nth-child(1) { padding: 0 10px; text-align: left ; width: auto;} td:nth-child(2) {text-align: left ; width: 100%}\n",
              "    .wandb-row { display: flex; flex-direction: row; flex-wrap: wrap; justify-content: flex-start; width: 100% }\n",
              "    .wandb-col { display: flex; flex-direction: column; flex-basis: 100%; flex: 1; padding: 10px; }\n",
              "    </style>\n",
              "<div class=\"wandb-row\"><div class=\"wandb-col\"><h3>Run history:</h3><br/><table class=\"wandb\"><tr><td>accuracy</td><td>▅███▇▆▆▄▄▃▅▁▂▄▄▅▄▂▃▄</td></tr><tr><td>epoch</td><td>▁▁▂▂▂▃▃▄▄▄▅▅▅▆▆▇▇▇██</td></tr><tr><td>loss</td><td>▄▁▁▁▂▃▃▅▅▆▄█▇▅▅▄▅▇▆▅</td></tr><tr><td>val_accuracy</td><td>██████▇▆▅▆▄▄▄▄▅▆▁▅▅▅</td></tr><tr><td>val_loss</td><td>▂▁▂▁▁▂▂▃▄▃▅▅▆▅▄▃█▄▄▅</td></tr></table><br/></div><div class=\"wandb-col\"><h3>Run summary:</h3><br/><table class=\"wandb\"><tr><td>Acc</td><td>0.9199</td></tr><tr><td>CO2_Emissions</td><td>0.00175</td></tr><tr><td>Count_Params</td><td>61794</td></tr><tr><td>Energy_CPU</td><td>0.00156</td></tr><tr><td>Energy_Consumed</td><td>0.00277</td></tr><tr><td>Energy_GPU</td><td>0.00104</td></tr><tr><td>Energy_RAM</td><td>0.00017</td></tr><tr><td>F1</td><td>0.91987</td></tr><tr><td>GFLOPs</td><td>0.00042</td></tr><tr><td>Precision</td><td>0.92216</td></tr><tr><td>Recall</td><td>0.9199</td></tr><tr><td>accuracy</td><td>0.83338</td></tr><tr><td>best_epoch</td><td>3</td></tr><tr><td>best_val_loss</td><td>0.15922</td></tr><tr><td>epoch</td><td>19</td></tr><tr><td>loss</td><td>0.55515</td></tr><tr><td>val_accuracy</td><td>0.9199</td></tr><tr><td>val_loss</td><td>0.26877</td></tr></table><br/></div></div>"
            ]
          },
          "metadata": {}
        },
        {
          "output_type": "display_data",
          "data": {
            "text/plain": [
              "<IPython.core.display.HTML object>"
            ],
            "text/html": [
              "Synced <strong style=\"color:#cdcd00\">electric-glitter-1</strong>: <a href=\"https://wandb.ai/micaelbalza/IvaNet-5/runs/zsncvfbb\" target=\"_blank\">https://wandb.ai/micaelbalza/IvaNet-5/runs/zsncvfbb</a><br/>Synced 5 W&B file(s), 1 media file(s), 0 artifact file(s) and 0 other file(s)"
            ]
          },
          "metadata": {}
        },
        {
          "output_type": "display_data",
          "data": {
            "text/plain": [
              "<IPython.core.display.HTML object>"
            ],
            "text/html": [
              "Find logs at: <code>./wandb/run-20221103_141453-zsncvfbb/logs</code>"
            ]
          },
          "metadata": {}
        }
      ]
    }
  ]
}