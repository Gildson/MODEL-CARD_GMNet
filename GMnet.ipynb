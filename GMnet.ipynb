{
  "nbformat": 4,
  "nbformat_minor": 0,
  "metadata": {
    "colab": {
      "provenance": []
    },
    "kernelspec": {
      "name": "python3",
      "display_name": "Python 3"
    },
    "language_info": {
      "name": "python"
    },
    "accelerator": "GPU",
    "gpuClass": "standard",
    "widgets": {
      "application/vnd.jupyter.widget-state+json": {
        "7154d7bc49d24cbb8bf1897bc10bf275": {
          "model_module": "@jupyter-widgets/controls",
          "model_name": "VBoxModel",
          "model_module_version": "1.5.0",
          "state": {
            "_dom_classes": [],
            "_model_module": "@jupyter-widgets/controls",
            "_model_module_version": "1.5.0",
            "_model_name": "VBoxModel",
            "_view_count": null,
            "_view_module": "@jupyter-widgets/controls",
            "_view_module_version": "1.5.0",
            "_view_name": "VBoxView",
            "box_style": "",
            "children": [
              "IPY_MODEL_70c8315c522b45d485b64640e9aa47e1",
              "IPY_MODEL_0be4e7f7273346379fcb0e38b7003261"
            ],
            "layout": "IPY_MODEL_3de1d58eedcc41b3adea2f0162fad96e"
          }
        },
        "70c8315c522b45d485b64640e9aa47e1": {
          "model_module": "@jupyter-widgets/controls",
          "model_name": "LabelModel",
          "model_module_version": "1.5.0",
          "state": {
            "_dom_classes": [],
            "_model_module": "@jupyter-widgets/controls",
            "_model_module_version": "1.5.0",
            "_model_name": "LabelModel",
            "_view_count": null,
            "_view_module": "@jupyter-widgets/controls",
            "_view_module_version": "1.5.0",
            "_view_name": "LabelView",
            "description": "",
            "description_tooltip": null,
            "layout": "IPY_MODEL_9f294ce50f0d496e851c5bca913ae2d7",
            "placeholder": "​",
            "style": "IPY_MODEL_31a608210c80495f8f0e8a287fdb0ed5",
            "value": "0.001 MB of 0.001 MB uploaded (0.000 MB deduped)\r"
          }
        },
        "0be4e7f7273346379fcb0e38b7003261": {
          "model_module": "@jupyter-widgets/controls",
          "model_name": "FloatProgressModel",
          "model_module_version": "1.5.0",
          "state": {
            "_dom_classes": [],
            "_model_module": "@jupyter-widgets/controls",
            "_model_module_version": "1.5.0",
            "_model_name": "FloatProgressModel",
            "_view_count": null,
            "_view_module": "@jupyter-widgets/controls",
            "_view_module_version": "1.5.0",
            "_view_name": "ProgressView",
            "bar_style": "",
            "description": "",
            "description_tooltip": null,
            "layout": "IPY_MODEL_f6d711a15fae40e5862b1553a07d721d",
            "max": 1,
            "min": 0,
            "orientation": "horizontal",
            "style": "IPY_MODEL_abd60c4ca1704b78a877e3664cd2f239",
            "value": 1
          }
        },
        "3de1d58eedcc41b3adea2f0162fad96e": {
          "model_module": "@jupyter-widgets/base",
          "model_name": "LayoutModel",
          "model_module_version": "1.2.0",
          "state": {
            "_model_module": "@jupyter-widgets/base",
            "_model_module_version": "1.2.0",
            "_model_name": "LayoutModel",
            "_view_count": null,
            "_view_module": "@jupyter-widgets/base",
            "_view_module_version": "1.2.0",
            "_view_name": "LayoutView",
            "align_content": null,
            "align_items": null,
            "align_self": null,
            "border": null,
            "bottom": null,
            "display": null,
            "flex": null,
            "flex_flow": null,
            "grid_area": null,
            "grid_auto_columns": null,
            "grid_auto_flow": null,
            "grid_auto_rows": null,
            "grid_column": null,
            "grid_gap": null,
            "grid_row": null,
            "grid_template_areas": null,
            "grid_template_columns": null,
            "grid_template_rows": null,
            "height": null,
            "justify_content": null,
            "justify_items": null,
            "left": null,
            "margin": null,
            "max_height": null,
            "max_width": null,
            "min_height": null,
            "min_width": null,
            "object_fit": null,
            "object_position": null,
            "order": null,
            "overflow": null,
            "overflow_x": null,
            "overflow_y": null,
            "padding": null,
            "right": null,
            "top": null,
            "visibility": null,
            "width": null
          }
        },
        "9f294ce50f0d496e851c5bca913ae2d7": {
          "model_module": "@jupyter-widgets/base",
          "model_name": "LayoutModel",
          "model_module_version": "1.2.0",
          "state": {
            "_model_module": "@jupyter-widgets/base",
            "_model_module_version": "1.2.0",
            "_model_name": "LayoutModel",
            "_view_count": null,
            "_view_module": "@jupyter-widgets/base",
            "_view_module_version": "1.2.0",
            "_view_name": "LayoutView",
            "align_content": null,
            "align_items": null,
            "align_self": null,
            "border": null,
            "bottom": null,
            "display": null,
            "flex": null,
            "flex_flow": null,
            "grid_area": null,
            "grid_auto_columns": null,
            "grid_auto_flow": null,
            "grid_auto_rows": null,
            "grid_column": null,
            "grid_gap": null,
            "grid_row": null,
            "grid_template_areas": null,
            "grid_template_columns": null,
            "grid_template_rows": null,
            "height": null,
            "justify_content": null,
            "justify_items": null,
            "left": null,
            "margin": null,
            "max_height": null,
            "max_width": null,
            "min_height": null,
            "min_width": null,
            "object_fit": null,
            "object_position": null,
            "order": null,
            "overflow": null,
            "overflow_x": null,
            "overflow_y": null,
            "padding": null,
            "right": null,
            "top": null,
            "visibility": null,
            "width": null
          }
        },
        "31a608210c80495f8f0e8a287fdb0ed5": {
          "model_module": "@jupyter-widgets/controls",
          "model_name": "DescriptionStyleModel",
          "model_module_version": "1.5.0",
          "state": {
            "_model_module": "@jupyter-widgets/controls",
            "_model_module_version": "1.5.0",
            "_model_name": "DescriptionStyleModel",
            "_view_count": null,
            "_view_module": "@jupyter-widgets/base",
            "_view_module_version": "1.2.0",
            "_view_name": "StyleView",
            "description_width": ""
          }
        },
        "f6d711a15fae40e5862b1553a07d721d": {
          "model_module": "@jupyter-widgets/base",
          "model_name": "LayoutModel",
          "model_module_version": "1.2.0",
          "state": {
            "_model_module": "@jupyter-widgets/base",
            "_model_module_version": "1.2.0",
            "_model_name": "LayoutModel",
            "_view_count": null,
            "_view_module": "@jupyter-widgets/base",
            "_view_module_version": "1.2.0",
            "_view_name": "LayoutView",
            "align_content": null,
            "align_items": null,
            "align_self": null,
            "border": null,
            "bottom": null,
            "display": null,
            "flex": null,
            "flex_flow": null,
            "grid_area": null,
            "grid_auto_columns": null,
            "grid_auto_flow": null,
            "grid_auto_rows": null,
            "grid_column": null,
            "grid_gap": null,
            "grid_row": null,
            "grid_template_areas": null,
            "grid_template_columns": null,
            "grid_template_rows": null,
            "height": null,
            "justify_content": null,
            "justify_items": null,
            "left": null,
            "margin": null,
            "max_height": null,
            "max_width": null,
            "min_height": null,
            "min_width": null,
            "object_fit": null,
            "object_position": null,
            "order": null,
            "overflow": null,
            "overflow_x": null,
            "overflow_y": null,
            "padding": null,
            "right": null,
            "top": null,
            "visibility": null,
            "width": null
          }
        },
        "abd60c4ca1704b78a877e3664cd2f239": {
          "model_module": "@jupyter-widgets/controls",
          "model_name": "ProgressStyleModel",
          "model_module_version": "1.5.0",
          "state": {
            "_model_module": "@jupyter-widgets/controls",
            "_model_module_version": "1.5.0",
            "_model_name": "ProgressStyleModel",
            "_view_count": null,
            "_view_module": "@jupyter-widgets/base",
            "_view_module_version": "1.2.0",
            "_view_name": "StyleView",
            "bar_color": null,
            "description_width": ""
          }
        },
        "eb9b7a91c6f146f79c7baa153d322c6c": {
          "model_module": "@jupyter-widgets/controls",
          "model_name": "VBoxModel",
          "model_module_version": "1.5.0",
          "state": {
            "_dom_classes": [],
            "_model_module": "@jupyter-widgets/controls",
            "_model_module_version": "1.5.0",
            "_model_name": "VBoxModel",
            "_view_count": null,
            "_view_module": "@jupyter-widgets/controls",
            "_view_module_version": "1.5.0",
            "_view_name": "VBoxView",
            "box_style": "",
            "children": [
              "IPY_MODEL_8438783ca7c049dcbdaef8359449a5b0",
              "IPY_MODEL_155d4724dae54b62874aa2a18e4f0341"
            ],
            "layout": "IPY_MODEL_df529a3b480a41ef92ba5c1be446b5dc"
          }
        },
        "8438783ca7c049dcbdaef8359449a5b0": {
          "model_module": "@jupyter-widgets/controls",
          "model_name": "LabelModel",
          "model_module_version": "1.5.0",
          "state": {
            "_dom_classes": [],
            "_model_module": "@jupyter-widgets/controls",
            "_model_module_version": "1.5.0",
            "_model_name": "LabelModel",
            "_view_count": null,
            "_view_module": "@jupyter-widgets/controls",
            "_view_module_version": "1.5.0",
            "_view_name": "LabelView",
            "description": "",
            "description_tooltip": null,
            "layout": "IPY_MODEL_2393f75e93d841109b7c6bc23ab03fc6",
            "placeholder": "​",
            "style": "IPY_MODEL_12bcd02b830b4d5281cb83e992ad9d70",
            "value": "0.001 MB of 0.001 MB uploaded (0.000 MB deduped)\r"
          }
        },
        "155d4724dae54b62874aa2a18e4f0341": {
          "model_module": "@jupyter-widgets/controls",
          "model_name": "FloatProgressModel",
          "model_module_version": "1.5.0",
          "state": {
            "_dom_classes": [],
            "_model_module": "@jupyter-widgets/controls",
            "_model_module_version": "1.5.0",
            "_model_name": "FloatProgressModel",
            "_view_count": null,
            "_view_module": "@jupyter-widgets/controls",
            "_view_module_version": "1.5.0",
            "_view_name": "ProgressView",
            "bar_style": "",
            "description": "",
            "description_tooltip": null,
            "layout": "IPY_MODEL_994eb4808fbc4d31a24f409c8b82d6fa",
            "max": 1,
            "min": 0,
            "orientation": "horizontal",
            "style": "IPY_MODEL_f3fbd584e87d4bce86aaadc3798e7b13",
            "value": 1
          }
        },
        "df529a3b480a41ef92ba5c1be446b5dc": {
          "model_module": "@jupyter-widgets/base",
          "model_name": "LayoutModel",
          "model_module_version": "1.2.0",
          "state": {
            "_model_module": "@jupyter-widgets/base",
            "_model_module_version": "1.2.0",
            "_model_name": "LayoutModel",
            "_view_count": null,
            "_view_module": "@jupyter-widgets/base",
            "_view_module_version": "1.2.0",
            "_view_name": "LayoutView",
            "align_content": null,
            "align_items": null,
            "align_self": null,
            "border": null,
            "bottom": null,
            "display": null,
            "flex": null,
            "flex_flow": null,
            "grid_area": null,
            "grid_auto_columns": null,
            "grid_auto_flow": null,
            "grid_auto_rows": null,
            "grid_column": null,
            "grid_gap": null,
            "grid_row": null,
            "grid_template_areas": null,
            "grid_template_columns": null,
            "grid_template_rows": null,
            "height": null,
            "justify_content": null,
            "justify_items": null,
            "left": null,
            "margin": null,
            "max_height": null,
            "max_width": null,
            "min_height": null,
            "min_width": null,
            "object_fit": null,
            "object_position": null,
            "order": null,
            "overflow": null,
            "overflow_x": null,
            "overflow_y": null,
            "padding": null,
            "right": null,
            "top": null,
            "visibility": null,
            "width": null
          }
        },
        "2393f75e93d841109b7c6bc23ab03fc6": {
          "model_module": "@jupyter-widgets/base",
          "model_name": "LayoutModel",
          "model_module_version": "1.2.0",
          "state": {
            "_model_module": "@jupyter-widgets/base",
            "_model_module_version": "1.2.0",
            "_model_name": "LayoutModel",
            "_view_count": null,
            "_view_module": "@jupyter-widgets/base",
            "_view_module_version": "1.2.0",
            "_view_name": "LayoutView",
            "align_content": null,
            "align_items": null,
            "align_self": null,
            "border": null,
            "bottom": null,
            "display": null,
            "flex": null,
            "flex_flow": null,
            "grid_area": null,
            "grid_auto_columns": null,
            "grid_auto_flow": null,
            "grid_auto_rows": null,
            "grid_column": null,
            "grid_gap": null,
            "grid_row": null,
            "grid_template_areas": null,
            "grid_template_columns": null,
            "grid_template_rows": null,
            "height": null,
            "justify_content": null,
            "justify_items": null,
            "left": null,
            "margin": null,
            "max_height": null,
            "max_width": null,
            "min_height": null,
            "min_width": null,
            "object_fit": null,
            "object_position": null,
            "order": null,
            "overflow": null,
            "overflow_x": null,
            "overflow_y": null,
            "padding": null,
            "right": null,
            "top": null,
            "visibility": null,
            "width": null
          }
        },
        "12bcd02b830b4d5281cb83e992ad9d70": {
          "model_module": "@jupyter-widgets/controls",
          "model_name": "DescriptionStyleModel",
          "model_module_version": "1.5.0",
          "state": {
            "_model_module": "@jupyter-widgets/controls",
            "_model_module_version": "1.5.0",
            "_model_name": "DescriptionStyleModel",
            "_view_count": null,
            "_view_module": "@jupyter-widgets/base",
            "_view_module_version": "1.2.0",
            "_view_name": "StyleView",
            "description_width": ""
          }
        },
        "994eb4808fbc4d31a24f409c8b82d6fa": {
          "model_module": "@jupyter-widgets/base",
          "model_name": "LayoutModel",
          "model_module_version": "1.2.0",
          "state": {
            "_model_module": "@jupyter-widgets/base",
            "_model_module_version": "1.2.0",
            "_model_name": "LayoutModel",
            "_view_count": null,
            "_view_module": "@jupyter-widgets/base",
            "_view_module_version": "1.2.0",
            "_view_name": "LayoutView",
            "align_content": null,
            "align_items": null,
            "align_self": null,
            "border": null,
            "bottom": null,
            "display": null,
            "flex": null,
            "flex_flow": null,
            "grid_area": null,
            "grid_auto_columns": null,
            "grid_auto_flow": null,
            "grid_auto_rows": null,
            "grid_column": null,
            "grid_gap": null,
            "grid_row": null,
            "grid_template_areas": null,
            "grid_template_columns": null,
            "grid_template_rows": null,
            "height": null,
            "justify_content": null,
            "justify_items": null,
            "left": null,
            "margin": null,
            "max_height": null,
            "max_width": null,
            "min_height": null,
            "min_width": null,
            "object_fit": null,
            "object_position": null,
            "order": null,
            "overflow": null,
            "overflow_x": null,
            "overflow_y": null,
            "padding": null,
            "right": null,
            "top": null,
            "visibility": null,
            "width": null
          }
        },
        "f3fbd584e87d4bce86aaadc3798e7b13": {
          "model_module": "@jupyter-widgets/controls",
          "model_name": "ProgressStyleModel",
          "model_module_version": "1.5.0",
          "state": {
            "_model_module": "@jupyter-widgets/controls",
            "_model_module_version": "1.5.0",
            "_model_name": "ProgressStyleModel",
            "_view_count": null,
            "_view_module": "@jupyter-widgets/base",
            "_view_module_version": "1.2.0",
            "_view_name": "StyleView",
            "bar_color": null,
            "description_width": ""
          }
        },
        "25137b6a901847a6a0c7e60f82edee7d": {
          "model_module": "@jupyter-widgets/controls",
          "model_name": "VBoxModel",
          "model_module_version": "1.5.0",
          "state": {
            "_dom_classes": [],
            "_model_module": "@jupyter-widgets/controls",
            "_model_module_version": "1.5.0",
            "_model_name": "VBoxModel",
            "_view_count": null,
            "_view_module": "@jupyter-widgets/controls",
            "_view_module_version": "1.5.0",
            "_view_name": "VBoxView",
            "box_style": "",
            "children": [
              "IPY_MODEL_73c472e5438b4159ac677228109433f3",
              "IPY_MODEL_116a9f46ce52462db6baf5f7362a2fd0"
            ],
            "layout": "IPY_MODEL_bfa79362805843dcbfe248678e5f6589"
          }
        },
        "73c472e5438b4159ac677228109433f3": {
          "model_module": "@jupyter-widgets/controls",
          "model_name": "LabelModel",
          "model_module_version": "1.5.0",
          "state": {
            "_dom_classes": [],
            "_model_module": "@jupyter-widgets/controls",
            "_model_module_version": "1.5.0",
            "_model_name": "LabelModel",
            "_view_count": null,
            "_view_module": "@jupyter-widgets/controls",
            "_view_module_version": "1.5.0",
            "_view_name": "LabelView",
            "description": "",
            "description_tooltip": null,
            "layout": "IPY_MODEL_8a9170ce80094b1bad8bde7d662f87d9",
            "placeholder": "​",
            "style": "IPY_MODEL_086f351669bc44f28b34e9ad7b479530",
            "value": "0.001 MB of 0.001 MB uploaded (0.000 MB deduped)\r"
          }
        },
        "116a9f46ce52462db6baf5f7362a2fd0": {
          "model_module": "@jupyter-widgets/controls",
          "model_name": "FloatProgressModel",
          "model_module_version": "1.5.0",
          "state": {
            "_dom_classes": [],
            "_model_module": "@jupyter-widgets/controls",
            "_model_module_version": "1.5.0",
            "_model_name": "FloatProgressModel",
            "_view_count": null,
            "_view_module": "@jupyter-widgets/controls",
            "_view_module_version": "1.5.0",
            "_view_name": "ProgressView",
            "bar_style": "",
            "description": "",
            "description_tooltip": null,
            "layout": "IPY_MODEL_49db0ebabaab41b0adbcd319568c601a",
            "max": 1,
            "min": 0,
            "orientation": "horizontal",
            "style": "IPY_MODEL_4b85f2d5f16e420dbe37349d814d48fd",
            "value": 1
          }
        },
        "bfa79362805843dcbfe248678e5f6589": {
          "model_module": "@jupyter-widgets/base",
          "model_name": "LayoutModel",
          "model_module_version": "1.2.0",
          "state": {
            "_model_module": "@jupyter-widgets/base",
            "_model_module_version": "1.2.0",
            "_model_name": "LayoutModel",
            "_view_count": null,
            "_view_module": "@jupyter-widgets/base",
            "_view_module_version": "1.2.0",
            "_view_name": "LayoutView",
            "align_content": null,
            "align_items": null,
            "align_self": null,
            "border": null,
            "bottom": null,
            "display": null,
            "flex": null,
            "flex_flow": null,
            "grid_area": null,
            "grid_auto_columns": null,
            "grid_auto_flow": null,
            "grid_auto_rows": null,
            "grid_column": null,
            "grid_gap": null,
            "grid_row": null,
            "grid_template_areas": null,
            "grid_template_columns": null,
            "grid_template_rows": null,
            "height": null,
            "justify_content": null,
            "justify_items": null,
            "left": null,
            "margin": null,
            "max_height": null,
            "max_width": null,
            "min_height": null,
            "min_width": null,
            "object_fit": null,
            "object_position": null,
            "order": null,
            "overflow": null,
            "overflow_x": null,
            "overflow_y": null,
            "padding": null,
            "right": null,
            "top": null,
            "visibility": null,
            "width": null
          }
        },
        "8a9170ce80094b1bad8bde7d662f87d9": {
          "model_module": "@jupyter-widgets/base",
          "model_name": "LayoutModel",
          "model_module_version": "1.2.0",
          "state": {
            "_model_module": "@jupyter-widgets/base",
            "_model_module_version": "1.2.0",
            "_model_name": "LayoutModel",
            "_view_count": null,
            "_view_module": "@jupyter-widgets/base",
            "_view_module_version": "1.2.0",
            "_view_name": "LayoutView",
            "align_content": null,
            "align_items": null,
            "align_self": null,
            "border": null,
            "bottom": null,
            "display": null,
            "flex": null,
            "flex_flow": null,
            "grid_area": null,
            "grid_auto_columns": null,
            "grid_auto_flow": null,
            "grid_auto_rows": null,
            "grid_column": null,
            "grid_gap": null,
            "grid_row": null,
            "grid_template_areas": null,
            "grid_template_columns": null,
            "grid_template_rows": null,
            "height": null,
            "justify_content": null,
            "justify_items": null,
            "left": null,
            "margin": null,
            "max_height": null,
            "max_width": null,
            "min_height": null,
            "min_width": null,
            "object_fit": null,
            "object_position": null,
            "order": null,
            "overflow": null,
            "overflow_x": null,
            "overflow_y": null,
            "padding": null,
            "right": null,
            "top": null,
            "visibility": null,
            "width": null
          }
        },
        "086f351669bc44f28b34e9ad7b479530": {
          "model_module": "@jupyter-widgets/controls",
          "model_name": "DescriptionStyleModel",
          "model_module_version": "1.5.0",
          "state": {
            "_model_module": "@jupyter-widgets/controls",
            "_model_module_version": "1.5.0",
            "_model_name": "DescriptionStyleModel",
            "_view_count": null,
            "_view_module": "@jupyter-widgets/base",
            "_view_module_version": "1.2.0",
            "_view_name": "StyleView",
            "description_width": ""
          }
        },
        "49db0ebabaab41b0adbcd319568c601a": {
          "model_module": "@jupyter-widgets/base",
          "model_name": "LayoutModel",
          "model_module_version": "1.2.0",
          "state": {
            "_model_module": "@jupyter-widgets/base",
            "_model_module_version": "1.2.0",
            "_model_name": "LayoutModel",
            "_view_count": null,
            "_view_module": "@jupyter-widgets/base",
            "_view_module_version": "1.2.0",
            "_view_name": "LayoutView",
            "align_content": null,
            "align_items": null,
            "align_self": null,
            "border": null,
            "bottom": null,
            "display": null,
            "flex": null,
            "flex_flow": null,
            "grid_area": null,
            "grid_auto_columns": null,
            "grid_auto_flow": null,
            "grid_auto_rows": null,
            "grid_column": null,
            "grid_gap": null,
            "grid_row": null,
            "grid_template_areas": null,
            "grid_template_columns": null,
            "grid_template_rows": null,
            "height": null,
            "justify_content": null,
            "justify_items": null,
            "left": null,
            "margin": null,
            "max_height": null,
            "max_width": null,
            "min_height": null,
            "min_width": null,
            "object_fit": null,
            "object_position": null,
            "order": null,
            "overflow": null,
            "overflow_x": null,
            "overflow_y": null,
            "padding": null,
            "right": null,
            "top": null,
            "visibility": null,
            "width": null
          }
        },
        "4b85f2d5f16e420dbe37349d814d48fd": {
          "model_module": "@jupyter-widgets/controls",
          "model_name": "ProgressStyleModel",
          "model_module_version": "1.5.0",
          "state": {
            "_model_module": "@jupyter-widgets/controls",
            "_model_module_version": "1.5.0",
            "_model_name": "ProgressStyleModel",
            "_view_count": null,
            "_view_module": "@jupyter-widgets/base",
            "_view_module_version": "1.2.0",
            "_view_name": "StyleView",
            "bar_color": null,
            "description_width": ""
          }
        },
        "41f3ef1c2f93469ca6bbe36d2d87516e": {
          "model_module": "@jupyter-widgets/controls",
          "model_name": "VBoxModel",
          "model_module_version": "1.5.0",
          "state": {
            "_dom_classes": [],
            "_model_module": "@jupyter-widgets/controls",
            "_model_module_version": "1.5.0",
            "_model_name": "VBoxModel",
            "_view_count": null,
            "_view_module": "@jupyter-widgets/controls",
            "_view_module_version": "1.5.0",
            "_view_name": "VBoxView",
            "box_style": "",
            "children": [
              "IPY_MODEL_67fa5ffb0adf41bf8ea2372ba0070e13",
              "IPY_MODEL_4d6e72b457f34457adc238f6f95add76"
            ],
            "layout": "IPY_MODEL_9ca029fb9c7c45de84db1d82ea63db64"
          }
        },
        "67fa5ffb0adf41bf8ea2372ba0070e13": {
          "model_module": "@jupyter-widgets/controls",
          "model_name": "LabelModel",
          "model_module_version": "1.5.0",
          "state": {
            "_dom_classes": [],
            "_model_module": "@jupyter-widgets/controls",
            "_model_module_version": "1.5.0",
            "_model_name": "LabelModel",
            "_view_count": null,
            "_view_module": "@jupyter-widgets/controls",
            "_view_module_version": "1.5.0",
            "_view_name": "LabelView",
            "description": "",
            "description_tooltip": null,
            "layout": "IPY_MODEL_ed868d425a9e4f70876086a824e14fc6",
            "placeholder": "​",
            "style": "IPY_MODEL_3d28ce62525f4723b4979fcd886a4e8e",
            "value": "0.001 MB of 0.001 MB uploaded (0.000 MB deduped)\r"
          }
        },
        "4d6e72b457f34457adc238f6f95add76": {
          "model_module": "@jupyter-widgets/controls",
          "model_name": "FloatProgressModel",
          "model_module_version": "1.5.0",
          "state": {
            "_dom_classes": [],
            "_model_module": "@jupyter-widgets/controls",
            "_model_module_version": "1.5.0",
            "_model_name": "FloatProgressModel",
            "_view_count": null,
            "_view_module": "@jupyter-widgets/controls",
            "_view_module_version": "1.5.0",
            "_view_name": "ProgressView",
            "bar_style": "",
            "description": "",
            "description_tooltip": null,
            "layout": "IPY_MODEL_502a4fa19b934583b45cfd69c6ef5c3f",
            "max": 1,
            "min": 0,
            "orientation": "horizontal",
            "style": "IPY_MODEL_87a11209394c4f358fb3948db6ccf81b",
            "value": 1
          }
        },
        "9ca029fb9c7c45de84db1d82ea63db64": {
          "model_module": "@jupyter-widgets/base",
          "model_name": "LayoutModel",
          "model_module_version": "1.2.0",
          "state": {
            "_model_module": "@jupyter-widgets/base",
            "_model_module_version": "1.2.0",
            "_model_name": "LayoutModel",
            "_view_count": null,
            "_view_module": "@jupyter-widgets/base",
            "_view_module_version": "1.2.0",
            "_view_name": "LayoutView",
            "align_content": null,
            "align_items": null,
            "align_self": null,
            "border": null,
            "bottom": null,
            "display": null,
            "flex": null,
            "flex_flow": null,
            "grid_area": null,
            "grid_auto_columns": null,
            "grid_auto_flow": null,
            "grid_auto_rows": null,
            "grid_column": null,
            "grid_gap": null,
            "grid_row": null,
            "grid_template_areas": null,
            "grid_template_columns": null,
            "grid_template_rows": null,
            "height": null,
            "justify_content": null,
            "justify_items": null,
            "left": null,
            "margin": null,
            "max_height": null,
            "max_width": null,
            "min_height": null,
            "min_width": null,
            "object_fit": null,
            "object_position": null,
            "order": null,
            "overflow": null,
            "overflow_x": null,
            "overflow_y": null,
            "padding": null,
            "right": null,
            "top": null,
            "visibility": null,
            "width": null
          }
        },
        "ed868d425a9e4f70876086a824e14fc6": {
          "model_module": "@jupyter-widgets/base",
          "model_name": "LayoutModel",
          "model_module_version": "1.2.0",
          "state": {
            "_model_module": "@jupyter-widgets/base",
            "_model_module_version": "1.2.0",
            "_model_name": "LayoutModel",
            "_view_count": null,
            "_view_module": "@jupyter-widgets/base",
            "_view_module_version": "1.2.0",
            "_view_name": "LayoutView",
            "align_content": null,
            "align_items": null,
            "align_self": null,
            "border": null,
            "bottom": null,
            "display": null,
            "flex": null,
            "flex_flow": null,
            "grid_area": null,
            "grid_auto_columns": null,
            "grid_auto_flow": null,
            "grid_auto_rows": null,
            "grid_column": null,
            "grid_gap": null,
            "grid_row": null,
            "grid_template_areas": null,
            "grid_template_columns": null,
            "grid_template_rows": null,
            "height": null,
            "justify_content": null,
            "justify_items": null,
            "left": null,
            "margin": null,
            "max_height": null,
            "max_width": null,
            "min_height": null,
            "min_width": null,
            "object_fit": null,
            "object_position": null,
            "order": null,
            "overflow": null,
            "overflow_x": null,
            "overflow_y": null,
            "padding": null,
            "right": null,
            "top": null,
            "visibility": null,
            "width": null
          }
        },
        "3d28ce62525f4723b4979fcd886a4e8e": {
          "model_module": "@jupyter-widgets/controls",
          "model_name": "DescriptionStyleModel",
          "model_module_version": "1.5.0",
          "state": {
            "_model_module": "@jupyter-widgets/controls",
            "_model_module_version": "1.5.0",
            "_model_name": "DescriptionStyleModel",
            "_view_count": null,
            "_view_module": "@jupyter-widgets/base",
            "_view_module_version": "1.2.0",
            "_view_name": "StyleView",
            "description_width": ""
          }
        },
        "502a4fa19b934583b45cfd69c6ef5c3f": {
          "model_module": "@jupyter-widgets/base",
          "model_name": "LayoutModel",
          "model_module_version": "1.2.0",
          "state": {
            "_model_module": "@jupyter-widgets/base",
            "_model_module_version": "1.2.0",
            "_model_name": "LayoutModel",
            "_view_count": null,
            "_view_module": "@jupyter-widgets/base",
            "_view_module_version": "1.2.0",
            "_view_name": "LayoutView",
            "align_content": null,
            "align_items": null,
            "align_self": null,
            "border": null,
            "bottom": null,
            "display": null,
            "flex": null,
            "flex_flow": null,
            "grid_area": null,
            "grid_auto_columns": null,
            "grid_auto_flow": null,
            "grid_auto_rows": null,
            "grid_column": null,
            "grid_gap": null,
            "grid_row": null,
            "grid_template_areas": null,
            "grid_template_columns": null,
            "grid_template_rows": null,
            "height": null,
            "justify_content": null,
            "justify_items": null,
            "left": null,
            "margin": null,
            "max_height": null,
            "max_width": null,
            "min_height": null,
            "min_width": null,
            "object_fit": null,
            "object_position": null,
            "order": null,
            "overflow": null,
            "overflow_x": null,
            "overflow_y": null,
            "padding": null,
            "right": null,
            "top": null,
            "visibility": null,
            "width": null
          }
        },
        "87a11209394c4f358fb3948db6ccf81b": {
          "model_module": "@jupyter-widgets/controls",
          "model_name": "ProgressStyleModel",
          "model_module_version": "1.5.0",
          "state": {
            "_model_module": "@jupyter-widgets/controls",
            "_model_module_version": "1.5.0",
            "_model_name": "ProgressStyleModel",
            "_view_count": null,
            "_view_module": "@jupyter-widgets/base",
            "_view_module_version": "1.2.0",
            "_view_name": "StyleView",
            "bar_color": null,
            "description_width": ""
          }
        }
      }
    }
  },
  "cells": [
    {
      "cell_type": "code",
      "execution_count": null,
      "metadata": {
        "colab": {
          "base_uri": "https://localhost:8080/"
        },
        "id": "kBrqhLch20Oj",
        "outputId": "f8fdb94b-d20d-4192-9325-12165b0cad48"
      },
      "outputs": [
        {
          "output_type": "stream",
          "name": "stdout",
          "text": [
            "\u001b[K     |████████████████████████████████| 1.9 MB 6.3 MB/s \n",
            "\u001b[K     |████████████████████████████████| 182 kB 53.7 MB/s \n",
            "\u001b[K     |████████████████████████████████| 166 kB 18.7 MB/s \n",
            "\u001b[K     |████████████████████████████████| 63 kB 612 kB/s \n",
            "\u001b[K     |████████████████████████████████| 166 kB 58.1 MB/s \n",
            "\u001b[K     |████████████████████████████████| 162 kB 50.4 MB/s \n",
            "\u001b[K     |████████████████████████████████| 162 kB 18.8 MB/s \n",
            "\u001b[K     |████████████████████████████████| 158 kB 55.0 MB/s \n",
            "\u001b[K     |████████████████████████████████| 157 kB 15.2 MB/s \n",
            "\u001b[K     |████████████████████████████████| 157 kB 36.0 MB/s \n",
            "\u001b[K     |████████████████████████████████| 157 kB 29.4 MB/s \n",
            "\u001b[K     |████████████████████████████████| 157 kB 45.1 MB/s \n",
            "\u001b[K     |████████████████████████████████| 157 kB 42.0 MB/s \n",
            "\u001b[K     |████████████████████████████████| 157 kB 32.3 MB/s \n",
            "\u001b[K     |████████████████████████████████| 157 kB 51.8 MB/s \n",
            "\u001b[K     |████████████████████████████████| 156 kB 58.8 MB/s \n",
            "\u001b[?25h  Building wheel for pathtools (setup.py) ... \u001b[?25l\u001b[?25hdone\n"
          ]
        }
      ],
      "source": [
        "!pip install wandb -qU"
      ]
    },
    {
      "cell_type": "code",
      "source": [
        "# a Python package for tracking the carbon emissions produced by various\n",
        "# kinds of computer programs, from straightforward algorithms to deep neural networks.\n",
        "!pip install codecarbon"
      ],
      "metadata": {
        "colab": {
          "base_uri": "https://localhost:8080/"
        },
        "id": "jEQif83925-Z",
        "outputId": "df2c1505-d184-43cf-9207-629dfa7fbd80"
      },
      "execution_count": null,
      "outputs": [
        {
          "output_type": "stream",
          "name": "stdout",
          "text": [
            "Looking in indexes: https://pypi.org/simple, https://us-python.pkg.dev/colab-wheels/public/simple/\n",
            "Collecting codecarbon\n",
            "  Downloading codecarbon-2.1.4-py3-none-any.whl (174 kB)\n",
            "\u001b[K     |████████████████████████████████| 174 kB 24.4 MB/s \n",
            "\u001b[?25hCollecting pynvml\n",
            "  Downloading pynvml-11.4.1-py3-none-any.whl (46 kB)\n",
            "\u001b[K     |████████████████████████████████| 46 kB 5.0 MB/s \n",
            "\u001b[?25hRequirement already satisfied: click in /usr/local/lib/python3.7/dist-packages (from codecarbon) (7.1.2)\n",
            "Collecting fuzzywuzzy\n",
            "  Downloading fuzzywuzzy-0.18.0-py2.py3-none-any.whl (18 kB)\n",
            "Requirement already satisfied: psutil in /usr/local/lib/python3.7/dist-packages (from codecarbon) (5.4.8)\n",
            "Requirement already satisfied: requests in /usr/local/lib/python3.7/dist-packages (from codecarbon) (2.23.0)\n",
            "Collecting arrow\n",
            "  Downloading arrow-1.2.3-py3-none-any.whl (66 kB)\n",
            "\u001b[K     |████████████████████████████████| 66 kB 1.2 MB/s \n",
            "\u001b[?25hRequirement already satisfied: pandas in /usr/local/lib/python3.7/dist-packages (from codecarbon) (1.3.5)\n",
            "Collecting py-cpuinfo\n",
            "  Downloading py_cpuinfo-9.0.0-py3-none-any.whl (22 kB)\n",
            "Requirement already satisfied: typing-extensions in /usr/local/lib/python3.7/dist-packages (from arrow->codecarbon) (4.1.1)\n",
            "Requirement already satisfied: python-dateutil>=2.7.0 in /usr/local/lib/python3.7/dist-packages (from arrow->codecarbon) (2.8.2)\n",
            "Requirement already satisfied: six>=1.5 in /usr/local/lib/python3.7/dist-packages (from python-dateutil>=2.7.0->arrow->codecarbon) (1.15.0)\n",
            "Requirement already satisfied: pytz>=2017.3 in /usr/local/lib/python3.7/dist-packages (from pandas->codecarbon) (2022.5)\n",
            "Requirement already satisfied: numpy>=1.17.3 in /usr/local/lib/python3.7/dist-packages (from pandas->codecarbon) (1.21.6)\n",
            "Requirement already satisfied: chardet<4,>=3.0.2 in /usr/local/lib/python3.7/dist-packages (from requests->codecarbon) (3.0.4)\n",
            "Requirement already satisfied: urllib3!=1.25.0,!=1.25.1,<1.26,>=1.21.1 in /usr/local/lib/python3.7/dist-packages (from requests->codecarbon) (1.24.3)\n",
            "Requirement already satisfied: certifi>=2017.4.17 in /usr/local/lib/python3.7/dist-packages (from requests->codecarbon) (2022.9.24)\n",
            "Requirement already satisfied: idna<3,>=2.5 in /usr/local/lib/python3.7/dist-packages (from requests->codecarbon) (2.10)\n",
            "Installing collected packages: pynvml, py-cpuinfo, fuzzywuzzy, arrow, codecarbon\n",
            "Successfully installed arrow-1.2.3 codecarbon-2.1.4 fuzzywuzzy-0.18.0 py-cpuinfo-9.0.0 pynvml-11.4.1\n"
          ]
        }
      ]
    },
    {
      "cell_type": "code",
      "source": [
        "# import the necessary packages\n",
        "import logging\n",
        "import joblib\n",
        "import tensorflow as tf\n",
        "from tensorflow.keras.models import Sequential\n",
        "from tensorflow.keras.layers import BatchNormalization\n",
        "from tensorflow.keras.layers import Dropout\n",
        "from tensorflow.keras.layers import Conv2D\n",
        "from tensorflow.keras.layers import AveragePooling2D\n",
        "from tensorflow.keras.layers import Activation\n",
        "from tensorflow.keras.layers import Flatten\n",
        "from tensorflow.keras.layers import Dense\n",
        "from tensorflow.keras import backend as K\n",
        "from tensorflow.keras.optimizers import SGD, Adam\n",
        "from tensorflow.keras.datasets import mnist\n",
        "from sklearn.preprocessing import LabelBinarizer\n",
        "from tensorflow.keras import backend as K\n",
        "import matplotlib.pyplot as plt\n",
        "import numpy as np\n",
        "from codecarbon import EmissionsTracker\n",
        "from tensorflow.keras.callbacks import Callback\n",
        "from wandb.keras import WandbCallback\n",
        "from sklearn.metrics import classification_report\n",
        "from sklearn.metrics import fbeta_score, precision_score, recall_score, accuracy_score\n",
        "from sklearn.metrics import confusion_matrix\n",
        "from sklearn.metrics import ConfusionMatrixDisplay\n",
        "import wandb\n",
        "import cv2\n",
        "from sklearn.model_selection import train_test_split\n",
        "from tensorflow.keras.preprocessing.image import ImageDataGenerator"
      ],
      "metadata": {
        "id": "rVLrgoF327_t"
      },
      "execution_count": null,
      "outputs": []
    },
    {
      "cell_type": "code",
      "source": [
        "wandb.login()"
      ],
      "metadata": {
        "colab": {
          "base_uri": "https://localhost:8080/",
          "height": 139
        },
        "id": "4eidBR6J2-7a",
        "outputId": "33095898-dbe0-41eb-acb9-dd00b03acfaa"
      },
      "execution_count": null,
      "outputs": [
        {
          "output_type": "stream",
          "name": "stderr",
          "text": [
            "ERROR:wandb.jupyter:Failed to detect the name of this notebook, you can set it manually with the WANDB_NOTEBOOK_NAME environment variable to enable code saving.\n"
          ]
        },
        {
          "output_type": "display_data",
          "data": {
            "text/plain": [
              "<IPython.core.display.Javascript object>"
            ],
            "application/javascript": [
              "\n",
              "        window._wandbApiKey = new Promise((resolve, reject) => {\n",
              "            function loadScript(url) {\n",
              "            return new Promise(function(resolve, reject) {\n",
              "                let newScript = document.createElement(\"script\");\n",
              "                newScript.onerror = reject;\n",
              "                newScript.onload = resolve;\n",
              "                document.body.appendChild(newScript);\n",
              "                newScript.src = url;\n",
              "            });\n",
              "            }\n",
              "            loadScript(\"https://cdn.jsdelivr.net/npm/postmate/build/postmate.min.js\").then(() => {\n",
              "            const iframe = document.createElement('iframe')\n",
              "            iframe.style.cssText = \"width:0;height:0;border:none\"\n",
              "            document.body.appendChild(iframe)\n",
              "            const handshake = new Postmate({\n",
              "                container: iframe,\n",
              "                url: 'https://wandb.ai/authorize'\n",
              "            });\n",
              "            const timeout = setTimeout(() => reject(\"Couldn't auto authenticate\"), 5000)\n",
              "            handshake.then(function(child) {\n",
              "                child.on('authorize', data => {\n",
              "                    clearTimeout(timeout)\n",
              "                    resolve(data)\n",
              "                });\n",
              "            });\n",
              "            })\n",
              "        });\n",
              "    "
            ]
          },
          "metadata": {}
        },
        {
          "output_type": "stream",
          "name": "stderr",
          "text": [
            "\u001b[34m\u001b[1mwandb\u001b[0m: Logging into wandb.ai. (Learn how to deploy a W&B server locally: https://wandb.me/wandb-server)\n",
            "\u001b[34m\u001b[1mwandb\u001b[0m: You can find your API key in your browser here: https://wandb.ai/authorize\n",
            "wandb: Paste an API key from your profile and hit enter, or press ctrl+c to quit: "
          ]
        },
        {
          "name": "stdout",
          "output_type": "stream",
          "text": [
            "··········\n"
          ]
        },
        {
          "output_type": "stream",
          "name": "stderr",
          "text": [
            "\u001b[34m\u001b[1mwandb\u001b[0m: Appending key for api.wandb.ai to your netrc file: /root/.netrc\n"
          ]
        },
        {
          "output_type": "execute_result",
          "data": {
            "text/plain": [
              "True"
            ]
          },
          "metadata": {},
          "execution_count": 4
        }
      ]
    },
    {
      "cell_type": "code",
      "source": [
        "# configure logging\n",
        "# reference for a logging obj\n",
        "logger = logging.getLogger()\n",
        "\n",
        "# set level of logging\n",
        "logger.setLevel(logging.INFO)\n",
        "\n",
        "# create handlers\n",
        "c_handler = logging.StreamHandler()\n",
        "c_format = logging.Formatter(fmt=\"%(asctime)s %(message)s\",datefmt='%d-%m-%Y %H:%M:%S')\n",
        "c_handler.setFormatter(c_format)\n",
        "\n",
        "# add handler to the logger\n",
        "logger.handlers[0] = c_handler"
      ],
      "metadata": {
        "id": "anCpQtHv3BG2"
      },
      "execution_count": null,
      "outputs": []
    },
    {
      "cell_type": "markdown",
      "source": [
        "Implementing IvanNet"
      ],
      "metadata": {
        "id": "y63GZEc23cFf"
      }
    },
    {
      "cell_type": "code",
      "source": [
        "class GMNet:\n",
        "  # create GMNet model\n",
        "  @staticmethod\n",
        "  def build(width, height, depth, classes):\n",
        "    # initialize the model\n",
        "    model = Sequential()\n",
        "    inputShape = (height, width, depth)\n",
        "    \n",
        "    # if we are using \"channels first\", update the input shape\n",
        "    if K.image_data_format() == \"channels_first\":\n",
        "      inputShape = (depth, height, width)\n",
        "   \n",
        "    # first set of CONV => RELU => POOL layers\n",
        "    model.add(Conv2D(6, (5,5), strides=1, padding='same',\n",
        "                     activation=wandb.config.activation, input_shape=(28,28,1), )) #C1\n",
        "    model.add(BatchNormalization())\n",
        "    model.add(AveragePooling2D()) #S2\n",
        "    model.add(Dropout(wandb.config.dropout))\n",
        "\n",
        "    # second set of CONV => RELU => POOL layers\n",
        "    model.add(Conv2D(16, (5,5), strides=1, padding='valid',\n",
        "                     activation=wandb.config.activation)) #C3\n",
        "    model.add(BatchNormalization())\n",
        "    model.add(AveragePooling2D()) #S4\n",
        "    model.add(Dropout(wandb.config.dropout))\n",
        "\n",
        "    # a flatten and two set of FC => RELU layers\n",
        "    model.add(Flatten()) #Flatten\n",
        "    model.add(Dense(wandb.config.layers, activation=wandb.config.activation)) #C5\n",
        "    model.add(Dropout(wandb.config.dropout))\n",
        "    model.add(Dense(wandb.config.layers, activation=wandb.config.activation)) #F6\n",
        "    model.add(Dropout(wandb.config.dropout))\n",
        "\n",
        "    # softmax classifier\n",
        "    model.add(Dense(10, activation='softmax')) #Output layer\n",
        "    \n",
        "    # return the constructed network architecture\n",
        "    return model"
      ],
      "metadata": {
        "id": "PDz-EBiT3DiA"
      },
      "execution_count": null,
      "outputs": []
    },
    {
      "cell_type": "markdown",
      "source": [
        "Fetch, Preprocessing and Data Segregation"
      ],
      "metadata": {
        "id": "JsIiWRH43XkZ"
      }
    },
    {
      "cell_type": "code",
      "source": [
        "# since we are using Jupyter Notebooks we can replace our argument\n",
        "# parsing code with *hard coded* arguments and values\n",
        "args = {\n",
        "  \"project_name\": \"GMNet-sweep\"\n",
        "}"
      ],
      "metadata": {
        "id": "HP6TCutA3RwN"
      },
      "execution_count": null,
      "outputs": []
    },
    {
      "cell_type": "code",
      "source": [
        "# grab the MNIST dataset (if this is your first time using this\n",
        "# dataset then the 11MB download may take a second)\n",
        "logger.info(\"[INFO] accessing MNIST...\")\n",
        "((train_x, train_y), (test_x, test_y)) = mnist.load_data()\n",
        "\n",
        "#Validation\n",
        "(train_x, val_x, train_y, val_y) = train_test_split(train_x, train_y,test_size=0.25, random_state=42)\n",
        "\n",
        "logger.info(\"Train x: {}\".format(train_x.shape))\n",
        "logger.info(\"Train y: {}\".format(train_y.shape))\n",
        "logger.info(\"Test x: {}\".format(test_x.shape))\n",
        "logger.info(\"Test y: {}\".format(test_y.shape))\n",
        "logger.info(\"Validation x: {}\".format(val_x.shape))\n",
        "logger.info(\"Validation y: {}\".format(val_y.shape))"
      ],
      "metadata": {
        "colab": {
          "base_uri": "https://localhost:8080/"
        },
        "id": "RlARo6CO3__R",
        "outputId": "35352dd1-58f6-4896-a8a2-754247b3b7d6"
      },
      "execution_count": null,
      "outputs": [
        {
          "output_type": "stream",
          "name": "stderr",
          "text": [
            "06-11-2022 17:51:32 [INFO] accessing MNIST...\n"
          ]
        },
        {
          "output_type": "stream",
          "name": "stdout",
          "text": [
            "Downloading data from https://storage.googleapis.com/tensorflow/tf-keras-datasets/mnist.npz\n",
            "11490434/11490434 [==============================] - 0s 0us/step\n"
          ]
        },
        {
          "output_type": "stream",
          "name": "stderr",
          "text": [
            "06-11-2022 17:51:33 Train x: (45000, 28, 28)\n",
            "06-11-2022 17:51:33 Train y: (45000,)\n",
            "06-11-2022 17:51:33 Test x: (10000, 28, 28)\n",
            "06-11-2022 17:51:33 Test y: (10000,)\n",
            "06-11-2022 17:51:33 Validation x: (15000, 28, 28)\n",
            "06-11-2022 17:51:33 Validation y: (15000,)\n"
          ]
        }
      ]
    },
    {
      "cell_type": "code",
      "source": [
        "# if we are using \"channels first\" ordering, then reshape the\n",
        "# design matrix such that the matrix is:\n",
        "# num_samples x depth x rows x columns\n",
        "if K.image_data_format() == \"channels_first\":\n",
        "  train_x = train_x.reshape((train_x.shape[0], 1, 28, 28))\n",
        "  test_x = test_x.reshape((test_x.shape[0], 1, 28, 28))\n",
        "  val_x = val_x.reshape((val_x.shape[0], 1, 28, 28))\n",
        "\n",
        "# otherwise, we are using \"channels last\" ordering, so the design\n",
        "# matrix shape should be: num_samples x rows x columns x depth\n",
        "else:\n",
        "  train_x = train_x.reshape((train_x.shape[0], 28, 28, 1))\n",
        "  test_x = test_x.reshape((test_x.shape[0], 28, 28, 1))\n",
        "  val_x = val_x.reshape((val_x.shape[0], 28, 28, 1))"
      ],
      "metadata": {
        "id": "qfEscku84Az1"
      },
      "execution_count": null,
      "outputs": []
    },
    {
      "cell_type": "code",
      "source": [
        "logger.info(\"Train x: {}\".format(train_x.shape))\n",
        "logger.info(\"Train y: {}\".format(train_y.shape))\n",
        "logger.info(\"Test x: {}\".format(test_x.shape))\n",
        "logger.info(\"Test y: {}\".format(test_y.shape))\n",
        "logger.info(\"Validation x: {}\".format(val_x.shape))\n",
        "logger.info(\"Validation y: {}\".format(val_y.shape))"
      ],
      "metadata": {
        "colab": {
          "base_uri": "https://localhost:8080/"
        },
        "id": "8CavFI-M4DQ1",
        "outputId": "18dd8daa-76d4-4754-bc13-4aa63a9333fe"
      },
      "execution_count": null,
      "outputs": [
        {
          "output_type": "stream",
          "name": "stderr",
          "text": [
            "06-11-2022 17:51:38 Train x: (45000, 28, 28, 1)\n",
            "06-11-2022 17:51:38 Train y: (45000,)\n",
            "06-11-2022 17:51:38 Test x: (10000, 28, 28, 1)\n",
            "06-11-2022 17:51:38 Test y: (10000,)\n",
            "06-11-2022 17:51:38 Validation x: (15000, 28, 28, 1)\n",
            "06-11-2022 17:51:38 Validation y: (15000,)\n"
          ]
        }
      ]
    },
    {
      "cell_type": "code",
      "source": [
        "# scale data to the range of [0, 1]\n",
        "train_x = train_x.astype(\"float32\") / 255.0\n",
        "test_x = test_x.astype(\"float32\") / 255.0\n",
        "val_x = val_x.astype(\"float32\") / 255.0\n",
        "\n",
        "# convert the labels from integers to vectors\n",
        "lb = LabelBinarizer()\n",
        "train_y = lb.fit_transform(train_y)\n",
        "val_y = lb.transform(val_y)\n",
        "test_y = lb.transform(test_y)"
      ],
      "metadata": {
        "id": "nQ3HwJCs4FX7"
      },
      "execution_count": null,
      "outputs": []
    },
    {
      "cell_type": "markdown",
      "source": [
        "Training"
      ],
      "metadata": {
        "id": "FUCpD69l4HvC"
      }
    },
    {
      "cell_type": "code",
      "source": [
        "#sweeps\n",
        "sweep_config = {\n",
        "    'method': 'random',\n",
        "    'metric': {\n",
        "      'name': 'val_accuracy',\n",
        "      'goal': 'maximize'   \n",
        "    },\n",
        "    'parameters': {\n",
        "    'activation': {\n",
        "        'values': ['relu', 'tanh']\n",
        "        },\n",
        "    'dropout': {\n",
        "        'values': [0.20, 0.30, 0.40, 0.50]\n",
        "    },\n",
        "    'layers':{\n",
        "        'values': [120,180,240,300]\n",
        "    },\n",
        "    'learning_rate': {\n",
        "      'values': [0.1, 0.01, 0.001]  \n",
        "    },\n",
        "    }\n",
        "}\n",
        "\n",
        "sweep_id = wandb.sweep(sweep=sweep_config, entity='gildson', project=args[\"project_name\"])"
      ],
      "metadata": {
        "colab": {
          "base_uri": "https://localhost:8080/"
        },
        "id": "kT6hT7Hvyg2v",
        "outputId": "17b0519f-7564-4df8-c867-79eaacae54f9"
      },
      "execution_count": null,
      "outputs": [
        {
          "output_type": "stream",
          "name": "stdout",
          "text": [
            "Create sweep with ID: uc4n5obh\n",
            "Sweep URL: https://wandb.ai/gildson/GMNet-sweep/sweeps/uc4n5obh\n"
          ]
        }
      ]
    },
    {
      "cell_type": "code",
      "source": [
        "def train():\n",
        "  global history\n",
        "  global tracker\n",
        "  global model\n",
        "  global run\n",
        "  run = wandb.init(entity=\"gildson\",project=args[\"project_name\"], job_type=\"Train\")\n",
        "  # create codecarbon tracker\n",
        "  # codecarbon is too much verbose, change the log level for more info\n",
        "  tracker = EmissionsTracker(log_level=\"critical\")\n",
        "  tracker.start()\n",
        "\n",
        "  # initialize the optimizer and model\n",
        "  logger.info(\"[INFO] compiling model...\")\n",
        "  opt = Adam(learning_rate=run.config.learning_rate)\n",
        "  model = GMNet.build(width=28, height=28, depth=1, classes=10)\n",
        "  model.compile(loss=\"categorical_crossentropy\", optimizer=opt,metrics=[\"accuracy\"])\n",
        "\n",
        "  # train the network\n",
        "  logger.info(\"[INFO] training network...\")\n",
        "  history = model.fit(train_x, train_y,\n",
        "                validation_data=(val_x, val_y),\n",
        "                batch_size=32,\n",
        "                epochs=20, \n",
        "                verbose=0,\n",
        "                callbacks=[wandb.keras.WandbCallback(save_model=False,\n",
        "                                                    compute_flops=True)])\n",
        "  \n",
        "  # get co2 emissions from tracker\n",
        "  # \"CO2 emission (in Kg)\"\n",
        "  emissions = tracker.stop()\n",
        "\n",
        "  # make predictions\n",
        "  predictions = model.predict(val_x, batch_size=run.config.batch_size)\n",
        "\n",
        "  # Evaluation Metrics\n",
        "  logger.info(\"Validation Evaluation metrics\")\n",
        "  fbeta = fbeta_score(val_y.argmax(axis=1), \n",
        "                      predictions.argmax(axis=1), \n",
        "                      beta=1, zero_division=1,average='weighted')\n",
        "  precision = precision_score(val_y.argmax(axis=1),\n",
        "                              predictions.argmax(axis=1),\n",
        "                              zero_division=1,average='weighted')\n",
        "  recall = recall_score(val_y.argmax(axis=1),\n",
        "                        predictions.argmax(axis=1),\n",
        "                        zero_division=1,average='weighted')\n",
        "  acc = accuracy_score(val_y.argmax(axis=1),\n",
        "                      predictions.argmax(axis=1))\n",
        "\n",
        "  logger.info(\"Validation Accuracy: {}\".format(acc))\n",
        "  logger.info(\"Validation Precision: {}\".format(precision))\n",
        "  logger.info(\"Validation Recall: {}\".format(recall))\n",
        "  logger.info(\"Validation F1: {}\".format(fbeta))\n",
        "\n",
        "  run.summary[\"Acc\"] = acc\n",
        "  run.summary[\"Precision\"] = precision\n",
        "  run.summary[\"Recall\"] = recall\n",
        "  run.summary[\"F1\"] = fbeta\n",
        "  # number of parameters\n",
        "  run.summary[\"Count_Params\"] = model.count_params()\n",
        "  # energy unit is kWh\n",
        "  run.summary[\"Energy_Consumed\"] = tracker.final_emissions_data.energy_consumed\n",
        "  run.summary[\"Energy_RAM\"] = tracker.final_emissions_data.ram_energy\n",
        "  run.summary[\"Energy_GPU\"] = tracker.final_emissions_data.gpu_energy\n",
        "  run.summary[\"Energy_CPU\"] = tracker.final_emissions_data.cpu_energy\n",
        "  # kg\n",
        "  run.summary[\"CO2_Emissions\"] = tracker.final_emissions_data.emissions"
      ],
      "metadata": {
        "id": "35j2QRiX4Jxx"
      },
      "execution_count": null,
      "outputs": []
    },
    {
      "cell_type": "code",
      "source": [
        "wandb.agent(sweep_id, function=train, count=8)"
      ],
      "metadata": {
        "colab": {
          "base_uri": "https://localhost:8080/",
          "height": 1000,
          "referenced_widgets": [
            "7154d7bc49d24cbb8bf1897bc10bf275",
            "70c8315c522b45d485b64640e9aa47e1",
            "0be4e7f7273346379fcb0e38b7003261",
            "3de1d58eedcc41b3adea2f0162fad96e",
            "9f294ce50f0d496e851c5bca913ae2d7",
            "31a608210c80495f8f0e8a287fdb0ed5",
            "f6d711a15fae40e5862b1553a07d721d",
            "abd60c4ca1704b78a877e3664cd2f239",
            "eb9b7a91c6f146f79c7baa153d322c6c",
            "8438783ca7c049dcbdaef8359449a5b0",
            "155d4724dae54b62874aa2a18e4f0341",
            "df529a3b480a41ef92ba5c1be446b5dc",
            "2393f75e93d841109b7c6bc23ab03fc6",
            "12bcd02b830b4d5281cb83e992ad9d70",
            "994eb4808fbc4d31a24f409c8b82d6fa",
            "f3fbd584e87d4bce86aaadc3798e7b13",
            "25137b6a901847a6a0c7e60f82edee7d",
            "73c472e5438b4159ac677228109433f3",
            "116a9f46ce52462db6baf5f7362a2fd0",
            "bfa79362805843dcbfe248678e5f6589",
            "8a9170ce80094b1bad8bde7d662f87d9",
            "086f351669bc44f28b34e9ad7b479530",
            "49db0ebabaab41b0adbcd319568c601a",
            "4b85f2d5f16e420dbe37349d814d48fd",
            "41f3ef1c2f93469ca6bbe36d2d87516e",
            "67fa5ffb0adf41bf8ea2372ba0070e13",
            "4d6e72b457f34457adc238f6f95add76",
            "9ca029fb9c7c45de84db1d82ea63db64",
            "ed868d425a9e4f70876086a824e14fc6",
            "3d28ce62525f4723b4979fcd886a4e8e",
            "502a4fa19b934583b45cfd69c6ef5c3f",
            "87a11209394c4f358fb3948db6ccf81b"
          ]
        },
        "id": "N5K7M1Eaz4Bv",
        "outputId": "4b2e0c1d-5c1e-49e1-e7f6-3dab1e27daa7"
      },
      "execution_count": null,
      "outputs": [
        {
          "output_type": "stream",
          "name": "stderr",
          "text": [
            "06-11-2022 17:51:55 Starting sweep agent: entity=None, project=None, count=8\n",
            "\u001b[34m\u001b[1mwandb\u001b[0m: Agent Starting Run: 46owjavg with config:\n",
            "\u001b[34m\u001b[1mwandb\u001b[0m: \tactivation: tanh\n",
            "\u001b[34m\u001b[1mwandb\u001b[0m: \tdropout: 0.4\n",
            "\u001b[34m\u001b[1mwandb\u001b[0m: \tlayers: 120\n",
            "\u001b[34m\u001b[1mwandb\u001b[0m: \tlearning_rate: 0.01\n",
            "06-11-2022 17:51:56 Failed to detect the name of this notebook, you can set it manually with the WANDB_NOTEBOOK_NAME environment variable to enable code saving.\n",
            "\u001b[34m\u001b[1mwandb\u001b[0m: Currently logged in as: \u001b[33mgildson\u001b[0m. Use \u001b[1m`wandb login --relogin`\u001b[0m to force relogin\n",
            "\u001b[34m\u001b[1mwandb\u001b[0m: \u001b[33mWARNING\u001b[0m Ignored wandb.init() arg project when running a sweep.\n",
            "\u001b[34m\u001b[1mwandb\u001b[0m: \u001b[33mWARNING\u001b[0m Ignored wandb.init() arg entity when running a sweep.\n"
          ]
        },
        {
          "output_type": "display_data",
          "data": {
            "text/plain": [
              "<IPython.core.display.HTML object>"
            ],
            "text/html": [
              "Tracking run with wandb version 0.13.5"
            ]
          },
          "metadata": {}
        },
        {
          "output_type": "display_data",
          "data": {
            "text/plain": [
              "<IPython.core.display.HTML object>"
            ],
            "text/html": [
              "Run data is saved locally in <code>/content/wandb/run-20221106_175157-46owjavg</code>"
            ]
          },
          "metadata": {}
        },
        {
          "output_type": "display_data",
          "data": {
            "text/plain": [
              "<IPython.core.display.HTML object>"
            ],
            "text/html": [
              "Syncing run <strong><a href=\"https://wandb.ai/gildson/GMNet-sweep/runs/46owjavg\" target=\"_blank\">dulcet-sweep-1</a></strong> to <a href=\"https://wandb.ai/gildson/GMNet-sweep\" target=\"_blank\">Weights & Biases</a> (<a href=\"https://wandb.me/run\" target=\"_blank\">docs</a>)<br/>Sweep page:  <a href=\"https://wandb.ai/gildson/GMNet-sweep/sweeps/uc4n5obh\" target=\"_blank\">https://wandb.ai/gildson/GMNet-sweep/sweeps/uc4n5obh</a>"
            ]
          },
          "metadata": {}
        },
        {
          "output_type": "stream",
          "name": "stderr",
          "text": [
            "06-11-2022 17:52:01 [INFO] compiling model...\n",
            "06-11-2022 17:52:03 [INFO] training network...\n",
            "06-11-2022 17:52:04 From /usr/local/lib/python3.7/dist-packages/tensorflow/python/ops/nn_ops.py:5219: tensor_shape_from_node_def_name (from tensorflow.python.framework.graph_util_impl) is deprecated and will be removed in a future version.\n",
            "Instructions for updating:\n",
            "Use `tf.compat.v1.graph_util.tensor_shape_from_node_def_name`\n"
          ]
        },
        {
          "output_type": "display_data",
          "data": {
            "text/plain": [
              "<IPython.core.display.HTML object>"
            ],
            "text/html": [
              "Waiting for W&B process to finish... <strong style=\"color:red\">(failed 1).</strong> Press Control-C to abort syncing."
            ]
          },
          "metadata": {}
        },
        {
          "output_type": "display_data",
          "data": {
            "text/plain": [
              "<IPython.core.display.HTML object>"
            ],
            "text/html": [
              "<style>\n",
              "    table.wandb td:nth-child(1) { padding: 0 10px; text-align: left ; width: auto;} td:nth-child(2) {text-align: left ; width: 100%}\n",
              "    .wandb-row { display: flex; flex-direction: row; flex-wrap: wrap; justify-content: flex-start; width: 100% }\n",
              "    .wandb-col { display: flex; flex-direction: column; flex-basis: 100%; flex: 1; padding: 10px; }\n",
              "    </style>\n",
              "<div class=\"wandb-row\"><div class=\"wandb-col\"><h3>Run history:</h3><br/><table class=\"wandb\"><tr><td>accuracy</td><td>▆█████▇▇▆▆▆▆▅▅▅▄▄▅▄▁</td></tr><tr><td>epoch</td><td>▁▁▂▂▂▃▃▄▄▄▅▅▅▆▆▇▇▇██</td></tr><tr><td>loss</td><td>▃▁▁▁▁▁▂▂▃▃▃▃▄▅▄▅▅▄▅█</td></tr><tr><td>val_accuracy</td><td>█▇█▇▇▇▅▇▅▇▆▄▅▃▄▄▅▄▁▁</td></tr><tr><td>val_loss</td><td>▂▂▁▂▂▂▄▃▃▃▄▅▃▆▅▅▄▄▇█</td></tr></table><br/></div><div class=\"wandb-col\"><h3>Run summary:</h3><br/><table class=\"wandb\"><tr><td>GFLOPs</td><td>0.00043</td></tr><tr><td>accuracy</td><td>0.76367</td></tr><tr><td>best_epoch</td><td>2</td></tr><tr><td>best_val_loss</td><td>0.18607</td></tr><tr><td>epoch</td><td>19</td></tr><tr><td>loss</td><td>0.74284</td></tr><tr><td>val_accuracy</td><td>0.87993</td></tr><tr><td>val_loss</td><td>0.38241</td></tr></table><br/></div></div>"
            ]
          },
          "metadata": {}
        },
        {
          "output_type": "display_data",
          "data": {
            "text/plain": [
              "<IPython.core.display.HTML object>"
            ],
            "text/html": [
              "Synced <strong style=\"color:#cdcd00\">dulcet-sweep-1</strong>: <a href=\"https://wandb.ai/gildson/GMNet-sweep/runs/46owjavg\" target=\"_blank\">https://wandb.ai/gildson/GMNet-sweep/runs/46owjavg</a><br/>Synced 5 W&B file(s), 0 media file(s), 0 artifact file(s) and 0 other file(s)"
            ]
          },
          "metadata": {}
        },
        {
          "output_type": "display_data",
          "data": {
            "text/plain": [
              "<IPython.core.display.HTML object>"
            ],
            "text/html": [
              "Find logs at: <code>./wandb/run-20221106_175157-46owjavg/logs</code>"
            ]
          },
          "metadata": {}
        },
        {
          "output_type": "stream",
          "name": "stderr",
          "text": [
            "Run 46owjavg errored: AttributeError(\"'<class 'wandb.sdk.wandb_config.Config'>' object has no attribute 'batch_size'\")\n",
            "\u001b[34m\u001b[1mwandb\u001b[0m: \u001b[32m\u001b[41mERROR\u001b[0m Run 46owjavg errored: AttributeError(\"'<class 'wandb.sdk.wandb_config.Config'>' object has no attribute 'batch_size'\")\n",
            "\u001b[34m\u001b[1mwandb\u001b[0m: Agent Starting Run: xewrazm0 with config:\n",
            "\u001b[34m\u001b[1mwandb\u001b[0m: \tactivation: tanh\n",
            "\u001b[34m\u001b[1mwandb\u001b[0m: \tdropout: 0.2\n",
            "\u001b[34m\u001b[1mwandb\u001b[0m: \tlayers: 300\n",
            "\u001b[34m\u001b[1mwandb\u001b[0m: \tlearning_rate: 0.1\n",
            "Failed to detect the name of this notebook, you can set it manually with the WANDB_NOTEBOOK_NAME environment variable to enable code saving.\n",
            "\u001b[34m\u001b[1mwandb\u001b[0m: \u001b[33mWARNING\u001b[0m Ignored wandb.init() arg project when running a sweep.\n",
            "\u001b[34m\u001b[1mwandb\u001b[0m: \u001b[33mWARNING\u001b[0m Ignored wandb.init() arg entity when running a sweep.\n"
          ]
        },
        {
          "output_type": "display_data",
          "data": {
            "text/plain": [
              "<IPython.core.display.HTML object>"
            ],
            "text/html": [
              "Tracking run with wandb version 0.13.5"
            ]
          },
          "metadata": {}
        },
        {
          "output_type": "display_data",
          "data": {
            "text/plain": [
              "<IPython.core.display.HTML object>"
            ],
            "text/html": [
              "Run data is saved locally in <code>/content/wandb/run-20221106_175436-xewrazm0</code>"
            ]
          },
          "metadata": {}
        },
        {
          "output_type": "display_data",
          "data": {
            "text/plain": [
              "<IPython.core.display.HTML object>"
            ],
            "text/html": [
              "Syncing run <strong><a href=\"https://wandb.ai/gildson/GMNet-sweep/runs/xewrazm0\" target=\"_blank\">fast-sweep-2</a></strong> to <a href=\"https://wandb.ai/gildson/GMNet-sweep\" target=\"_blank\">Weights & Biases</a> (<a href=\"https://wandb.me/run\" target=\"_blank\">docs</a>)<br/>Sweep page:  <a href=\"https://wandb.ai/gildson/GMNet-sweep/sweeps/uc4n5obh\" target=\"_blank\">https://wandb.ai/gildson/GMNet-sweep/sweeps/uc4n5obh</a>"
            ]
          },
          "metadata": {}
        },
        {
          "output_type": "stream",
          "name": "stderr",
          "text": [
            "06-11-2022 17:54:39 [INFO] compiling model...\n",
            "06-11-2022 17:54:39 [INFO] training network...\n"
          ]
        },
        {
          "output_type": "display_data",
          "data": {
            "text/plain": [
              "<IPython.core.display.HTML object>"
            ],
            "text/html": [
              "Waiting for W&B process to finish... <strong style=\"color:red\">(failed 1).</strong> Press Control-C to abort syncing."
            ]
          },
          "metadata": {}
        },
        {
          "output_type": "display_data",
          "data": {
            "text/plain": [
              "VBox(children=(Label(value='0.001 MB of 0.001 MB uploaded (0.000 MB deduped)\\r'), FloatProgress(value=1.0, max…"
            ],
            "application/vnd.jupyter.widget-view+json": {
              "version_major": 2,
              "version_minor": 0,
              "model_id": "7154d7bc49d24cbb8bf1897bc10bf275"
            }
          },
          "metadata": {}
        },
        {
          "output_type": "display_data",
          "data": {
            "text/plain": [
              "<IPython.core.display.HTML object>"
            ],
            "text/html": [
              "<style>\n",
              "    table.wandb td:nth-child(1) { padding: 0 10px; text-align: left ; width: auto;} td:nth-child(2) {text-align: left ; width: 100%}\n",
              "    .wandb-row { display: flex; flex-direction: row; flex-wrap: wrap; justify-content: flex-start; width: 100% }\n",
              "    .wandb-col { display: flex; flex-direction: column; flex-basis: 100%; flex: 1; padding: 10px; }\n",
              "    </style>\n",
              "<div class=\"wandb-row\"><div class=\"wandb-col\"><h3>Run history:</h3><br/><table class=\"wandb\"><tr><td>accuracy</td><td>█▂▃▃▂▃▁▃▂▃▃▂▂▁▂▃▂▃▃▃</td></tr><tr><td>epoch</td><td>▁▁▂▂▂▃▃▄▄▄▅▅▅▆▆▇▇▇██</td></tr><tr><td>loss</td><td>█▁▅▃▄▄▇▅▂▄▆▄▃▁▅▃▆▅▃▆</td></tr><tr><td>val_accuracy</td><td>▁▃█▄▃▄▅▁▅▄██▄▄▄█▄▁█▃</td></tr><tr><td>val_loss</td><td>▄▃▂▃▆▄█▃▃▂▃▄▄▂▁▂▆█▄▄</td></tr></table><br/></div><div class=\"wandb-col\"><h3>Run summary:</h3><br/><table class=\"wandb\"><tr><td>GFLOPs</td><td>0.00058</td></tr><tr><td>accuracy</td><td>0.10111</td></tr><tr><td>best_epoch</td><td>14</td></tr><tr><td>best_val_loss</td><td>5.4699</td></tr><tr><td>epoch</td><td>19</td></tr><tr><td>loss</td><td>9.01003</td></tr><tr><td>val_accuracy</td><td>0.0962</td></tr><tr><td>val_loss</td><td>9.33915</td></tr></table><br/></div></div>"
            ]
          },
          "metadata": {}
        },
        {
          "output_type": "display_data",
          "data": {
            "text/plain": [
              "<IPython.core.display.HTML object>"
            ],
            "text/html": [
              "Synced <strong style=\"color:#cdcd00\">fast-sweep-2</strong>: <a href=\"https://wandb.ai/gildson/GMNet-sweep/runs/xewrazm0\" target=\"_blank\">https://wandb.ai/gildson/GMNet-sweep/runs/xewrazm0</a><br/>Synced 5 W&B file(s), 0 media file(s), 0 artifact file(s) and 0 other file(s)"
            ]
          },
          "metadata": {}
        },
        {
          "output_type": "display_data",
          "data": {
            "text/plain": [
              "<IPython.core.display.HTML object>"
            ],
            "text/html": [
              "Find logs at: <code>./wandb/run-20221106_175436-xewrazm0/logs</code>"
            ]
          },
          "metadata": {}
        },
        {
          "output_type": "stream",
          "name": "stderr",
          "text": [
            "Run xewrazm0 errored: AttributeError(\"'<class 'wandb.sdk.wandb_config.Config'>' object has no attribute 'batch_size'\")\n",
            "\u001b[34m\u001b[1mwandb\u001b[0m: \u001b[32m\u001b[41mERROR\u001b[0m Run xewrazm0 errored: AttributeError(\"'<class 'wandb.sdk.wandb_config.Config'>' object has no attribute 'batch_size'\")\n",
            "\u001b[34m\u001b[1mwandb\u001b[0m: Agent Starting Run: a899dyze with config:\n",
            "\u001b[34m\u001b[1mwandb\u001b[0m: \tactivation: tanh\n",
            "\u001b[34m\u001b[1mwandb\u001b[0m: \tdropout: 0.5\n",
            "\u001b[34m\u001b[1mwandb\u001b[0m: \tlayers: 180\n",
            "\u001b[34m\u001b[1mwandb\u001b[0m: \tlearning_rate: 0.1\n",
            "Failed to detect the name of this notebook, you can set it manually with the WANDB_NOTEBOOK_NAME environment variable to enable code saving.\n",
            "\u001b[34m\u001b[1mwandb\u001b[0m: \u001b[33mWARNING\u001b[0m Ignored wandb.init() arg project when running a sweep.\n",
            "\u001b[34m\u001b[1mwandb\u001b[0m: \u001b[33mWARNING\u001b[0m Ignored wandb.init() arg entity when running a sweep.\n"
          ]
        },
        {
          "output_type": "display_data",
          "data": {
            "text/plain": [
              "<IPython.core.display.HTML object>"
            ],
            "text/html": [
              "Tracking run with wandb version 0.13.5"
            ]
          },
          "metadata": {}
        },
        {
          "output_type": "display_data",
          "data": {
            "text/plain": [
              "<IPython.core.display.HTML object>"
            ],
            "text/html": [
              "Run data is saved locally in <code>/content/wandb/run-20221106_175713-a899dyze</code>"
            ]
          },
          "metadata": {}
        },
        {
          "output_type": "display_data",
          "data": {
            "text/plain": [
              "<IPython.core.display.HTML object>"
            ],
            "text/html": [
              "Syncing run <strong><a href=\"https://wandb.ai/gildson/GMNet-sweep/runs/a899dyze\" target=\"_blank\">swift-sweep-3</a></strong> to <a href=\"https://wandb.ai/gildson/GMNet-sweep\" target=\"_blank\">Weights & Biases</a> (<a href=\"https://wandb.me/run\" target=\"_blank\">docs</a>)<br/>Sweep page:  <a href=\"https://wandb.ai/gildson/GMNet-sweep/sweeps/uc4n5obh\" target=\"_blank\">https://wandb.ai/gildson/GMNet-sweep/sweeps/uc4n5obh</a>"
            ]
          },
          "metadata": {}
        },
        {
          "output_type": "stream",
          "name": "stderr",
          "text": [
            "06-11-2022 17:57:16 [INFO] compiling model...\n",
            "06-11-2022 17:57:16 [INFO] training network...\n"
          ]
        },
        {
          "output_type": "display_data",
          "data": {
            "text/plain": [
              "<IPython.core.display.HTML object>"
            ],
            "text/html": [
              "Waiting for W&B process to finish... <strong style=\"color:red\">(failed 1).</strong> Press Control-C to abort syncing."
            ]
          },
          "metadata": {}
        },
        {
          "output_type": "display_data",
          "data": {
            "text/plain": [
              "<IPython.core.display.HTML object>"
            ],
            "text/html": [
              "<style>\n",
              "    table.wandb td:nth-child(1) { padding: 0 10px; text-align: left ; width: auto;} td:nth-child(2) {text-align: left ; width: 100%}\n",
              "    .wandb-row { display: flex; flex-direction: row; flex-wrap: wrap; justify-content: flex-start; width: 100% }\n",
              "    .wandb-col { display: flex; flex-direction: column; flex-basis: 100%; flex: 1; padding: 10px; }\n",
              "    </style>\n",
              "<div class=\"wandb-row\"><div class=\"wandb-col\"><h3>Run history:</h3><br/><table class=\"wandb\"><tr><td>accuracy</td><td>█▂▂▃▅▅▅▆▂▃▄▄▅▃▁▃▆▄▄▃</td></tr><tr><td>epoch</td><td>▁▁▂▂▂▃▃▄▄▄▅▅▅▆▆▇▇▇██</td></tr><tr><td>loss</td><td>█▄▂▃▃▃▅▃▁▃▃▄▂▃▃▅▂▄▅▃</td></tr><tr><td>val_accuracy</td><td>▅▄▅█▃█▄▃▄▁▄▃▃▅▅▁▃▄▄█</td></tr><tr><td>val_loss</td><td>▄▅▄▇▄▃▁▂▄█▆▃▁▅▆▂▃▄▇▄</td></tr></table><br/></div><div class=\"wandb-col\"><h3>Run summary:</h3><br/><table class=\"wandb\"><tr><td>GFLOPs</td><td>0.00047</td></tr><tr><td>accuracy</td><td>0.1</td></tr><tr><td>best_epoch</td><td>6</td></tr><tr><td>best_val_loss</td><td>3.51566</td></tr><tr><td>epoch</td><td>19</td></tr><tr><td>loss</td><td>6.3668</td></tr><tr><td>val_accuracy</td><td>0.10993</td></tr><tr><td>val_loss</td><td>4.97237</td></tr></table><br/></div></div>"
            ]
          },
          "metadata": {}
        },
        {
          "output_type": "display_data",
          "data": {
            "text/plain": [
              "<IPython.core.display.HTML object>"
            ],
            "text/html": [
              "Synced <strong style=\"color:#cdcd00\">swift-sweep-3</strong>: <a href=\"https://wandb.ai/gildson/GMNet-sweep/runs/a899dyze\" target=\"_blank\">https://wandb.ai/gildson/GMNet-sweep/runs/a899dyze</a><br/>Synced 5 W&B file(s), 0 media file(s), 0 artifact file(s) and 0 other file(s)"
            ]
          },
          "metadata": {}
        },
        {
          "output_type": "display_data",
          "data": {
            "text/plain": [
              "<IPython.core.display.HTML object>"
            ],
            "text/html": [
              "Find logs at: <code>./wandb/run-20221106_175713-a899dyze/logs</code>"
            ]
          },
          "metadata": {}
        },
        {
          "output_type": "stream",
          "name": "stderr",
          "text": [
            "Run a899dyze errored: AttributeError(\"'<class 'wandb.sdk.wandb_config.Config'>' object has no attribute 'batch_size'\")\n",
            "\u001b[34m\u001b[1mwandb\u001b[0m: \u001b[32m\u001b[41mERROR\u001b[0m Run a899dyze errored: AttributeError(\"'<class 'wandb.sdk.wandb_config.Config'>' object has no attribute 'batch_size'\")\n",
            "\u001b[34m\u001b[1mwandb\u001b[0m: Agent Starting Run: vkbrn9q2 with config:\n",
            "\u001b[34m\u001b[1mwandb\u001b[0m: \tactivation: relu\n",
            "\u001b[34m\u001b[1mwandb\u001b[0m: \tdropout: 0.2\n",
            "\u001b[34m\u001b[1mwandb\u001b[0m: \tlayers: 180\n",
            "\u001b[34m\u001b[1mwandb\u001b[0m: \tlearning_rate: 0.001\n",
            "Failed to detect the name of this notebook, you can set it manually with the WANDB_NOTEBOOK_NAME environment variable to enable code saving.\n",
            "\u001b[34m\u001b[1mwandb\u001b[0m: \u001b[33mWARNING\u001b[0m Ignored wandb.init() arg project when running a sweep.\n",
            "\u001b[34m\u001b[1mwandb\u001b[0m: \u001b[33mWARNING\u001b[0m Ignored wandb.init() arg entity when running a sweep.\n"
          ]
        },
        {
          "output_type": "display_data",
          "data": {
            "text/plain": [
              "<IPython.core.display.HTML object>"
            ],
            "text/html": [
              "Tracking run with wandb version 0.13.5"
            ]
          },
          "metadata": {}
        },
        {
          "output_type": "display_data",
          "data": {
            "text/plain": [
              "<IPython.core.display.HTML object>"
            ],
            "text/html": [
              "Run data is saved locally in <code>/content/wandb/run-20221106_175925-vkbrn9q2</code>"
            ]
          },
          "metadata": {}
        },
        {
          "output_type": "display_data",
          "data": {
            "text/plain": [
              "<IPython.core.display.HTML object>"
            ],
            "text/html": [
              "Syncing run <strong><a href=\"https://wandb.ai/gildson/GMNet-sweep/runs/vkbrn9q2\" target=\"_blank\">vivid-sweep-4</a></strong> to <a href=\"https://wandb.ai/gildson/GMNet-sweep\" target=\"_blank\">Weights & Biases</a> (<a href=\"https://wandb.me/run\" target=\"_blank\">docs</a>)<br/>Sweep page:  <a href=\"https://wandb.ai/gildson/GMNet-sweep/sweeps/uc4n5obh\" target=\"_blank\">https://wandb.ai/gildson/GMNet-sweep/sweeps/uc4n5obh</a>"
            ]
          },
          "metadata": {}
        },
        {
          "output_type": "stream",
          "name": "stderr",
          "text": [
            "06-11-2022 17:59:28 [INFO] compiling model...\n",
            "06-11-2022 17:59:28 [INFO] training network...\n"
          ]
        },
        {
          "output_type": "display_data",
          "data": {
            "text/plain": [
              "<IPython.core.display.HTML object>"
            ],
            "text/html": [
              "Waiting for W&B process to finish... <strong style=\"color:red\">(failed 1).</strong> Press Control-C to abort syncing."
            ]
          },
          "metadata": {}
        },
        {
          "output_type": "display_data",
          "data": {
            "text/plain": [
              "VBox(children=(Label(value='0.001 MB of 0.001 MB uploaded (0.000 MB deduped)\\r'), FloatProgress(value=1.0, max…"
            ],
            "application/vnd.jupyter.widget-view+json": {
              "version_major": 2,
              "version_minor": 0,
              "model_id": "eb9b7a91c6f146f79c7baa153d322c6c"
            }
          },
          "metadata": {}
        },
        {
          "output_type": "display_data",
          "data": {
            "text/plain": [
              "<IPython.core.display.HTML object>"
            ],
            "text/html": [
              "<style>\n",
              "    table.wandb td:nth-child(1) { padding: 0 10px; text-align: left ; width: auto;} td:nth-child(2) {text-align: left ; width: 100%}\n",
              "    .wandb-row { display: flex; flex-direction: row; flex-wrap: wrap; justify-content: flex-start; width: 100% }\n",
              "    .wandb-col { display: flex; flex-direction: column; flex-basis: 100%; flex: 1; padding: 10px; }\n",
              "    </style>\n",
              "<div class=\"wandb-row\"><div class=\"wandb-col\"><h3>Run history:</h3><br/><table class=\"wandb\"><tr><td>accuracy</td><td>▁▆▆▇▇▇▇▇▇▇██████████</td></tr><tr><td>epoch</td><td>▁▁▂▂▂▃▃▄▄▄▅▅▅▆▆▇▇▇██</td></tr><tr><td>loss</td><td>█▄▃▂▂▂▂▂▂▂▁▁▁▁▁▁▁▁▁▁</td></tr><tr><td>val_accuracy</td><td>▁▄▅▅▄▅█▇▅▇▇█▇▇▇█▇█▇▇</td></tr><tr><td>val_loss</td><td>█▅▄▄▅▄▁▂▅▂▂▁▁▁▂▁▃▂▂▂</td></tr></table><br/></div><div class=\"wandb-col\"><h3>Run summary:</h3><br/><table class=\"wandb\"><tr><td>GFLOPs</td><td>0.00047</td></tr><tr><td>accuracy</td><td>0.99122</td></tr><tr><td>best_epoch</td><td>15</td></tr><tr><td>best_val_loss</td><td>0.02947</td></tr><tr><td>epoch</td><td>19</td></tr><tr><td>loss</td><td>0.02793</td></tr><tr><td>val_accuracy</td><td>0.99133</td></tr><tr><td>val_loss</td><td>0.03486</td></tr></table><br/></div></div>"
            ]
          },
          "metadata": {}
        },
        {
          "output_type": "display_data",
          "data": {
            "text/plain": [
              "<IPython.core.display.HTML object>"
            ],
            "text/html": [
              "Synced <strong style=\"color:#cdcd00\">vivid-sweep-4</strong>: <a href=\"https://wandb.ai/gildson/GMNet-sweep/runs/vkbrn9q2\" target=\"_blank\">https://wandb.ai/gildson/GMNet-sweep/runs/vkbrn9q2</a><br/>Synced 5 W&B file(s), 0 media file(s), 0 artifact file(s) and 0 other file(s)"
            ]
          },
          "metadata": {}
        },
        {
          "output_type": "display_data",
          "data": {
            "text/plain": [
              "<IPython.core.display.HTML object>"
            ],
            "text/html": [
              "Find logs at: <code>./wandb/run-20221106_175925-vkbrn9q2/logs</code>"
            ]
          },
          "metadata": {}
        },
        {
          "output_type": "stream",
          "name": "stderr",
          "text": [
            "Run vkbrn9q2 errored: AttributeError(\"'<class 'wandb.sdk.wandb_config.Config'>' object has no attribute 'batch_size'\")\n",
            "\u001b[34m\u001b[1mwandb\u001b[0m: \u001b[32m\u001b[41mERROR\u001b[0m Run vkbrn9q2 errored: AttributeError(\"'<class 'wandb.sdk.wandb_config.Config'>' object has no attribute 'batch_size'\")\n",
            "\u001b[34m\u001b[1mwandb\u001b[0m: Sweep Agent: Waiting for job.\n",
            "\u001b[34m\u001b[1mwandb\u001b[0m: Job received.\n",
            "\u001b[34m\u001b[1mwandb\u001b[0m: Agent Starting Run: 4tmjsj0d with config:\n",
            "\u001b[34m\u001b[1mwandb\u001b[0m: \tactivation: relu\n",
            "\u001b[34m\u001b[1mwandb\u001b[0m: \tdropout: 0.3\n",
            "\u001b[34m\u001b[1mwandb\u001b[0m: \tlayers: 300\n",
            "\u001b[34m\u001b[1mwandb\u001b[0m: \tlearning_rate: 0.1\n",
            "Failed to detect the name of this notebook, you can set it manually with the WANDB_NOTEBOOK_NAME environment variable to enable code saving.\n",
            "\u001b[34m\u001b[1mwandb\u001b[0m: \u001b[33mWARNING\u001b[0m Ignored wandb.init() arg project when running a sweep.\n",
            "\u001b[34m\u001b[1mwandb\u001b[0m: \u001b[33mWARNING\u001b[0m Ignored wandb.init() arg entity when running a sweep.\n"
          ]
        },
        {
          "output_type": "display_data",
          "data": {
            "text/plain": [
              "<IPython.core.display.HTML object>"
            ],
            "text/html": [
              "Tracking run with wandb version 0.13.5"
            ]
          },
          "metadata": {}
        },
        {
          "output_type": "display_data",
          "data": {
            "text/plain": [
              "<IPython.core.display.HTML object>"
            ],
            "text/html": [
              "Run data is saved locally in <code>/content/wandb/run-20221106_180207-4tmjsj0d</code>"
            ]
          },
          "metadata": {}
        },
        {
          "output_type": "display_data",
          "data": {
            "text/plain": [
              "<IPython.core.display.HTML object>"
            ],
            "text/html": [
              "Syncing run <strong><a href=\"https://wandb.ai/gildson/GMNet-sweep/runs/4tmjsj0d\" target=\"_blank\">vibrant-sweep-5</a></strong> to <a href=\"https://wandb.ai/gildson/GMNet-sweep\" target=\"_blank\">Weights & Biases</a> (<a href=\"https://wandb.me/run\" target=\"_blank\">docs</a>)<br/>Sweep page:  <a href=\"https://wandb.ai/gildson/GMNet-sweep/sweeps/uc4n5obh\" target=\"_blank\">https://wandb.ai/gildson/GMNet-sweep/sweeps/uc4n5obh</a>"
            ]
          },
          "metadata": {}
        },
        {
          "output_type": "stream",
          "name": "stderr",
          "text": [
            "06-11-2022 18:02:10 [INFO] compiling model...\n",
            "06-11-2022 18:02:10 [INFO] training network...\n"
          ]
        },
        {
          "output_type": "display_data",
          "data": {
            "text/plain": [
              "<IPython.core.display.HTML object>"
            ],
            "text/html": [
              "Waiting for W&B process to finish... <strong style=\"color:red\">(failed 1).</strong> Press Control-C to abort syncing."
            ]
          },
          "metadata": {}
        },
        {
          "output_type": "display_data",
          "data": {
            "text/plain": [
              "VBox(children=(Label(value='0.001 MB of 0.001 MB uploaded (0.000 MB deduped)\\r'), FloatProgress(value=1.0, max…"
            ],
            "application/vnd.jupyter.widget-view+json": {
              "version_major": 2,
              "version_minor": 0,
              "model_id": "25137b6a901847a6a0c7e60f82edee7d"
            }
          },
          "metadata": {}
        },
        {
          "output_type": "display_data",
          "data": {
            "text/plain": [
              "<IPython.core.display.HTML object>"
            ],
            "text/html": [
              "<style>\n",
              "    table.wandb td:nth-child(1) { padding: 0 10px; text-align: left ; width: auto;} td:nth-child(2) {text-align: left ; width: 100%}\n",
              "    .wandb-row { display: flex; flex-direction: row; flex-wrap: wrap; justify-content: flex-start; width: 100% }\n",
              "    .wandb-col { display: flex; flex-direction: column; flex-basis: 100%; flex: 1; padding: 10px; }\n",
              "    </style>\n",
              "<div class=\"wandb-row\"><div class=\"wandb-col\"><h3>Run history:</h3><br/><table class=\"wandb\"><tr><td>accuracy</td><td>▆█▅▄▅▅█▅▅▆▅▃▅▄█▅▆▁▅▅</td></tr><tr><td>epoch</td><td>▁▁▂▂▂▃▃▄▄▄▅▅▅▆▆▇▇▇██</td></tr><tr><td>loss</td><td>▁▁▁▁▁▁▁▁▁▁█▁▁▁▁▁▁▁▁▁</td></tr><tr><td>val_accuracy</td><td>▂██▁▃▂▁▂▄▁▁██▂▄▁█▄▂▂</td></tr><tr><td>val_loss</td><td>▃▃▄▃▁▃▆▄▅▄▂▄▄▄▃▂▃█▇▅</td></tr></table><br/></div><div class=\"wandb-col\"><h3>Run summary:</h3><br/><table class=\"wandb\"><tr><td>GFLOPs</td><td>0.00058</td></tr><tr><td>accuracy</td><td>0.10356</td></tr><tr><td>best_epoch</td><td>4</td></tr><tr><td>best_val_loss</td><td>2.30471</td></tr><tr><td>epoch</td><td>19</td></tr><tr><td>loss</td><td>2.31379</td></tr><tr><td>val_accuracy</td><td>0.0986</td></tr><tr><td>val_loss</td><td>2.31947</td></tr></table><br/></div></div>"
            ]
          },
          "metadata": {}
        },
        {
          "output_type": "display_data",
          "data": {
            "text/plain": [
              "<IPython.core.display.HTML object>"
            ],
            "text/html": [
              "Synced <strong style=\"color:#cdcd00\">vibrant-sweep-5</strong>: <a href=\"https://wandb.ai/gildson/GMNet-sweep/runs/4tmjsj0d\" target=\"_blank\">https://wandb.ai/gildson/GMNet-sweep/runs/4tmjsj0d</a><br/>Synced 5 W&B file(s), 0 media file(s), 0 artifact file(s) and 0 other file(s)"
            ]
          },
          "metadata": {}
        },
        {
          "output_type": "display_data",
          "data": {
            "text/plain": [
              "<IPython.core.display.HTML object>"
            ],
            "text/html": [
              "Find logs at: <code>./wandb/run-20221106_180207-4tmjsj0d/logs</code>"
            ]
          },
          "metadata": {}
        },
        {
          "output_type": "stream",
          "name": "stderr",
          "text": [
            "Run 4tmjsj0d errored: AttributeError(\"'<class 'wandb.sdk.wandb_config.Config'>' object has no attribute 'batch_size'\")\n",
            "\u001b[34m\u001b[1mwandb\u001b[0m: \u001b[32m\u001b[41mERROR\u001b[0m Run 4tmjsj0d errored: AttributeError(\"'<class 'wandb.sdk.wandb_config.Config'>' object has no attribute 'batch_size'\")\n",
            "\u001b[34m\u001b[1mwandb\u001b[0m: Agent Starting Run: 5wstiu2a with config:\n",
            "\u001b[34m\u001b[1mwandb\u001b[0m: \tactivation: relu\n",
            "\u001b[34m\u001b[1mwandb\u001b[0m: \tdropout: 0.2\n",
            "\u001b[34m\u001b[1mwandb\u001b[0m: \tlayers: 120\n",
            "\u001b[34m\u001b[1mwandb\u001b[0m: \tlearning_rate: 0.01\n",
            "Failed to detect the name of this notebook, you can set it manually with the WANDB_NOTEBOOK_NAME environment variable to enable code saving.\n",
            "\u001b[34m\u001b[1mwandb\u001b[0m: \u001b[33mWARNING\u001b[0m Ignored wandb.init() arg project when running a sweep.\n",
            "\u001b[34m\u001b[1mwandb\u001b[0m: \u001b[33mWARNING\u001b[0m Ignored wandb.init() arg entity when running a sweep.\n"
          ]
        },
        {
          "output_type": "display_data",
          "data": {
            "text/plain": [
              "<IPython.core.display.HTML object>"
            ],
            "text/html": [
              "Tracking run with wandb version 0.13.5"
            ]
          },
          "metadata": {}
        },
        {
          "output_type": "display_data",
          "data": {
            "text/plain": [
              "<IPython.core.display.HTML object>"
            ],
            "text/html": [
              "Run data is saved locally in <code>/content/wandb/run-20221106_180440-5wstiu2a</code>"
            ]
          },
          "metadata": {}
        },
        {
          "output_type": "display_data",
          "data": {
            "text/plain": [
              "<IPython.core.display.HTML object>"
            ],
            "text/html": [
              "Syncing run <strong><a href=\"https://wandb.ai/gildson/GMNet-sweep/runs/5wstiu2a\" target=\"_blank\">cerulean-sweep-6</a></strong> to <a href=\"https://wandb.ai/gildson/GMNet-sweep\" target=\"_blank\">Weights & Biases</a> (<a href=\"https://wandb.me/run\" target=\"_blank\">docs</a>)<br/>Sweep page:  <a href=\"https://wandb.ai/gildson/GMNet-sweep/sweeps/uc4n5obh\" target=\"_blank\">https://wandb.ai/gildson/GMNet-sweep/sweeps/uc4n5obh</a>"
            ]
          },
          "metadata": {}
        },
        {
          "output_type": "stream",
          "name": "stderr",
          "text": [
            "06-11-2022 18:04:43 [INFO] compiling model...\n",
            "06-11-2022 18:04:43 [INFO] training network...\n"
          ]
        },
        {
          "output_type": "display_data",
          "data": {
            "text/plain": [
              "<IPython.core.display.HTML object>"
            ],
            "text/html": [
              "Waiting for W&B process to finish... <strong style=\"color:red\">(failed 1).</strong> Press Control-C to abort syncing."
            ]
          },
          "metadata": {}
        },
        {
          "output_type": "display_data",
          "data": {
            "text/plain": [
              "VBox(children=(Label(value='0.001 MB of 0.001 MB uploaded (0.000 MB deduped)\\r'), FloatProgress(value=1.0, max…"
            ],
            "application/vnd.jupyter.widget-view+json": {
              "version_major": 2,
              "version_minor": 0,
              "model_id": "41f3ef1c2f93469ca6bbe36d2d87516e"
            }
          },
          "metadata": {}
        },
        {
          "output_type": "display_data",
          "data": {
            "text/plain": [
              "<IPython.core.display.HTML object>"
            ],
            "text/html": [
              "<style>\n",
              "    table.wandb td:nth-child(1) { padding: 0 10px; text-align: left ; width: auto;} td:nth-child(2) {text-align: left ; width: 100%}\n",
              "    .wandb-row { display: flex; flex-direction: row; flex-wrap: wrap; justify-content: flex-start; width: 100% }\n",
              "    .wandb-col { display: flex; flex-direction: column; flex-basis: 100%; flex: 1; padding: 10px; }\n",
              "    </style>\n",
              "<div class=\"wandb-row\"><div class=\"wandb-col\"><h3>Run history:</h3><br/><table class=\"wandb\"><tr><td>accuracy</td><td>▁▆▆▆▆▇▇▇▇▇▇▇█▇██▇███</td></tr><tr><td>epoch</td><td>▁▁▂▂▂▃▃▄▄▄▅▅▅▆▆▇▇▇██</td></tr><tr><td>loss</td><td>█▃▂▃▂▂▃▂▂▂▂▂▁▂▂▂▂▂▁▂</td></tr><tr><td>val_accuracy</td><td>▁▃▄▆▆▆▄▇▇▇▆█▅▇▅█▅▆██</td></tr><tr><td>val_loss</td><td>▇▄▅▂▇▂▄▂▁▂▁▂█▂▃▂▄▁▄▁</td></tr></table><br/></div><div class=\"wandb-col\"><h3>Run summary:</h3><br/><table class=\"wandb\"><tr><td>GFLOPs</td><td>0.00043</td></tr><tr><td>accuracy</td><td>0.96987</td></tr><tr><td>best_epoch</td><td>19</td></tr><tr><td>best_val_loss</td><td>0.06935</td></tr><tr><td>epoch</td><td>19</td></tr><tr><td>loss</td><td>0.14337</td></tr><tr><td>val_accuracy</td><td>0.98587</td></tr><tr><td>val_loss</td><td>0.06935</td></tr></table><br/></div></div>"
            ]
          },
          "metadata": {}
        },
        {
          "output_type": "display_data",
          "data": {
            "text/plain": [
              "<IPython.core.display.HTML object>"
            ],
            "text/html": [
              "Synced <strong style=\"color:#cdcd00\">cerulean-sweep-6</strong>: <a href=\"https://wandb.ai/gildson/GMNet-sweep/runs/5wstiu2a\" target=\"_blank\">https://wandb.ai/gildson/GMNet-sweep/runs/5wstiu2a</a><br/>Synced 5 W&B file(s), 0 media file(s), 0 artifact file(s) and 0 other file(s)"
            ]
          },
          "metadata": {}
        },
        {
          "output_type": "display_data",
          "data": {
            "text/plain": [
              "<IPython.core.display.HTML object>"
            ],
            "text/html": [
              "Find logs at: <code>./wandb/run-20221106_180440-5wstiu2a/logs</code>"
            ]
          },
          "metadata": {}
        },
        {
          "output_type": "stream",
          "name": "stderr",
          "text": [
            "Run 5wstiu2a errored: AttributeError(\"'<class 'wandb.sdk.wandb_config.Config'>' object has no attribute 'batch_size'\")\n",
            "\u001b[34m\u001b[1mwandb\u001b[0m: \u001b[32m\u001b[41mERROR\u001b[0m Run 5wstiu2a errored: AttributeError(\"'<class 'wandb.sdk.wandb_config.Config'>' object has no attribute 'batch_size'\")\n",
            "Detected 5 failed runs in a row at start, killing sweep.\n",
            "\u001b[34m\u001b[1mwandb\u001b[0m: \u001b[32m\u001b[41mERROR\u001b[0m Detected 5 failed runs in a row at start, killing sweep.\n",
            "\u001b[34m\u001b[1mwandb\u001b[0m: To change this value set WANDB_AGENT_MAX_INITIAL_FAILURES=val\n"
          ]
        }
      ]
    },
    {
      "cell_type": "markdown",
      "source": [
        "Evaluation Metrics"
      ],
      "metadata": {
        "id": "LJCyIkzI4OrK"
      }
    },
    {
      "cell_type": "code",
      "source": [
        "# plot the training loss and accuracy\n",
        "plt.style.use(\"ggplot\")\n",
        "fig, ax = plt.subplots(1,1,figsize=(10,8))\n",
        "\n",
        "ax.plot(np.arange(0, 20), history.history[\"loss\"], label=\"train_loss\",linestyle='--')\n",
        "ax.plot(np.arange(0, 20), history.history[\"val_loss\"], label=\"val_loss\",linestyle='--')\n",
        "ax.plot(np.arange(0, 20), history.history[\"accuracy\"], label=\"train_acc\")\n",
        "ax.plot(np.arange(0, 20), history.history[\"val_accuracy\"], label=\"val_acc\")\n",
        "ax.set_title(\"Training Loss and Accuracy\")\n",
        "ax.set_xlabel(\"Epoch #\")\n",
        "ax.set_ylabel(\"Loss/Accuracy\")\n",
        "ax.legend()\n",
        "plt.show()"
      ],
      "metadata": {
        "colab": {
          "base_uri": "https://localhost:8080/",
          "height": 517
        },
        "id": "c7gM_DK74MZG",
        "outputId": "6059188f-9cdc-42fe-8db5-7c649160f085"
      },
      "execution_count": null,
      "outputs": [
        {
          "output_type": "display_data",
          "data": {
            "text/plain": [
              "<Figure size 720x576 with 1 Axes>"
            ],
            "image/png": "[encoded data removed]"
          },
          "metadata": {}
        }
      ]
    },
    {
      "cell_type": "code",
      "source": [
        "print(\"[INFO] {} kWh of electricity used since the begining\".format(tracker.final_emissions_data.energy_consumed))\n",
        "print(\"[INFO] Energy consumed for RAM: {} kWh\".format(tracker.final_emissions_data.ram_energy))\n",
        "print(\"[INFO] Energy consumed for all GPU: {} kWh\".format(tracker.final_emissions_data.gpu_energy))\n",
        "print(\"[INFO] Energy consumed for all CPU: {} kWh\".format(tracker.final_emissions_data.cpu_energy))\n",
        "print(\"[INFO] CO2 emission {}(in Kg)\".format(tracker.final_emissions_data.emissions))"
      ],
      "metadata": {
        "colab": {
          "base_uri": "https://localhost:8080/"
        },
        "id": "xnQDWB3U4R5T",
        "outputId": "bab759cf-6814-4416-f12a-05967dc66008"
      },
      "execution_count": null,
      "outputs": [
        {
          "output_type": "stream",
          "name": "stdout",
          "text": [
            "[INFO] 0.003080919765514774 kWh of electricity used since the begining\n",
            "[INFO] Energy consumed for RAM: 0.0001886769740191205 kWh\n",
            "[INFO] Energy consumed for all GPU: 0.001204888116063608 kWh\n",
            "[INFO] Energy consumed for all CPU: 0.001687354675432046 kWh\n",
            "[INFO] CO2 emission 0.0012227406967499123(in Kg)\n"
          ]
        }
      ]
    },
    {
      "cell_type": "code",
      "source": [
        "# evaluate the network\n",
        "print(\"[INFO] evaluating network...\")\n",
        "predictions = model.predict(test_x, batch_size=32)\n",
        "print(classification_report(test_y.argmax(axis=1),\n",
        "                            predictions.argmax(axis=1),\n",
        "                            target_names=[str(i) for i in lb.classes_]))"
      ],
      "metadata": {
        "colab": {
          "base_uri": "https://localhost:8080/"
        },
        "id": "ULhgx4Xn4T_o",
        "outputId": "90cf6767-2f10-4e85-e9e3-9a949978eeae"
      },
      "execution_count": null,
      "outputs": [
        {
          "output_type": "stream",
          "name": "stdout",
          "text": [
            "[INFO] evaluating network...\n",
            "313/313 [==============================] - 1s 2ms/step\n",
            "              precision    recall  f1-score   support\n",
            "\n",
            "           0       0.97      1.00      0.98       980\n",
            "           1       0.99      1.00      0.99      1135\n",
            "           2       0.99      0.99      0.99      1032\n",
            "           3       0.99      1.00      0.99      1010\n",
            "           4       0.99      0.99      0.99       982\n",
            "           5       0.98      0.99      0.98       892\n",
            "           6       1.00      0.97      0.98       958\n",
            "           7       0.97      1.00      0.98      1028\n",
            "           8       1.00      0.97      0.98       974\n",
            "           9       0.98      0.97      0.98      1009\n",
            "\n",
            "    accuracy                           0.99     10000\n",
            "   macro avg       0.99      0.99      0.99     10000\n",
            "weighted avg       0.99      0.99      0.99     10000\n",
            "\n"
          ]
        }
      ]
    },
    {
      "cell_type": "code",
      "source": [
        "fig_confusion_matrix, ax = plt.subplots(1,1,figsize=(7,4))\n",
        "ConfusionMatrixDisplay(confusion_matrix(predictions.argmax(axis=1),\n",
        "                                        test_y.argmax(axis=1)),\n",
        "                       display_labels=lb.classes_).plot(values_format=\".0f\",ax=ax)\n",
        "\n",
        "ax.set_xlabel(\"True Label\")\n",
        "ax.set_ylabel(\"Predicted Label\")\n",
        "ax.grid(False)\n",
        "plt.show()"
      ],
      "metadata": {
        "colab": {
          "base_uri": "https://localhost:8080/",
          "height": 282
        },
        "id": "i_gWsXIK4XGd",
        "outputId": "914a4631-d581-4d3f-c304-b377a8f0a138"
      },
      "execution_count": null,
      "outputs": [
        {
          "output_type": "display_data",
          "data": {
            "text/plain": [
              "<Figure size 504x288 with 2 Axes>"
            ],
            "image/png": "[encoded data removed]"
          },
          "metadata": {}
        }
      ]
    },
    {
      "cell_type": "code",
      "source": [
        "# Uploading figures\n",
        "logger.info(\"Uploading figures\")\n",
        "run.log(\n",
        "    {\n",
        "        \"confusion_matrix\": wandb.Image(fig_confusion_matrix),\n",
        "        # \"other_figure\": wandb.Image(other_fig)\n",
        "    }\n",
        ")"
      ],
      "metadata": {
        "colab": {
          "base_uri": "https://localhost:8080/"
        },
        "id": "RMKC0n1l4aCp",
        "outputId": "9332beb5-9bb2-462c-cb32-f18dbdc836dd"
      },
      "execution_count": null,
      "outputs": [
        {
          "output_type": "stream",
          "name": "stderr",
          "text": [
            "06-11-2022 18:09:08 Uploading figures\n"
          ]
        }
      ]
    },
    {
      "cell_type": "code",
      "source": [
        "# Evaluation Metrics\n",
        "logger.info(\"Validation Evaluation metrics\")\n",
        "fbeta = fbeta_score(test_y.argmax(axis=1), \n",
        "                    predictions.argmax(axis=1), \n",
        "                    beta=1, zero_division=1,average='weighted')\n",
        "precision = precision_score(test_y.argmax(axis=1),\n",
        "                            predictions.argmax(axis=1),\n",
        "                            zero_division=1,average='weighted')\n",
        "recall = recall_score(test_y.argmax(axis=1),\n",
        "                      predictions.argmax(axis=1),\n",
        "                      zero_division=1,average='weighted')\n",
        "acc = accuracy_score(test_y.argmax(axis=1),\n",
        "                     predictions.argmax(axis=1))\n",
        "\n",
        "logger.info(\"Validation Accuracy: {}\".format(acc))\n",
        "logger.info(\"Validation Precision: {}\".format(precision))\n",
        "logger.info(\"Validation Recall: {}\".format(recall))\n",
        "logger.info(\"Validation F1: {}\".format(fbeta))\n",
        "\n",
        "run.summary[\"Acc\"] = acc\n",
        "run.summary[\"Precision\"] = precision\n",
        "run.summary[\"Recall\"] = recall\n",
        "run.summary[\"F1\"] = fbeta\n",
        "# number of parameters\n",
        "run.summary[\"Count_Params\"] = model.count_params()\n",
        "# energy unit is kWh\n",
        "run.summary[\"Energy_Consumed\"] = tracker.final_emissions_data.energy_consumed\n",
        "run.summary[\"Energy_RAM\"] = tracker.final_emissions_data.ram_energy\n",
        "run.summary[\"Energy_GPU\"] = tracker.final_emissions_data.gpu_energy\n",
        "run.summary[\"Energy_CPU\"] = tracker.final_emissions_data.cpu_energy\n",
        "# kg\n",
        "run.summary[\"CO2_Emissions\"] = tracker.final_emissions_data.emissions"
      ],
      "metadata": {
        "colab": {
          "base_uri": "https://localhost:8080/"
        },
        "id": "9fJ1MRTD4c-0",
        "outputId": "388ff523-96b9-4f25-a5ea-5066695ba8df"
      },
      "execution_count": null,
      "outputs": [
        {
          "output_type": "stream",
          "name": "stderr",
          "text": [
            "06-11-2022 18:09:17 Validation Evaluation metrics\n",
            "06-11-2022 18:09:17 Validation Accuracy: 0.9859\n",
            "06-11-2022 18:09:17 Validation Precision: 0.9860500401734689\n",
            "06-11-2022 18:09:17 Validation Recall: 0.9859\n",
            "06-11-2022 18:09:17 Validation F1: 0.9858856036421497\n"
          ]
        }
      ]
    },
    {
      "cell_type": "code",
      "source": [
        "run.finish()"
      ],
      "metadata": {
        "id": "00cS_por4g5d"
      },
      "execution_count": null,
      "outputs": []
    }
  ]
}